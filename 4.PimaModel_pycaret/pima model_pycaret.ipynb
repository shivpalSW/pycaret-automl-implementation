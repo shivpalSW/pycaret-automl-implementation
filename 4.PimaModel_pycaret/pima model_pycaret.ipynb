{
 "cells": [
  {
   "cell_type": "markdown",
   "id": "47fd341c",
   "metadata": {},
   "source": [
    "# Pima model _pycaret"
   ]
  },
  {
   "cell_type": "code",
   "execution_count": 13,
   "id": "76d78d17",
   "metadata": {},
   "outputs": [],
   "source": [
    "import pandas as pd"
   ]
  },
  {
   "cell_type": "markdown",
   "id": "ccb3ba5a",
   "metadata": {},
   "source": [
    "## loading the data \n"
   ]
  },
  {
   "cell_type": "code",
   "execution_count": 14,
   "id": "4bc048e3",
   "metadata": {},
   "outputs": [],
   "source": [
    "dataset=pd.read_csv('diabetes.csv')"
   ]
  },
  {
   "cell_type": "code",
   "execution_count": 15,
   "id": "c676562f",
   "metadata": {},
   "outputs": [
    {
     "data": {
      "text/html": [
       "<div>\n",
       "<style scoped>\n",
       "    .dataframe tbody tr th:only-of-type {\n",
       "        vertical-align: middle;\n",
       "    }\n",
       "\n",
       "    .dataframe tbody tr th {\n",
       "        vertical-align: top;\n",
       "    }\n",
       "\n",
       "    .dataframe thead th {\n",
       "        text-align: right;\n",
       "    }\n",
       "</style>\n",
       "<table border=\"1\" class=\"dataframe\">\n",
       "  <thead>\n",
       "    <tr style=\"text-align: right;\">\n",
       "      <th></th>\n",
       "      <th>Pregnancies</th>\n",
       "      <th>Glucose</th>\n",
       "      <th>BloodPressure</th>\n",
       "      <th>SkinThickness</th>\n",
       "      <th>Insulin</th>\n",
       "      <th>BMI</th>\n",
       "      <th>DiabetesPedigreeFunction</th>\n",
       "      <th>Age</th>\n",
       "      <th>Outcome</th>\n",
       "    </tr>\n",
       "  </thead>\n",
       "  <tbody>\n",
       "    <tr>\n",
       "      <th>0</th>\n",
       "      <td>6</td>\n",
       "      <td>148</td>\n",
       "      <td>72</td>\n",
       "      <td>35</td>\n",
       "      <td>0</td>\n",
       "      <td>33.6</td>\n",
       "      <td>0.627</td>\n",
       "      <td>50</td>\n",
       "      <td>1</td>\n",
       "    </tr>\n",
       "    <tr>\n",
       "      <th>1</th>\n",
       "      <td>1</td>\n",
       "      <td>85</td>\n",
       "      <td>66</td>\n",
       "      <td>29</td>\n",
       "      <td>0</td>\n",
       "      <td>26.6</td>\n",
       "      <td>0.351</td>\n",
       "      <td>31</td>\n",
       "      <td>0</td>\n",
       "    </tr>\n",
       "    <tr>\n",
       "      <th>2</th>\n",
       "      <td>8</td>\n",
       "      <td>183</td>\n",
       "      <td>64</td>\n",
       "      <td>0</td>\n",
       "      <td>0</td>\n",
       "      <td>23.3</td>\n",
       "      <td>0.672</td>\n",
       "      <td>32</td>\n",
       "      <td>1</td>\n",
       "    </tr>\n",
       "    <tr>\n",
       "      <th>3</th>\n",
       "      <td>1</td>\n",
       "      <td>89</td>\n",
       "      <td>66</td>\n",
       "      <td>23</td>\n",
       "      <td>94</td>\n",
       "      <td>28.1</td>\n",
       "      <td>0.167</td>\n",
       "      <td>21</td>\n",
       "      <td>0</td>\n",
       "    </tr>\n",
       "    <tr>\n",
       "      <th>4</th>\n",
       "      <td>0</td>\n",
       "      <td>137</td>\n",
       "      <td>40</td>\n",
       "      <td>35</td>\n",
       "      <td>168</td>\n",
       "      <td>43.1</td>\n",
       "      <td>2.288</td>\n",
       "      <td>33</td>\n",
       "      <td>1</td>\n",
       "    </tr>\n",
       "  </tbody>\n",
       "</table>\n",
       "</div>"
      ],
      "text/plain": [
       "   Pregnancies  Glucose  BloodPressure  SkinThickness  Insulin   BMI  \\\n",
       "0            6      148             72             35        0  33.6   \n",
       "1            1       85             66             29        0  26.6   \n",
       "2            8      183             64              0        0  23.3   \n",
       "3            1       89             66             23       94  28.1   \n",
       "4            0      137             40             35      168  43.1   \n",
       "\n",
       "   DiabetesPedigreeFunction  Age  Outcome  \n",
       "0                     0.627   50        1  \n",
       "1                     0.351   31        0  \n",
       "2                     0.672   32        1  \n",
       "3                     0.167   21        0  \n",
       "4                     2.288   33        1  "
      ]
     },
     "execution_count": 15,
     "metadata": {},
     "output_type": "execute_result"
    }
   ],
   "source": [
    "dataset.head()"
   ]
  },
  {
   "cell_type": "code",
   "execution_count": 16,
   "id": "2e105b22",
   "metadata": {},
   "outputs": [
    {
     "data": {
      "text/plain": [
       "(768, 9)"
      ]
     },
     "execution_count": 16,
     "metadata": {},
     "output_type": "execute_result"
    }
   ],
   "source": [
    "dataset.shape # we have  768 rows and 9 data columns  \n"
   ]
  },
  {
   "cell_type": "markdown",
   "id": "c3a4e4fb",
   "metadata": {},
   "source": [
    "## EDA"
   ]
  },
  {
   "cell_type": "code",
   "execution_count": 17,
   "id": "0a246867",
   "metadata": {},
   "outputs": [
    {
     "data": {
      "text/html": [
       "        <script type=\"text/javascript\">\n",
       "        window.PlotlyConfig = {MathJaxConfig: 'local'};\n",
       "        if (window.MathJax && window.MathJax.Hub && window.MathJax.Hub.Config) {window.MathJax.Hub.Config({SVG: {font: \"STIX-Web\"}});}\n",
       "        if (typeof require !== 'undefined') {\n",
       "        require.undef(\"plotly\");\n",
       "        requirejs.config({\n",
       "            paths: {\n",
       "                'plotly': ['https://cdn.plot.ly/plotly-2.16.1.min']\n",
       "            }\n",
       "        });\n",
       "        require(['plotly'], function(Plotly) {\n",
       "            window._Plotly = Plotly;\n",
       "        });\n",
       "        }\n",
       "        </script>\n",
       "        "
      ]
     },
     "metadata": {},
     "output_type": "display_data"
    }
   ],
   "source": [
    "import seaborn as sns\n",
    "import matplotlib.pyplot as plt\n",
    "%matplotlib inline\n",
    "\n",
    "import plotly.offline as py\n",
    "import plotly.graph_objs as go\n",
    "\n",
    "from plotly.offline import download_plotlyjs, init_notebook_mode, plot, iplot\n",
    "import plotly.tools as tls\n",
    "\n",
    "import plotly.figure_factory as ff\n",
    "py.init_notebook_mode(connected=True)\n",
    "import squarify"
   ]
  },
  {
   "cell_type": "code",
   "execution_count": 18,
   "id": "ff3273b2",
   "metadata": {},
   "outputs": [],
   "source": [
    "Diabetic = dataset[(dataset['Outcome'] != 0)]\n",
    "Non_diabetic = dataset[(dataset['Outcome'] == 0)]\n",
    "\n",
    "\n",
    "def target_count():\n",
    "    trace = go.Bar( x = dataset['Outcome'].value_counts().values.tolist(), \n",
    "                    y = ['Non_diabetic','diabetic' ], \n",
    "                    orientation = 'h', \n",
    "                    text=dataset['Outcome'].value_counts().values.tolist(), \n",
    "                    textfont=dict(size=15),\n",
    "                    textposition = 'auto',\n",
    "                    opacity = 0.8,marker=dict(\n",
    "                    color=['lightskyblue', 'gold'],\n",
    "                    line=dict(color='#000000',width=1.5)))\n",
    "\n",
    "    layout = dict(title =  'Outcome variable')\n",
    "\n",
    "    fig = dict(data = [trace], layout=layout)\n",
    "    py.iplot(fig)"
   ]
  },
  {
   "cell_type": "code",
   "execution_count": 19,
   "id": "e0bf29c7",
   "metadata": {},
   "outputs": [
    {
     "data": {
      "application/vnd.plotly.v1+json": {
       "config": {
        "linkText": "Export to plot.ly",
        "plotlyServerURL": "https://plot.ly",
        "showLink": false
       },
       "data": [
        {
         "marker": {
          "color": [
           "lightskyblue",
           "gold"
          ],
          "line": {
           "color": "#000000",
           "width": 1.5
          }
         },
         "opacity": 0.8,
         "orientation": "h",
         "text": [
          "500",
          "268"
         ],
         "textfont": {
          "size": 15
         },
         "textposition": "auto",
         "type": "bar",
         "x": [
          500,
          268
         ],
         "y": [
          "Non_diabetic",
          "diabetic"
         ]
        }
       ],
       "layout": {
        "template": {
         "data": {
          "bar": [
           {
            "error_x": {
             "color": "#2a3f5f"
            },
            "error_y": {
             "color": "#2a3f5f"
            },
            "marker": {
             "line": {
              "color": "#E5ECF6",
              "width": 0.5
             },
             "pattern": {
              "fillmode": "overlay",
              "size": 10,
              "solidity": 0.2
             }
            },
            "type": "bar"
           }
          ],
          "barpolar": [
           {
            "marker": {
             "line": {
              "color": "#E5ECF6",
              "width": 0.5
             },
             "pattern": {
              "fillmode": "overlay",
              "size": 10,
              "solidity": 0.2
             }
            },
            "type": "barpolar"
           }
          ],
          "carpet": [
           {
            "aaxis": {
             "endlinecolor": "#2a3f5f",
             "gridcolor": "white",
             "linecolor": "white",
             "minorgridcolor": "white",
             "startlinecolor": "#2a3f5f"
            },
            "baxis": {
             "endlinecolor": "#2a3f5f",
             "gridcolor": "white",
             "linecolor": "white",
             "minorgridcolor": "white",
             "startlinecolor": "#2a3f5f"
            },
            "type": "carpet"
           }
          ],
          "choropleth": [
           {
            "colorbar": {
             "outlinewidth": 0,
             "ticks": ""
            },
            "type": "choropleth"
           }
          ],
          "contour": [
           {
            "colorbar": {
             "outlinewidth": 0,
             "ticks": ""
            },
            "colorscale": [
             [
              0,
              "#0d0887"
             ],
             [
              0.1111111111111111,
              "#46039f"
             ],
             [
              0.2222222222222222,
              "#7201a8"
             ],
             [
              0.3333333333333333,
              "#9c179e"
             ],
             [
              0.4444444444444444,
              "#bd3786"
             ],
             [
              0.5555555555555556,
              "#d8576b"
             ],
             [
              0.6666666666666666,
              "#ed7953"
             ],
             [
              0.7777777777777778,
              "#fb9f3a"
             ],
             [
              0.8888888888888888,
              "#fdca26"
             ],
             [
              1,
              "#f0f921"
             ]
            ],
            "type": "contour"
           }
          ],
          "contourcarpet": [
           {
            "colorbar": {
             "outlinewidth": 0,
             "ticks": ""
            },
            "type": "contourcarpet"
           }
          ],
          "heatmap": [
           {
            "colorbar": {
             "outlinewidth": 0,
             "ticks": ""
            },
            "colorscale": [
             [
              0,
              "#0d0887"
             ],
             [
              0.1111111111111111,
              "#46039f"
             ],
             [
              0.2222222222222222,
              "#7201a8"
             ],
             [
              0.3333333333333333,
              "#9c179e"
             ],
             [
              0.4444444444444444,
              "#bd3786"
             ],
             [
              0.5555555555555556,
              "#d8576b"
             ],
             [
              0.6666666666666666,
              "#ed7953"
             ],
             [
              0.7777777777777778,
              "#fb9f3a"
             ],
             [
              0.8888888888888888,
              "#fdca26"
             ],
             [
              1,
              "#f0f921"
             ]
            ],
            "type": "heatmap"
           }
          ],
          "heatmapgl": [
           {
            "colorbar": {
             "outlinewidth": 0,
             "ticks": ""
            },
            "colorscale": [
             [
              0,
              "#0d0887"
             ],
             [
              0.1111111111111111,
              "#46039f"
             ],
             [
              0.2222222222222222,
              "#7201a8"
             ],
             [
              0.3333333333333333,
              "#9c179e"
             ],
             [
              0.4444444444444444,
              "#bd3786"
             ],
             [
              0.5555555555555556,
              "#d8576b"
             ],
             [
              0.6666666666666666,
              "#ed7953"
             ],
             [
              0.7777777777777778,
              "#fb9f3a"
             ],
             [
              0.8888888888888888,
              "#fdca26"
             ],
             [
              1,
              "#f0f921"
             ]
            ],
            "type": "heatmapgl"
           }
          ],
          "histogram": [
           {
            "marker": {
             "pattern": {
              "fillmode": "overlay",
              "size": 10,
              "solidity": 0.2
             }
            },
            "type": "histogram"
           }
          ],
          "histogram2d": [
           {
            "colorbar": {
             "outlinewidth": 0,
             "ticks": ""
            },
            "colorscale": [
             [
              0,
              "#0d0887"
             ],
             [
              0.1111111111111111,
              "#46039f"
             ],
             [
              0.2222222222222222,
              "#7201a8"
             ],
             [
              0.3333333333333333,
              "#9c179e"
             ],
             [
              0.4444444444444444,
              "#bd3786"
             ],
             [
              0.5555555555555556,
              "#d8576b"
             ],
             [
              0.6666666666666666,
              "#ed7953"
             ],
             [
              0.7777777777777778,
              "#fb9f3a"
             ],
             [
              0.8888888888888888,
              "#fdca26"
             ],
             [
              1,
              "#f0f921"
             ]
            ],
            "type": "histogram2d"
           }
          ],
          "histogram2dcontour": [
           {
            "colorbar": {
             "outlinewidth": 0,
             "ticks": ""
            },
            "colorscale": [
             [
              0,
              "#0d0887"
             ],
             [
              0.1111111111111111,
              "#46039f"
             ],
             [
              0.2222222222222222,
              "#7201a8"
             ],
             [
              0.3333333333333333,
              "#9c179e"
             ],
             [
              0.4444444444444444,
              "#bd3786"
             ],
             [
              0.5555555555555556,
              "#d8576b"
             ],
             [
              0.6666666666666666,
              "#ed7953"
             ],
             [
              0.7777777777777778,
              "#fb9f3a"
             ],
             [
              0.8888888888888888,
              "#fdca26"
             ],
             [
              1,
              "#f0f921"
             ]
            ],
            "type": "histogram2dcontour"
           }
          ],
          "mesh3d": [
           {
            "colorbar": {
             "outlinewidth": 0,
             "ticks": ""
            },
            "type": "mesh3d"
           }
          ],
          "parcoords": [
           {
            "line": {
             "colorbar": {
              "outlinewidth": 0,
              "ticks": ""
             }
            },
            "type": "parcoords"
           }
          ],
          "pie": [
           {
            "automargin": true,
            "type": "pie"
           }
          ],
          "scatter": [
           {
            "fillpattern": {
             "fillmode": "overlay",
             "size": 10,
             "solidity": 0.2
            },
            "type": "scatter"
           }
          ],
          "scatter3d": [
           {
            "line": {
             "colorbar": {
              "outlinewidth": 0,
              "ticks": ""
             }
            },
            "marker": {
             "colorbar": {
              "outlinewidth": 0,
              "ticks": ""
             }
            },
            "type": "scatter3d"
           }
          ],
          "scattercarpet": [
           {
            "marker": {
             "colorbar": {
              "outlinewidth": 0,
              "ticks": ""
             }
            },
            "type": "scattercarpet"
           }
          ],
          "scattergeo": [
           {
            "marker": {
             "colorbar": {
              "outlinewidth": 0,
              "ticks": ""
             }
            },
            "type": "scattergeo"
           }
          ],
          "scattergl": [
           {
            "marker": {
             "colorbar": {
              "outlinewidth": 0,
              "ticks": ""
             }
            },
            "type": "scattergl"
           }
          ],
          "scattermapbox": [
           {
            "marker": {
             "colorbar": {
              "outlinewidth": 0,
              "ticks": ""
             }
            },
            "type": "scattermapbox"
           }
          ],
          "scatterpolar": [
           {
            "marker": {
             "colorbar": {
              "outlinewidth": 0,
              "ticks": ""
             }
            },
            "type": "scatterpolar"
           }
          ],
          "scatterpolargl": [
           {
            "marker": {
             "colorbar": {
              "outlinewidth": 0,
              "ticks": ""
             }
            },
            "type": "scatterpolargl"
           }
          ],
          "scatterternary": [
           {
            "marker": {
             "colorbar": {
              "outlinewidth": 0,
              "ticks": ""
             }
            },
            "type": "scatterternary"
           }
          ],
          "surface": [
           {
            "colorbar": {
             "outlinewidth": 0,
             "ticks": ""
            },
            "colorscale": [
             [
              0,
              "#0d0887"
             ],
             [
              0.1111111111111111,
              "#46039f"
             ],
             [
              0.2222222222222222,
              "#7201a8"
             ],
             [
              0.3333333333333333,
              "#9c179e"
             ],
             [
              0.4444444444444444,
              "#bd3786"
             ],
             [
              0.5555555555555556,
              "#d8576b"
             ],
             [
              0.6666666666666666,
              "#ed7953"
             ],
             [
              0.7777777777777778,
              "#fb9f3a"
             ],
             [
              0.8888888888888888,
              "#fdca26"
             ],
             [
              1,
              "#f0f921"
             ]
            ],
            "type": "surface"
           }
          ],
          "table": [
           {
            "cells": {
             "fill": {
              "color": "#EBF0F8"
             },
             "line": {
              "color": "white"
             }
            },
            "header": {
             "fill": {
              "color": "#C8D4E3"
             },
             "line": {
              "color": "white"
             }
            },
            "type": "table"
           }
          ]
         },
         "layout": {
          "annotationdefaults": {
           "arrowcolor": "#2a3f5f",
           "arrowhead": 0,
           "arrowwidth": 1
          },
          "autotypenumbers": "strict",
          "coloraxis": {
           "colorbar": {
            "outlinewidth": 0,
            "ticks": ""
           }
          },
          "colorscale": {
           "diverging": [
            [
             0,
             "#8e0152"
            ],
            [
             0.1,
             "#c51b7d"
            ],
            [
             0.2,
             "#de77ae"
            ],
            [
             0.3,
             "#f1b6da"
            ],
            [
             0.4,
             "#fde0ef"
            ],
            [
             0.5,
             "#f7f7f7"
            ],
            [
             0.6,
             "#e6f5d0"
            ],
            [
             0.7,
             "#b8e186"
            ],
            [
             0.8,
             "#7fbc41"
            ],
            [
             0.9,
             "#4d9221"
            ],
            [
             1,
             "#276419"
            ]
           ],
           "sequential": [
            [
             0,
             "#0d0887"
            ],
            [
             0.1111111111111111,
             "#46039f"
            ],
            [
             0.2222222222222222,
             "#7201a8"
            ],
            [
             0.3333333333333333,
             "#9c179e"
            ],
            [
             0.4444444444444444,
             "#bd3786"
            ],
            [
             0.5555555555555556,
             "#d8576b"
            ],
            [
             0.6666666666666666,
             "#ed7953"
            ],
            [
             0.7777777777777778,
             "#fb9f3a"
            ],
            [
             0.8888888888888888,
             "#fdca26"
            ],
            [
             1,
             "#f0f921"
            ]
           ],
           "sequentialminus": [
            [
             0,
             "#0d0887"
            ],
            [
             0.1111111111111111,
             "#46039f"
            ],
            [
             0.2222222222222222,
             "#7201a8"
            ],
            [
             0.3333333333333333,
             "#9c179e"
            ],
            [
             0.4444444444444444,
             "#bd3786"
            ],
            [
             0.5555555555555556,
             "#d8576b"
            ],
            [
             0.6666666666666666,
             "#ed7953"
            ],
            [
             0.7777777777777778,
             "#fb9f3a"
            ],
            [
             0.8888888888888888,
             "#fdca26"
            ],
            [
             1,
             "#f0f921"
            ]
           ]
          },
          "colorway": [
           "#636efa",
           "#EF553B",
           "#00cc96",
           "#ab63fa",
           "#FFA15A",
           "#19d3f3",
           "#FF6692",
           "#B6E880",
           "#FF97FF",
           "#FECB52"
          ],
          "font": {
           "color": "#2a3f5f"
          },
          "geo": {
           "bgcolor": "white",
           "lakecolor": "white",
           "landcolor": "#E5ECF6",
           "showlakes": true,
           "showland": true,
           "subunitcolor": "white"
          },
          "hoverlabel": {
           "align": "left"
          },
          "hovermode": "closest",
          "mapbox": {
           "style": "light"
          },
          "paper_bgcolor": "white",
          "plot_bgcolor": "#E5ECF6",
          "polar": {
           "angularaxis": {
            "gridcolor": "white",
            "linecolor": "white",
            "ticks": ""
           },
           "bgcolor": "#E5ECF6",
           "radialaxis": {
            "gridcolor": "white",
            "linecolor": "white",
            "ticks": ""
           }
          },
          "scene": {
           "xaxis": {
            "backgroundcolor": "#E5ECF6",
            "gridcolor": "white",
            "gridwidth": 2,
            "linecolor": "white",
            "showbackground": true,
            "ticks": "",
            "zerolinecolor": "white"
           },
           "yaxis": {
            "backgroundcolor": "#E5ECF6",
            "gridcolor": "white",
            "gridwidth": 2,
            "linecolor": "white",
            "showbackground": true,
            "ticks": "",
            "zerolinecolor": "white"
           },
           "zaxis": {
            "backgroundcolor": "#E5ECF6",
            "gridcolor": "white",
            "gridwidth": 2,
            "linecolor": "white",
            "showbackground": true,
            "ticks": "",
            "zerolinecolor": "white"
           }
          },
          "shapedefaults": {
           "line": {
            "color": "#2a3f5f"
           }
          },
          "ternary": {
           "aaxis": {
            "gridcolor": "white",
            "linecolor": "white",
            "ticks": ""
           },
           "baxis": {
            "gridcolor": "white",
            "linecolor": "white",
            "ticks": ""
           },
           "bgcolor": "#E5ECF6",
           "caxis": {
            "gridcolor": "white",
            "linecolor": "white",
            "ticks": ""
           }
          },
          "title": {
           "x": 0.05
          },
          "xaxis": {
           "automargin": true,
           "gridcolor": "white",
           "linecolor": "white",
           "ticks": "",
           "title": {
            "standoff": 15
           },
           "zerolinecolor": "white",
           "zerolinewidth": 2
          },
          "yaxis": {
           "automargin": true,
           "gridcolor": "white",
           "linecolor": "white",
           "ticks": "",
           "title": {
            "standoff": 15
           },
           "zerolinecolor": "white",
           "zerolinewidth": 2
          }
         }
        },
        "title": {
         "text": "Outcome variable"
        }
       }
      },
      "text/html": [
       "<div>                            <div id=\"a449801d-4dbf-4e18-a9cb-581efb79544e\" class=\"plotly-graph-div\" style=\"height:525px; width:100%;\"></div>            <script type=\"text/javascript\">                require([\"plotly\"], function(Plotly) {                    window.PLOTLYENV=window.PLOTLYENV || {};                                    if (document.getElementById(\"a449801d-4dbf-4e18-a9cb-581efb79544e\")) {                    Plotly.newPlot(                        \"a449801d-4dbf-4e18-a9cb-581efb79544e\",                        [{\"marker\":{\"color\":[\"lightskyblue\",\"gold\"],\"line\":{\"color\":\"#000000\",\"width\":1.5}},\"opacity\":0.8,\"orientation\":\"h\",\"text\":[\"500\",\"268\"],\"textfont\":{\"size\":15},\"textposition\":\"auto\",\"x\":[500,268],\"y\":[\"Non_diabetic\",\"diabetic\"],\"type\":\"bar\"}],                        {\"template\":{\"data\":{\"barpolar\":[{\"marker\":{\"line\":{\"color\":\"#E5ECF6\",\"width\":0.5},\"pattern\":{\"fillmode\":\"overlay\",\"size\":10,\"solidity\":0.2}},\"type\":\"barpolar\"}],\"bar\":[{\"error_x\":{\"color\":\"#2a3f5f\"},\"error_y\":{\"color\":\"#2a3f5f\"},\"marker\":{\"line\":{\"color\":\"#E5ECF6\",\"width\":0.5},\"pattern\":{\"fillmode\":\"overlay\",\"size\":10,\"solidity\":0.2}},\"type\":\"bar\"}],\"carpet\":[{\"aaxis\":{\"endlinecolor\":\"#2a3f5f\",\"gridcolor\":\"white\",\"linecolor\":\"white\",\"minorgridcolor\":\"white\",\"startlinecolor\":\"#2a3f5f\"},\"baxis\":{\"endlinecolor\":\"#2a3f5f\",\"gridcolor\":\"white\",\"linecolor\":\"white\",\"minorgridcolor\":\"white\",\"startlinecolor\":\"#2a3f5f\"},\"type\":\"carpet\"}],\"choropleth\":[{\"colorbar\":{\"outlinewidth\":0,\"ticks\":\"\"},\"type\":\"choropleth\"}],\"contourcarpet\":[{\"colorbar\":{\"outlinewidth\":0,\"ticks\":\"\"},\"type\":\"contourcarpet\"}],\"contour\":[{\"colorbar\":{\"outlinewidth\":0,\"ticks\":\"\"},\"colorscale\":[[0.0,\"#0d0887\"],[0.1111111111111111,\"#46039f\"],[0.2222222222222222,\"#7201a8\"],[0.3333333333333333,\"#9c179e\"],[0.4444444444444444,\"#bd3786\"],[0.5555555555555556,\"#d8576b\"],[0.6666666666666666,\"#ed7953\"],[0.7777777777777778,\"#fb9f3a\"],[0.8888888888888888,\"#fdca26\"],[1.0,\"#f0f921\"]],\"type\":\"contour\"}],\"heatmapgl\":[{\"colorbar\":{\"outlinewidth\":0,\"ticks\":\"\"},\"colorscale\":[[0.0,\"#0d0887\"],[0.1111111111111111,\"#46039f\"],[0.2222222222222222,\"#7201a8\"],[0.3333333333333333,\"#9c179e\"],[0.4444444444444444,\"#bd3786\"],[0.5555555555555556,\"#d8576b\"],[0.6666666666666666,\"#ed7953\"],[0.7777777777777778,\"#fb9f3a\"],[0.8888888888888888,\"#fdca26\"],[1.0,\"#f0f921\"]],\"type\":\"heatmapgl\"}],\"heatmap\":[{\"colorbar\":{\"outlinewidth\":0,\"ticks\":\"\"},\"colorscale\":[[0.0,\"#0d0887\"],[0.1111111111111111,\"#46039f\"],[0.2222222222222222,\"#7201a8\"],[0.3333333333333333,\"#9c179e\"],[0.4444444444444444,\"#bd3786\"],[0.5555555555555556,\"#d8576b\"],[0.6666666666666666,\"#ed7953\"],[0.7777777777777778,\"#fb9f3a\"],[0.8888888888888888,\"#fdca26\"],[1.0,\"#f0f921\"]],\"type\":\"heatmap\"}],\"histogram2dcontour\":[{\"colorbar\":{\"outlinewidth\":0,\"ticks\":\"\"},\"colorscale\":[[0.0,\"#0d0887\"],[0.1111111111111111,\"#46039f\"],[0.2222222222222222,\"#7201a8\"],[0.3333333333333333,\"#9c179e\"],[0.4444444444444444,\"#bd3786\"],[0.5555555555555556,\"#d8576b\"],[0.6666666666666666,\"#ed7953\"],[0.7777777777777778,\"#fb9f3a\"],[0.8888888888888888,\"#fdca26\"],[1.0,\"#f0f921\"]],\"type\":\"histogram2dcontour\"}],\"histogram2d\":[{\"colorbar\":{\"outlinewidth\":0,\"ticks\":\"\"},\"colorscale\":[[0.0,\"#0d0887\"],[0.1111111111111111,\"#46039f\"],[0.2222222222222222,\"#7201a8\"],[0.3333333333333333,\"#9c179e\"],[0.4444444444444444,\"#bd3786\"],[0.5555555555555556,\"#d8576b\"],[0.6666666666666666,\"#ed7953\"],[0.7777777777777778,\"#fb9f3a\"],[0.8888888888888888,\"#fdca26\"],[1.0,\"#f0f921\"]],\"type\":\"histogram2d\"}],\"histogram\":[{\"marker\":{\"pattern\":{\"fillmode\":\"overlay\",\"size\":10,\"solidity\":0.2}},\"type\":\"histogram\"}],\"mesh3d\":[{\"colorbar\":{\"outlinewidth\":0,\"ticks\":\"\"},\"type\":\"mesh3d\"}],\"parcoords\":[{\"line\":{\"colorbar\":{\"outlinewidth\":0,\"ticks\":\"\"}},\"type\":\"parcoords\"}],\"pie\":[{\"automargin\":true,\"type\":\"pie\"}],\"scatter3d\":[{\"line\":{\"colorbar\":{\"outlinewidth\":0,\"ticks\":\"\"}},\"marker\":{\"colorbar\":{\"outlinewidth\":0,\"ticks\":\"\"}},\"type\":\"scatter3d\"}],\"scattercarpet\":[{\"marker\":{\"colorbar\":{\"outlinewidth\":0,\"ticks\":\"\"}},\"type\":\"scattercarpet\"}],\"scattergeo\":[{\"marker\":{\"colorbar\":{\"outlinewidth\":0,\"ticks\":\"\"}},\"type\":\"scattergeo\"}],\"scattergl\":[{\"marker\":{\"colorbar\":{\"outlinewidth\":0,\"ticks\":\"\"}},\"type\":\"scattergl\"}],\"scattermapbox\":[{\"marker\":{\"colorbar\":{\"outlinewidth\":0,\"ticks\":\"\"}},\"type\":\"scattermapbox\"}],\"scatterpolargl\":[{\"marker\":{\"colorbar\":{\"outlinewidth\":0,\"ticks\":\"\"}},\"type\":\"scatterpolargl\"}],\"scatterpolar\":[{\"marker\":{\"colorbar\":{\"outlinewidth\":0,\"ticks\":\"\"}},\"type\":\"scatterpolar\"}],\"scatter\":[{\"fillpattern\":{\"fillmode\":\"overlay\",\"size\":10,\"solidity\":0.2},\"type\":\"scatter\"}],\"scatterternary\":[{\"marker\":{\"colorbar\":{\"outlinewidth\":0,\"ticks\":\"\"}},\"type\":\"scatterternary\"}],\"surface\":[{\"colorbar\":{\"outlinewidth\":0,\"ticks\":\"\"},\"colorscale\":[[0.0,\"#0d0887\"],[0.1111111111111111,\"#46039f\"],[0.2222222222222222,\"#7201a8\"],[0.3333333333333333,\"#9c179e\"],[0.4444444444444444,\"#bd3786\"],[0.5555555555555556,\"#d8576b\"],[0.6666666666666666,\"#ed7953\"],[0.7777777777777778,\"#fb9f3a\"],[0.8888888888888888,\"#fdca26\"],[1.0,\"#f0f921\"]],\"type\":\"surface\"}],\"table\":[{\"cells\":{\"fill\":{\"color\":\"#EBF0F8\"},\"line\":{\"color\":\"white\"}},\"header\":{\"fill\":{\"color\":\"#C8D4E3\"},\"line\":{\"color\":\"white\"}},\"type\":\"table\"}]},\"layout\":{\"annotationdefaults\":{\"arrowcolor\":\"#2a3f5f\",\"arrowhead\":0,\"arrowwidth\":1},\"autotypenumbers\":\"strict\",\"coloraxis\":{\"colorbar\":{\"outlinewidth\":0,\"ticks\":\"\"}},\"colorscale\":{\"diverging\":[[0,\"#8e0152\"],[0.1,\"#c51b7d\"],[0.2,\"#de77ae\"],[0.3,\"#f1b6da\"],[0.4,\"#fde0ef\"],[0.5,\"#f7f7f7\"],[0.6,\"#e6f5d0\"],[0.7,\"#b8e186\"],[0.8,\"#7fbc41\"],[0.9,\"#4d9221\"],[1,\"#276419\"]],\"sequential\":[[0.0,\"#0d0887\"],[0.1111111111111111,\"#46039f\"],[0.2222222222222222,\"#7201a8\"],[0.3333333333333333,\"#9c179e\"],[0.4444444444444444,\"#bd3786\"],[0.5555555555555556,\"#d8576b\"],[0.6666666666666666,\"#ed7953\"],[0.7777777777777778,\"#fb9f3a\"],[0.8888888888888888,\"#fdca26\"],[1.0,\"#f0f921\"]],\"sequentialminus\":[[0.0,\"#0d0887\"],[0.1111111111111111,\"#46039f\"],[0.2222222222222222,\"#7201a8\"],[0.3333333333333333,\"#9c179e\"],[0.4444444444444444,\"#bd3786\"],[0.5555555555555556,\"#d8576b\"],[0.6666666666666666,\"#ed7953\"],[0.7777777777777778,\"#fb9f3a\"],[0.8888888888888888,\"#fdca26\"],[1.0,\"#f0f921\"]]},\"colorway\":[\"#636efa\",\"#EF553B\",\"#00cc96\",\"#ab63fa\",\"#FFA15A\",\"#19d3f3\",\"#FF6692\",\"#B6E880\",\"#FF97FF\",\"#FECB52\"],\"font\":{\"color\":\"#2a3f5f\"},\"geo\":{\"bgcolor\":\"white\",\"lakecolor\":\"white\",\"landcolor\":\"#E5ECF6\",\"showlakes\":true,\"showland\":true,\"subunitcolor\":\"white\"},\"hoverlabel\":{\"align\":\"left\"},\"hovermode\":\"closest\",\"mapbox\":{\"style\":\"light\"},\"paper_bgcolor\":\"white\",\"plot_bgcolor\":\"#E5ECF6\",\"polar\":{\"angularaxis\":{\"gridcolor\":\"white\",\"linecolor\":\"white\",\"ticks\":\"\"},\"bgcolor\":\"#E5ECF6\",\"radialaxis\":{\"gridcolor\":\"white\",\"linecolor\":\"white\",\"ticks\":\"\"}},\"scene\":{\"xaxis\":{\"backgroundcolor\":\"#E5ECF6\",\"gridcolor\":\"white\",\"gridwidth\":2,\"linecolor\":\"white\",\"showbackground\":true,\"ticks\":\"\",\"zerolinecolor\":\"white\"},\"yaxis\":{\"backgroundcolor\":\"#E5ECF6\",\"gridcolor\":\"white\",\"gridwidth\":2,\"linecolor\":\"white\",\"showbackground\":true,\"ticks\":\"\",\"zerolinecolor\":\"white\"},\"zaxis\":{\"backgroundcolor\":\"#E5ECF6\",\"gridcolor\":\"white\",\"gridwidth\":2,\"linecolor\":\"white\",\"showbackground\":true,\"ticks\":\"\",\"zerolinecolor\":\"white\"}},\"shapedefaults\":{\"line\":{\"color\":\"#2a3f5f\"}},\"ternary\":{\"aaxis\":{\"gridcolor\":\"white\",\"linecolor\":\"white\",\"ticks\":\"\"},\"baxis\":{\"gridcolor\":\"white\",\"linecolor\":\"white\",\"ticks\":\"\"},\"bgcolor\":\"#E5ECF6\",\"caxis\":{\"gridcolor\":\"white\",\"linecolor\":\"white\",\"ticks\":\"\"}},\"title\":{\"x\":0.05},\"xaxis\":{\"automargin\":true,\"gridcolor\":\"white\",\"linecolor\":\"white\",\"ticks\":\"\",\"title\":{\"standoff\":15},\"zerolinecolor\":\"white\",\"zerolinewidth\":2},\"yaxis\":{\"automargin\":true,\"gridcolor\":\"white\",\"linecolor\":\"white\",\"ticks\":\"\",\"title\":{\"standoff\":15},\"zerolinecolor\":\"white\",\"zerolinewidth\":2}}},\"title\":{\"text\":\"Outcome variable\"}},                        {\"responsive\": true}                    ).then(function(){\n",
       "                            \n",
       "var gd = document.getElementById('a449801d-4dbf-4e18-a9cb-581efb79544e');\n",
       "var x = new MutationObserver(function (mutations, observer) {{\n",
       "        var display = window.getComputedStyle(gd).display;\n",
       "        if (!display || display === 'none') {{\n",
       "            console.log([gd, 'removed!']);\n",
       "            Plotly.purge(gd);\n",
       "            observer.disconnect();\n",
       "        }}\n",
       "}});\n",
       "\n",
       "// Listen for the removal of the full notebook cells\n",
       "var notebookContainer = gd.closest('#notebook-container');\n",
       "if (notebookContainer) {{\n",
       "    x.observe(notebookContainer, {childList: true});\n",
       "}}\n",
       "\n",
       "// Listen for the clearing of the current output cell\n",
       "var outputEl = gd.closest('.output');\n",
       "if (outputEl) {{\n",
       "    x.observe(outputEl, {childList: true});\n",
       "}}\n",
       "\n",
       "                        })                };                });            </script>        </div>"
      ]
     },
     "metadata": {},
     "output_type": "display_data"
    }
   ],
   "source": [
    "target_count()"
   ]
  },
  {
   "cell_type": "markdown",
   "id": "b384593f",
   "metadata": {},
   "source": [
    "####  Dataset is clearly unbalanced we can use SMOTE sampling to balance the classes. But In this notebook we are not going to look at it."
   ]
  },
  {
   "cell_type": "code",
   "execution_count": 20,
   "id": "7a44eb0c",
   "metadata": {},
   "outputs": [
    {
     "data": {
      "image/png": "[encoded data removed]",
      "text/plain": [
       "<Figure size 2000x2000 with 9 Axes>"
      ]
     },
     "metadata": {},
     "output_type": "display_data"
    }
   ],
   "source": [
    "# Visulazing the distibution of the data for every feature\n",
    "plt.figure(figsize=(20, 20))\n",
    "\n",
    "for i, column in enumerate(dataset.columns, 1):\n",
    "    plt.subplot(3, 3, i)\n",
    "    dataset[dataset[\"Outcome\"] == 0][column].hist(bins=35, color='blue', label='Have Diabetes = NO', alpha=0.6)\n",
    "    dataset[dataset[\"Outcome\"] == 1][column].hist(bins=35, color='yellow', label='Have Diabetes = YES', alpha=0.6)\n",
    "    plt.legend()\n",
    "    plt.xlabel(column)"
   ]
  },
  {
   "cell_type": "raw",
   "id": "53e11106",
   "metadata": {},
   "source": [
    "Before doing anything the first thing we need to do is splitting data into training set and validation set.\n",
    "\n",
    "1. Training set : - Data set on which we build the model and fine tune the model.\n",
    "\n",
    "2. Validation set: - Data set on which we test how well our finalized model is performing. It is important that during the modelling stage we don’t expose this data for our model. This should be unseen instance for our model."
   ]
  },
  {
   "cell_type": "code",
   "execution_count": 21,
   "id": "a95cf7c1",
   "metadata": {},
   "outputs": [
    {
     "name": "stdout",
     "output_type": "stream",
     "text": [
      "Data for Modeling: (730, 9)\n",
      "Unseen Data For Predictions (38, 9)\n"
     ]
    }
   ],
   "source": [
    "data = dataset.sample(frac=0.95, random_state=10)\n",
    "\n",
    "data_unseen = dataset.drop(data.index).reset_index(drop=True)\n",
    "\n",
    "data.reset_index(drop=True, inplace=True)\n",
    "\n",
    "print('Data for Modeling: ' + str(data.shape))\n",
    "\n",
    "print('Unseen Data For Predictions ' + str(data_unseen.shape))"
   ]
  },
  {
   "cell_type": "code",
   "execution_count": 22,
   "id": "f5ee4584",
   "metadata": {},
   "outputs": [],
   "source": [
    "from pycaret.classification import *"
   ]
  },
  {
   "cell_type": "raw",
   "id": "ca040b5a",
   "metadata": {},
   "source": [
    "Setup function in PyCaret is the most important function this is where we perform all our data preprocessing steps. \n",
    "• Data = Data for modelling \n",
    "• Target = Target column that we want to predict in this case it is diabetic or not \n",
    "• Session_id = User defined session id \n",
    "• Normalization = Machine learning models work well when the input features do not have huge variation such as BMI and Glucose their values are on different scale. It is important to scale then hence we use normalize parameter \n",
    "• Transformation = While normalization reduces the variance transformation changes the data so that It could be represented in Gaussian distribution (normal curve). \n",
    "• Multicollinearity: - When the data is highly co-related our algorithms tend not to generalize very well so it is important to remove multi- collinearity by using the remove_multicollinearity and multicollinearity_threshold parameters in setup \n",
    "• Sometimes a dataset may have a categorical feature with multiple levels, where distribution of such levels are skewed and one level may dominate over other levels. This means there is not much variation in the information provided by such feature. For a ML model, such feature may not add a lot of information and thus can be ignored for modeling. This can be achieved in PyCaret using ignore_low_variance parameter"
   ]
  },
  {
   "cell_type": "code",
   "execution_count": 25,
   "id": "5fda5d5a",
   "metadata": {
    "scrolled": false
   },
   "outputs": [
    {
     "name": "stdout",
     "output_type": "stream",
     "text": [
      "Setup Succesfully Completed!\n"
     ]
    },
    {
     "data": {
      "text/html": [
       "<style type=\"text/css\">\n",
       "#T_b7144_row15_col1, #T_b7144_row17_col1, #T_b7144_row22_col1, #T_b7144_row28_col1 {\n",
       "  background-color: lightgreen;\n",
       "}\n",
       "</style>\n",
       "<table id=\"T_b7144\">\n",
       "  <thead>\n",
       "    <tr>\n",
       "      <th class=\"blank level0\" >&nbsp;</th>\n",
       "      <th id=\"T_b7144_level0_col0\" class=\"col_heading level0 col0\" >Description</th>\n",
       "      <th id=\"T_b7144_level0_col1\" class=\"col_heading level0 col1\" >Value</th>\n",
       "    </tr>\n",
       "  </thead>\n",
       "  <tbody>\n",
       "    <tr>\n",
       "      <th id=\"T_b7144_level0_row0\" class=\"row_heading level0 row0\" >0</th>\n",
       "      <td id=\"T_b7144_row0_col0\" class=\"data row0 col0\" >session_id</td>\n",
       "      <td id=\"T_b7144_row0_col1\" class=\"data row0 col1\" >1229</td>\n",
       "    </tr>\n",
       "    <tr>\n",
       "      <th id=\"T_b7144_level0_row1\" class=\"row_heading level0 row1\" >1</th>\n",
       "      <td id=\"T_b7144_row1_col0\" class=\"data row1 col0\" >Target Type</td>\n",
       "      <td id=\"T_b7144_row1_col1\" class=\"data row1 col1\" >Binary</td>\n",
       "    </tr>\n",
       "    <tr>\n",
       "      <th id=\"T_b7144_level0_row2\" class=\"row_heading level0 row2\" >2</th>\n",
       "      <td id=\"T_b7144_row2_col0\" class=\"data row2 col0\" >Label Encoded</td>\n",
       "      <td id=\"T_b7144_row2_col1\" class=\"data row2 col1\" >None</td>\n",
       "    </tr>\n",
       "    <tr>\n",
       "      <th id=\"T_b7144_level0_row3\" class=\"row_heading level0 row3\" >3</th>\n",
       "      <td id=\"T_b7144_row3_col0\" class=\"data row3 col0\" >Original Data</td>\n",
       "      <td id=\"T_b7144_row3_col1\" class=\"data row3 col1\" >(730, 9)</td>\n",
       "    </tr>\n",
       "    <tr>\n",
       "      <th id=\"T_b7144_level0_row4\" class=\"row_heading level0 row4\" >4</th>\n",
       "      <td id=\"T_b7144_row4_col0\" class=\"data row4 col0\" >Missing Values </td>\n",
       "      <td id=\"T_b7144_row4_col1\" class=\"data row4 col1\" >False</td>\n",
       "    </tr>\n",
       "    <tr>\n",
       "      <th id=\"T_b7144_level0_row5\" class=\"row_heading level0 row5\" >5</th>\n",
       "      <td id=\"T_b7144_row5_col0\" class=\"data row5 col0\" >Numeric Features </td>\n",
       "      <td id=\"T_b7144_row5_col1\" class=\"data row5 col1\" >7</td>\n",
       "    </tr>\n",
       "    <tr>\n",
       "      <th id=\"T_b7144_level0_row6\" class=\"row_heading level0 row6\" >6</th>\n",
       "      <td id=\"T_b7144_row6_col0\" class=\"data row6 col0\" >Categorical Features </td>\n",
       "      <td id=\"T_b7144_row6_col1\" class=\"data row6 col1\" >1</td>\n",
       "    </tr>\n",
       "    <tr>\n",
       "      <th id=\"T_b7144_level0_row7\" class=\"row_heading level0 row7\" >7</th>\n",
       "      <td id=\"T_b7144_row7_col0\" class=\"data row7 col0\" >Ordinal Features </td>\n",
       "      <td id=\"T_b7144_row7_col1\" class=\"data row7 col1\" >False</td>\n",
       "    </tr>\n",
       "    <tr>\n",
       "      <th id=\"T_b7144_level0_row8\" class=\"row_heading level0 row8\" >8</th>\n",
       "      <td id=\"T_b7144_row8_col0\" class=\"data row8 col0\" >High Cardinality Features </td>\n",
       "      <td id=\"T_b7144_row8_col1\" class=\"data row8 col1\" >False</td>\n",
       "    </tr>\n",
       "    <tr>\n",
       "      <th id=\"T_b7144_level0_row9\" class=\"row_heading level0 row9\" >9</th>\n",
       "      <td id=\"T_b7144_row9_col0\" class=\"data row9 col0\" >High Cardinality Method </td>\n",
       "      <td id=\"T_b7144_row9_col1\" class=\"data row9 col1\" >None</td>\n",
       "    </tr>\n",
       "    <tr>\n",
       "      <th id=\"T_b7144_level0_row10\" class=\"row_heading level0 row10\" >10</th>\n",
       "      <td id=\"T_b7144_row10_col0\" class=\"data row10 col0\" >Sampled Data</td>\n",
       "      <td id=\"T_b7144_row10_col1\" class=\"data row10 col1\" >(730, 9)</td>\n",
       "    </tr>\n",
       "    <tr>\n",
       "      <th id=\"T_b7144_level0_row11\" class=\"row_heading level0 row11\" >11</th>\n",
       "      <td id=\"T_b7144_row11_col0\" class=\"data row11 col0\" >Transformed Train Set</td>\n",
       "      <td id=\"T_b7144_row11_col1\" class=\"data row11 col1\" >(510, 22)</td>\n",
       "    </tr>\n",
       "    <tr>\n",
       "      <th id=\"T_b7144_level0_row12\" class=\"row_heading level0 row12\" >12</th>\n",
       "      <td id=\"T_b7144_row12_col0\" class=\"data row12 col0\" >Transformed Test Set</td>\n",
       "      <td id=\"T_b7144_row12_col1\" class=\"data row12 col1\" >(220, 22)</td>\n",
       "    </tr>\n",
       "    <tr>\n",
       "      <th id=\"T_b7144_level0_row13\" class=\"row_heading level0 row13\" >13</th>\n",
       "      <td id=\"T_b7144_row13_col0\" class=\"data row13 col0\" >Numeric Imputer </td>\n",
       "      <td id=\"T_b7144_row13_col1\" class=\"data row13 col1\" >mean</td>\n",
       "    </tr>\n",
       "    <tr>\n",
       "      <th id=\"T_b7144_level0_row14\" class=\"row_heading level0 row14\" >14</th>\n",
       "      <td id=\"T_b7144_row14_col0\" class=\"data row14 col0\" >Categorical Imputer </td>\n",
       "      <td id=\"T_b7144_row14_col1\" class=\"data row14 col1\" >constant</td>\n",
       "    </tr>\n",
       "    <tr>\n",
       "      <th id=\"T_b7144_level0_row15\" class=\"row_heading level0 row15\" >15</th>\n",
       "      <td id=\"T_b7144_row15_col0\" class=\"data row15 col0\" >Normalize </td>\n",
       "      <td id=\"T_b7144_row15_col1\" class=\"data row15 col1\" >True</td>\n",
       "    </tr>\n",
       "    <tr>\n",
       "      <th id=\"T_b7144_level0_row16\" class=\"row_heading level0 row16\" >16</th>\n",
       "      <td id=\"T_b7144_row16_col0\" class=\"data row16 col0\" >Normalize Method </td>\n",
       "      <td id=\"T_b7144_row16_col1\" class=\"data row16 col1\" >zscore</td>\n",
       "    </tr>\n",
       "    <tr>\n",
       "      <th id=\"T_b7144_level0_row17\" class=\"row_heading level0 row17\" >17</th>\n",
       "      <td id=\"T_b7144_row17_col0\" class=\"data row17 col0\" >Transformation </td>\n",
       "      <td id=\"T_b7144_row17_col1\" class=\"data row17 col1\" >True</td>\n",
       "    </tr>\n",
       "    <tr>\n",
       "      <th id=\"T_b7144_level0_row18\" class=\"row_heading level0 row18\" >18</th>\n",
       "      <td id=\"T_b7144_row18_col0\" class=\"data row18 col0\" >Transformation Method </td>\n",
       "      <td id=\"T_b7144_row18_col1\" class=\"data row18 col1\" >yeo-johnson</td>\n",
       "    </tr>\n",
       "    <tr>\n",
       "      <th id=\"T_b7144_level0_row19\" class=\"row_heading level0 row19\" >19</th>\n",
       "      <td id=\"T_b7144_row19_col0\" class=\"data row19 col0\" >PCA </td>\n",
       "      <td id=\"T_b7144_row19_col1\" class=\"data row19 col1\" >False</td>\n",
       "    </tr>\n",
       "    <tr>\n",
       "      <th id=\"T_b7144_level0_row20\" class=\"row_heading level0 row20\" >20</th>\n",
       "      <td id=\"T_b7144_row20_col0\" class=\"data row20 col0\" >PCA Method </td>\n",
       "      <td id=\"T_b7144_row20_col1\" class=\"data row20 col1\" >None</td>\n",
       "    </tr>\n",
       "    <tr>\n",
       "      <th id=\"T_b7144_level0_row21\" class=\"row_heading level0 row21\" >21</th>\n",
       "      <td id=\"T_b7144_row21_col0\" class=\"data row21 col0\" >PCA Components </td>\n",
       "      <td id=\"T_b7144_row21_col1\" class=\"data row21 col1\" >None</td>\n",
       "    </tr>\n",
       "    <tr>\n",
       "      <th id=\"T_b7144_level0_row22\" class=\"row_heading level0 row22\" >22</th>\n",
       "      <td id=\"T_b7144_row22_col0\" class=\"data row22 col0\" >Ignore Low Variance </td>\n",
       "      <td id=\"T_b7144_row22_col1\" class=\"data row22 col1\" >True</td>\n",
       "    </tr>\n",
       "    <tr>\n",
       "      <th id=\"T_b7144_level0_row23\" class=\"row_heading level0 row23\" >23</th>\n",
       "      <td id=\"T_b7144_row23_col0\" class=\"data row23 col0\" >Combine Rare Levels </td>\n",
       "      <td id=\"T_b7144_row23_col1\" class=\"data row23 col1\" >False</td>\n",
       "    </tr>\n",
       "    <tr>\n",
       "      <th id=\"T_b7144_level0_row24\" class=\"row_heading level0 row24\" >24</th>\n",
       "      <td id=\"T_b7144_row24_col0\" class=\"data row24 col0\" >Rare Level Threshold </td>\n",
       "      <td id=\"T_b7144_row24_col1\" class=\"data row24 col1\" >None</td>\n",
       "    </tr>\n",
       "    <tr>\n",
       "      <th id=\"T_b7144_level0_row25\" class=\"row_heading level0 row25\" >25</th>\n",
       "      <td id=\"T_b7144_row25_col0\" class=\"data row25 col0\" >Numeric Binning </td>\n",
       "      <td id=\"T_b7144_row25_col1\" class=\"data row25 col1\" >False</td>\n",
       "    </tr>\n",
       "    <tr>\n",
       "      <th id=\"T_b7144_level0_row26\" class=\"row_heading level0 row26\" >26</th>\n",
       "      <td id=\"T_b7144_row26_col0\" class=\"data row26 col0\" >Remove Outliers </td>\n",
       "      <td id=\"T_b7144_row26_col1\" class=\"data row26 col1\" >False</td>\n",
       "    </tr>\n",
       "    <tr>\n",
       "      <th id=\"T_b7144_level0_row27\" class=\"row_heading level0 row27\" >27</th>\n",
       "      <td id=\"T_b7144_row27_col0\" class=\"data row27 col0\" >Outliers Threshold </td>\n",
       "      <td id=\"T_b7144_row27_col1\" class=\"data row27 col1\" >None</td>\n",
       "    </tr>\n",
       "    <tr>\n",
       "      <th id=\"T_b7144_level0_row28\" class=\"row_heading level0 row28\" >28</th>\n",
       "      <td id=\"T_b7144_row28_col0\" class=\"data row28 col0\" >Remove Multicollinearity </td>\n",
       "      <td id=\"T_b7144_row28_col1\" class=\"data row28 col1\" >True</td>\n",
       "    </tr>\n",
       "    <tr>\n",
       "      <th id=\"T_b7144_level0_row29\" class=\"row_heading level0 row29\" >29</th>\n",
       "      <td id=\"T_b7144_row29_col0\" class=\"data row29 col0\" >Multicollinearity Threshold </td>\n",
       "      <td id=\"T_b7144_row29_col1\" class=\"data row29 col1\" >0.950000</td>\n",
       "    </tr>\n",
       "    <tr>\n",
       "      <th id=\"T_b7144_level0_row30\" class=\"row_heading level0 row30\" >30</th>\n",
       "      <td id=\"T_b7144_row30_col0\" class=\"data row30 col0\" >Clustering </td>\n",
       "      <td id=\"T_b7144_row30_col1\" class=\"data row30 col1\" >False</td>\n",
       "    </tr>\n",
       "    <tr>\n",
       "      <th id=\"T_b7144_level0_row31\" class=\"row_heading level0 row31\" >31</th>\n",
       "      <td id=\"T_b7144_row31_col0\" class=\"data row31 col0\" >Clustering Iteration </td>\n",
       "      <td id=\"T_b7144_row31_col1\" class=\"data row31 col1\" >None</td>\n",
       "    </tr>\n",
       "    <tr>\n",
       "      <th id=\"T_b7144_level0_row32\" class=\"row_heading level0 row32\" >32</th>\n",
       "      <td id=\"T_b7144_row32_col0\" class=\"data row32 col0\" >Polynomial Features </td>\n",
       "      <td id=\"T_b7144_row32_col1\" class=\"data row32 col1\" >False</td>\n",
       "    </tr>\n",
       "    <tr>\n",
       "      <th id=\"T_b7144_level0_row33\" class=\"row_heading level0 row33\" >33</th>\n",
       "      <td id=\"T_b7144_row33_col0\" class=\"data row33 col0\" >Polynomial Degree </td>\n",
       "      <td id=\"T_b7144_row33_col1\" class=\"data row33 col1\" >None</td>\n",
       "    </tr>\n",
       "    <tr>\n",
       "      <th id=\"T_b7144_level0_row34\" class=\"row_heading level0 row34\" >34</th>\n",
       "      <td id=\"T_b7144_row34_col0\" class=\"data row34 col0\" >Trignometry Features </td>\n",
       "      <td id=\"T_b7144_row34_col1\" class=\"data row34 col1\" >False</td>\n",
       "    </tr>\n",
       "    <tr>\n",
       "      <th id=\"T_b7144_level0_row35\" class=\"row_heading level0 row35\" >35</th>\n",
       "      <td id=\"T_b7144_row35_col0\" class=\"data row35 col0\" >Polynomial Threshold </td>\n",
       "      <td id=\"T_b7144_row35_col1\" class=\"data row35 col1\" >None</td>\n",
       "    </tr>\n",
       "    <tr>\n",
       "      <th id=\"T_b7144_level0_row36\" class=\"row_heading level0 row36\" >36</th>\n",
       "      <td id=\"T_b7144_row36_col0\" class=\"data row36 col0\" >Group Features </td>\n",
       "      <td id=\"T_b7144_row36_col1\" class=\"data row36 col1\" >False</td>\n",
       "    </tr>\n",
       "    <tr>\n",
       "      <th id=\"T_b7144_level0_row37\" class=\"row_heading level0 row37\" >37</th>\n",
       "      <td id=\"T_b7144_row37_col0\" class=\"data row37 col0\" >Feature Selection </td>\n",
       "      <td id=\"T_b7144_row37_col1\" class=\"data row37 col1\" >False</td>\n",
       "    </tr>\n",
       "    <tr>\n",
       "      <th id=\"T_b7144_level0_row38\" class=\"row_heading level0 row38\" >38</th>\n",
       "      <td id=\"T_b7144_row38_col0\" class=\"data row38 col0\" >Features Selection Threshold </td>\n",
       "      <td id=\"T_b7144_row38_col1\" class=\"data row38 col1\" >None</td>\n",
       "    </tr>\n",
       "    <tr>\n",
       "      <th id=\"T_b7144_level0_row39\" class=\"row_heading level0 row39\" >39</th>\n",
       "      <td id=\"T_b7144_row39_col0\" class=\"data row39 col0\" >Feature Interaction </td>\n",
       "      <td id=\"T_b7144_row39_col1\" class=\"data row39 col1\" >False</td>\n",
       "    </tr>\n",
       "    <tr>\n",
       "      <th id=\"T_b7144_level0_row40\" class=\"row_heading level0 row40\" >40</th>\n",
       "      <td id=\"T_b7144_row40_col0\" class=\"data row40 col0\" >Feature Ratio </td>\n",
       "      <td id=\"T_b7144_row40_col1\" class=\"data row40 col1\" >False</td>\n",
       "    </tr>\n",
       "    <tr>\n",
       "      <th id=\"T_b7144_level0_row41\" class=\"row_heading level0 row41\" >41</th>\n",
       "      <td id=\"T_b7144_row41_col0\" class=\"data row41 col0\" >Interaction Threshold </td>\n",
       "      <td id=\"T_b7144_row41_col1\" class=\"data row41 col1\" >None</td>\n",
       "    </tr>\n",
       "    <tr>\n",
       "      <th id=\"T_b7144_level0_row42\" class=\"row_heading level0 row42\" >42</th>\n",
       "      <td id=\"T_b7144_row42_col0\" class=\"data row42 col0\" >Fix Imbalance</td>\n",
       "      <td id=\"T_b7144_row42_col1\" class=\"data row42 col1\" >False</td>\n",
       "    </tr>\n",
       "    <tr>\n",
       "      <th id=\"T_b7144_level0_row43\" class=\"row_heading level0 row43\" >43</th>\n",
       "      <td id=\"T_b7144_row43_col0\" class=\"data row43 col0\" >Fix Imbalance Method</td>\n",
       "      <td id=\"T_b7144_row43_col1\" class=\"data row43 col1\" >SMOTE</td>\n",
       "    </tr>\n",
       "  </tbody>\n",
       "</table>\n"
      ],
      "text/plain": [
       "<pandas.io.formats.style.Styler at 0x12a20bd3190>"
      ]
     },
     "metadata": {},
     "output_type": "display_data"
    },
    {
     "ename": "AttributeError",
     "evalue": "'Simple_Imputer' object has no attribute 'target_variable'",
     "output_type": "error",
     "traceback": [
      "\u001b[1;31m---------------------------------------------------------------------------\u001b[0m",
      "\u001b[1;31mAttributeError\u001b[0m                            Traceback (most recent call last)",
      "Cell \u001b[1;32mIn[25], line 1\u001b[0m\n\u001b[1;32m----> 1\u001b[0m clf \u001b[38;5;241m=\u001b[39m \u001b[43msetup\u001b[49m\u001b[43m(\u001b[49m\u001b[43mdata\u001b[49m\u001b[43m \u001b[49m\u001b[38;5;241;43m=\u001b[39;49m\u001b[43m \u001b[49m\u001b[43mdata\u001b[49m\u001b[43m,\u001b[49m\u001b[43m \u001b[49m\u001b[43mtarget\u001b[49m\u001b[43m \u001b[49m\u001b[38;5;241;43m=\u001b[39;49m\u001b[43m \u001b[49m\u001b[38;5;124;43m'\u001b[39;49m\u001b[38;5;124;43mOutcome\u001b[39;49m\u001b[38;5;124;43m'\u001b[39;49m\u001b[43m,\u001b[49m\u001b[43msession_id\u001b[49m\u001b[38;5;241;43m=\u001b[39;49m\u001b[38;5;241;43m1229\u001b[39;49m\u001b[43m,\u001b[49m\u001b[43mnormalize\u001b[49m\u001b[38;5;241;43m=\u001b[39;49m\u001b[38;5;28;43;01mTrue\u001b[39;49;00m\u001b[43m,\u001b[49m\u001b[43mtransformation\u001b[49m\u001b[38;5;241;43m=\u001b[39;49m\u001b[38;5;28;43;01mTrue\u001b[39;49;00m\u001b[43m,\u001b[49m\u001b[43mignore_low_variance\u001b[49m\u001b[38;5;241;43m=\u001b[39;49m\u001b[38;5;28;43;01mTrue\u001b[39;49;00m\u001b[43m,\u001b[49m\n\u001b[0;32m      2\u001b[0m \u001b[43m           \u001b[49m\u001b[43mremove_multicollinearity\u001b[49m\u001b[38;5;241;43m=\u001b[39;49m\u001b[38;5;28;43;01mTrue\u001b[39;49;00m\u001b[43m,\u001b[49m\u001b[43m \u001b[49m\u001b[43mmulticollinearity_threshold\u001b[49m\u001b[38;5;241;43m=\u001b[39;49m\u001b[38;5;241;43m0.95\u001b[39;49m\u001b[43m,\u001b[49m\u001b[43mfolds_shuffle\u001b[49m\u001b[38;5;241;43m=\u001b[39;49m\u001b[38;5;28;43;01mTrue\u001b[39;49;00m\u001b[43m)\u001b[49m\n",
      "File \u001b[1;32m~\\.conda\\envs\\pycaret\\lib\\site-packages\\pycaret\\classification.py:1962\u001b[0m, in \u001b[0;36msetup\u001b[1;34m(data, target, train_size, sampling, sample_estimator, categorical_features, categorical_imputation, ordinal_features, high_cardinality_features, high_cardinality_method, numeric_features, numeric_imputation, date_features, ignore_features, normalize, normalize_method, transformation, transformation_method, handle_unknown_categorical, unknown_categorical_method, pca, pca_method, pca_components, ignore_low_variance, combine_rare_levels, rare_level_threshold, bin_numeric_features, remove_outliers, outliers_threshold, remove_multicollinearity, multicollinearity_threshold, remove_perfect_collinearity, create_clusters, cluster_iter, polynomial_features, polynomial_degree, trigonometry_features, polynomial_threshold, group_features, group_names, feature_selection, feature_selection_threshold, feature_interaction, feature_ratio, interaction_threshold, fix_imbalance, fix_imbalance_method, data_split_shuffle, folds_shuffle, n_jobs, html, session_id, log_experiment, experiment_name, log_plots, log_profile, log_data, silent, verbose, profile)\u001b[0m\n\u001b[0;32m   1959\u001b[0m logger\u001b[38;5;241m.\u001b[39minfo(\u001b[38;5;124m\"\u001b[39m\u001b[38;5;124mmaster_model_container \u001b[39m\u001b[38;5;124m\"\u001b[39m \u001b[38;5;241m+\u001b[39m \u001b[38;5;28mstr\u001b[39m(\u001b[38;5;28mlen\u001b[39m(master_model_container)))\n\u001b[0;32m   1960\u001b[0m logger\u001b[38;5;241m.\u001b[39minfo(\u001b[38;5;124m\"\u001b[39m\u001b[38;5;124mdisplay_container \u001b[39m\u001b[38;5;124m\"\u001b[39m \u001b[38;5;241m+\u001b[39m \u001b[38;5;28mstr\u001b[39m(\u001b[38;5;28mlen\u001b[39m(display_container)))\n\u001b[1;32m-> 1962\u001b[0m logger\u001b[38;5;241m.\u001b[39minfo(\u001b[38;5;28;43mstr\u001b[39;49m\u001b[43m(\u001b[49m\u001b[43mprep_pipe\u001b[49m\u001b[43m)\u001b[49m)\n\u001b[0;32m   1963\u001b[0m logger\u001b[38;5;241m.\u001b[39minfo(\u001b[38;5;124m\"\u001b[39m\u001b[38;5;124msetup() succesfully completed......................................\u001b[39m\u001b[38;5;124m\"\u001b[39m)\n\u001b[0;32m   1965\u001b[0m \u001b[38;5;28;01mreturn\u001b[39;00m X, y, X_train, X_test, y_train, y_test, seed, prep_pipe, experiment__,\\\n\u001b[0;32m   1966\u001b[0m     folds_shuffle_param, n_jobs_param, html_param, create_model_container, master_model_container,\\\n\u001b[0;32m   1967\u001b[0m     display_container, exp_name_log, logging_param, log_plots_param, USI,\\\n\u001b[0;32m   1968\u001b[0m     fix_imbalance_param, fix_imbalance_method_param, logger\n",
      "File \u001b[1;32m~\\.conda\\envs\\pycaret\\lib\\site-packages\\sklearn\\base.py:279\u001b[0m, in \u001b[0;36mBaseEstimator.__repr__\u001b[1;34m(self, N_CHAR_MAX)\u001b[0m\n\u001b[0;32m    271\u001b[0m \u001b[38;5;66;03m# use ellipsis for sequences with a lot of elements\u001b[39;00m\n\u001b[0;32m    272\u001b[0m pp \u001b[38;5;241m=\u001b[39m _EstimatorPrettyPrinter(\n\u001b[0;32m    273\u001b[0m     compact\u001b[38;5;241m=\u001b[39m\u001b[38;5;28;01mTrue\u001b[39;00m,\n\u001b[0;32m    274\u001b[0m     indent\u001b[38;5;241m=\u001b[39m\u001b[38;5;241m1\u001b[39m,\n\u001b[0;32m    275\u001b[0m     indent_at_name\u001b[38;5;241m=\u001b[39m\u001b[38;5;28;01mTrue\u001b[39;00m,\n\u001b[0;32m    276\u001b[0m     n_max_elements_to_show\u001b[38;5;241m=\u001b[39mN_MAX_ELEMENTS_TO_SHOW,\n\u001b[0;32m    277\u001b[0m )\n\u001b[1;32m--> 279\u001b[0m repr_ \u001b[38;5;241m=\u001b[39m \u001b[43mpp\u001b[49m\u001b[38;5;241;43m.\u001b[39;49m\u001b[43mpformat\u001b[49m\u001b[43m(\u001b[49m\u001b[38;5;28;43mself\u001b[39;49m\u001b[43m)\u001b[49m\n\u001b[0;32m    281\u001b[0m \u001b[38;5;66;03m# Use bruteforce ellipsis when there are a lot of non-blank characters\u001b[39;00m\n\u001b[0;32m    282\u001b[0m n_nonblank \u001b[38;5;241m=\u001b[39m \u001b[38;5;28mlen\u001b[39m(\u001b[38;5;124m\"\u001b[39m\u001b[38;5;124m\"\u001b[39m\u001b[38;5;241m.\u001b[39mjoin(repr_\u001b[38;5;241m.\u001b[39msplit()))\n",
      "File \u001b[1;32m~\\.conda\\envs\\pycaret\\lib\\pprint.py:157\u001b[0m, in \u001b[0;36mPrettyPrinter.pformat\u001b[1;34m(self, object)\u001b[0m\n\u001b[0;32m    155\u001b[0m \u001b[38;5;28;01mdef\u001b[39;00m \u001b[38;5;21mpformat\u001b[39m(\u001b[38;5;28mself\u001b[39m, \u001b[38;5;28mobject\u001b[39m):\n\u001b[0;32m    156\u001b[0m     sio \u001b[38;5;241m=\u001b[39m _StringIO()\n\u001b[1;32m--> 157\u001b[0m     \u001b[38;5;28;43mself\u001b[39;49m\u001b[38;5;241;43m.\u001b[39;49m\u001b[43m_format\u001b[49m\u001b[43m(\u001b[49m\u001b[38;5;28;43mobject\u001b[39;49m\u001b[43m,\u001b[49m\u001b[43m \u001b[49m\u001b[43msio\u001b[49m\u001b[43m,\u001b[49m\u001b[43m \u001b[49m\u001b[38;5;241;43m0\u001b[39;49m\u001b[43m,\u001b[49m\u001b[43m \u001b[49m\u001b[38;5;241;43m0\u001b[39;49m\u001b[43m,\u001b[49m\u001b[43m \u001b[49m\u001b[43m{\u001b[49m\u001b[43m}\u001b[49m\u001b[43m,\u001b[49m\u001b[43m \u001b[49m\u001b[38;5;241;43m0\u001b[39;49m\u001b[43m)\u001b[49m\n\u001b[0;32m    158\u001b[0m     \u001b[38;5;28;01mreturn\u001b[39;00m sio\u001b[38;5;241m.\u001b[39mgetvalue()\n",
      "File \u001b[1;32m~\\.conda\\envs\\pycaret\\lib\\pprint.py:174\u001b[0m, in \u001b[0;36mPrettyPrinter._format\u001b[1;34m(self, object, stream, indent, allowance, context, level)\u001b[0m\n\u001b[0;32m    172\u001b[0m     \u001b[38;5;28mself\u001b[39m\u001b[38;5;241m.\u001b[39m_readable \u001b[38;5;241m=\u001b[39m \u001b[38;5;28;01mFalse\u001b[39;00m\n\u001b[0;32m    173\u001b[0m     \u001b[38;5;28;01mreturn\u001b[39;00m\n\u001b[1;32m--> 174\u001b[0m rep \u001b[38;5;241m=\u001b[39m \u001b[38;5;28;43mself\u001b[39;49m\u001b[38;5;241;43m.\u001b[39;49m\u001b[43m_repr\u001b[49m\u001b[43m(\u001b[49m\u001b[38;5;28;43mobject\u001b[39;49m\u001b[43m,\u001b[49m\u001b[43m \u001b[49m\u001b[43mcontext\u001b[49m\u001b[43m,\u001b[49m\u001b[43m \u001b[49m\u001b[43mlevel\u001b[49m\u001b[43m)\u001b[49m\n\u001b[0;32m    175\u001b[0m max_width \u001b[38;5;241m=\u001b[39m \u001b[38;5;28mself\u001b[39m\u001b[38;5;241m.\u001b[39m_width \u001b[38;5;241m-\u001b[39m indent \u001b[38;5;241m-\u001b[39m allowance\n\u001b[0;32m    176\u001b[0m \u001b[38;5;28;01mif\u001b[39;00m \u001b[38;5;28mlen\u001b[39m(rep) \u001b[38;5;241m>\u001b[39m max_width:\n",
      "File \u001b[1;32m~\\.conda\\envs\\pycaret\\lib\\pprint.py:454\u001b[0m, in \u001b[0;36mPrettyPrinter._repr\u001b[1;34m(self, object, context, level)\u001b[0m\n\u001b[0;32m    453\u001b[0m \u001b[38;5;28;01mdef\u001b[39;00m \u001b[38;5;21m_repr\u001b[39m(\u001b[38;5;28mself\u001b[39m, \u001b[38;5;28mobject\u001b[39m, context, level):\n\u001b[1;32m--> 454\u001b[0m     \u001b[38;5;28mrepr\u001b[39m, readable, recursive \u001b[38;5;241m=\u001b[39m \u001b[38;5;28;43mself\u001b[39;49m\u001b[38;5;241;43m.\u001b[39;49m\u001b[43mformat\u001b[49m\u001b[43m(\u001b[49m\u001b[38;5;28;43mobject\u001b[39;49m\u001b[43m,\u001b[49m\u001b[43m \u001b[49m\u001b[43mcontext\u001b[49m\u001b[38;5;241;43m.\u001b[39;49m\u001b[43mcopy\u001b[49m\u001b[43m(\u001b[49m\u001b[43m)\u001b[49m\u001b[43m,\u001b[49m\n\u001b[0;32m    455\u001b[0m \u001b[43m                                            \u001b[49m\u001b[38;5;28;43mself\u001b[39;49m\u001b[38;5;241;43m.\u001b[39;49m\u001b[43m_depth\u001b[49m\u001b[43m,\u001b[49m\u001b[43m \u001b[49m\u001b[43mlevel\u001b[49m\u001b[43m)\u001b[49m\n\u001b[0;32m    456\u001b[0m     \u001b[38;5;28;01mif\u001b[39;00m \u001b[38;5;129;01mnot\u001b[39;00m readable:\n\u001b[0;32m    457\u001b[0m         \u001b[38;5;28mself\u001b[39m\u001b[38;5;241m.\u001b[39m_readable \u001b[38;5;241m=\u001b[39m \u001b[38;5;28;01mFalse\u001b[39;00m\n",
      "File \u001b[1;32m~\\.conda\\envs\\pycaret\\lib\\site-packages\\sklearn\\utils\\_pprint.py:189\u001b[0m, in \u001b[0;36m_EstimatorPrettyPrinter.format\u001b[1;34m(self, object, context, maxlevels, level)\u001b[0m\n\u001b[0;32m    188\u001b[0m \u001b[38;5;28;01mdef\u001b[39;00m \u001b[38;5;21mformat\u001b[39m(\u001b[38;5;28mself\u001b[39m, \u001b[38;5;28mobject\u001b[39m, context, maxlevels, level):\n\u001b[1;32m--> 189\u001b[0m     \u001b[38;5;28;01mreturn\u001b[39;00m \u001b[43m_safe_repr\u001b[49m\u001b[43m(\u001b[49m\n\u001b[0;32m    190\u001b[0m \u001b[43m        \u001b[49m\u001b[38;5;28;43mobject\u001b[39;49m\u001b[43m,\u001b[49m\u001b[43m \u001b[49m\u001b[43mcontext\u001b[49m\u001b[43m,\u001b[49m\u001b[43m \u001b[49m\u001b[43mmaxlevels\u001b[49m\u001b[43m,\u001b[49m\u001b[43m \u001b[49m\u001b[43mlevel\u001b[49m\u001b[43m,\u001b[49m\u001b[43m \u001b[49m\u001b[43mchanged_only\u001b[49m\u001b[38;5;241;43m=\u001b[39;49m\u001b[38;5;28;43mself\u001b[39;49m\u001b[38;5;241;43m.\u001b[39;49m\u001b[43m_changed_only\u001b[49m\n\u001b[0;32m    191\u001b[0m \u001b[43m    \u001b[49m\u001b[43m)\u001b[49m\n",
      "File \u001b[1;32m~\\.conda\\envs\\pycaret\\lib\\site-packages\\sklearn\\utils\\_pprint.py:452\u001b[0m, in \u001b[0;36m_safe_repr\u001b[1;34m(object, context, maxlevels, level, changed_only)\u001b[0m\n\u001b[0;32m    448\u001b[0m \u001b[38;5;28;01mfor\u001b[39;00m k, v \u001b[38;5;129;01min\u001b[39;00m items:\n\u001b[0;32m    449\u001b[0m     krepr, kreadable, krecur \u001b[38;5;241m=\u001b[39m saferepr(\n\u001b[0;32m    450\u001b[0m         k, context, maxlevels, level, changed_only\u001b[38;5;241m=\u001b[39mchanged_only\n\u001b[0;32m    451\u001b[0m     )\n\u001b[1;32m--> 452\u001b[0m     vrepr, vreadable, vrecur \u001b[38;5;241m=\u001b[39m \u001b[43msaferepr\u001b[49m\u001b[43m(\u001b[49m\n\u001b[0;32m    453\u001b[0m \u001b[43m        \u001b[49m\u001b[43mv\u001b[49m\u001b[43m,\u001b[49m\u001b[43m \u001b[49m\u001b[43mcontext\u001b[49m\u001b[43m,\u001b[49m\u001b[43m \u001b[49m\u001b[43mmaxlevels\u001b[49m\u001b[43m,\u001b[49m\u001b[43m \u001b[49m\u001b[43mlevel\u001b[49m\u001b[43m,\u001b[49m\u001b[43m \u001b[49m\u001b[43mchanged_only\u001b[49m\u001b[38;5;241;43m=\u001b[39;49m\u001b[43mchanged_only\u001b[49m\n\u001b[0;32m    454\u001b[0m \u001b[43m    \u001b[49m\u001b[43m)\u001b[49m\n\u001b[0;32m    455\u001b[0m     append(\u001b[38;5;124m\"\u001b[39m\u001b[38;5;132;01m%s\u001b[39;00m\u001b[38;5;124m=\u001b[39m\u001b[38;5;132;01m%s\u001b[39;00m\u001b[38;5;124m\"\u001b[39m \u001b[38;5;241m%\u001b[39m (krepr\u001b[38;5;241m.\u001b[39mstrip(\u001b[38;5;124m\"\u001b[39m\u001b[38;5;124m'\u001b[39m\u001b[38;5;124m\"\u001b[39m), vrepr))\n\u001b[0;32m    456\u001b[0m     readable \u001b[38;5;241m=\u001b[39m readable \u001b[38;5;129;01mand\u001b[39;00m kreadable \u001b[38;5;129;01mand\u001b[39;00m vreadable\n",
      "File \u001b[1;32m~\\.conda\\envs\\pycaret\\lib\\site-packages\\sklearn\\utils\\_pprint.py:419\u001b[0m, in \u001b[0;36m_safe_repr\u001b[1;34m(object, context, maxlevels, level, changed_only)\u001b[0m\n\u001b[0;32m    417\u001b[0m level \u001b[38;5;241m+\u001b[39m\u001b[38;5;241m=\u001b[39m \u001b[38;5;241m1\u001b[39m\n\u001b[0;32m    418\u001b[0m \u001b[38;5;28;01mfor\u001b[39;00m o \u001b[38;5;129;01min\u001b[39;00m \u001b[38;5;28mobject\u001b[39m:\n\u001b[1;32m--> 419\u001b[0m     orepr, oreadable, orecur \u001b[38;5;241m=\u001b[39m \u001b[43m_safe_repr\u001b[49m\u001b[43m(\u001b[49m\n\u001b[0;32m    420\u001b[0m \u001b[43m        \u001b[49m\u001b[43mo\u001b[49m\u001b[43m,\u001b[49m\u001b[43m \u001b[49m\u001b[43mcontext\u001b[49m\u001b[43m,\u001b[49m\u001b[43m \u001b[49m\u001b[43mmaxlevels\u001b[49m\u001b[43m,\u001b[49m\u001b[43m \u001b[49m\u001b[43mlevel\u001b[49m\u001b[43m,\u001b[49m\u001b[43m \u001b[49m\u001b[43mchanged_only\u001b[49m\u001b[38;5;241;43m=\u001b[39;49m\u001b[43mchanged_only\u001b[49m\n\u001b[0;32m    421\u001b[0m \u001b[43m    \u001b[49m\u001b[43m)\u001b[49m\n\u001b[0;32m    422\u001b[0m     append(orepr)\n\u001b[0;32m    423\u001b[0m     \u001b[38;5;28;01mif\u001b[39;00m \u001b[38;5;129;01mnot\u001b[39;00m oreadable:\n",
      "File \u001b[1;32m~\\.conda\\envs\\pycaret\\lib\\site-packages\\sklearn\\utils\\_pprint.py:419\u001b[0m, in \u001b[0;36m_safe_repr\u001b[1;34m(object, context, maxlevels, level, changed_only)\u001b[0m\n\u001b[0;32m    417\u001b[0m level \u001b[38;5;241m+\u001b[39m\u001b[38;5;241m=\u001b[39m \u001b[38;5;241m1\u001b[39m\n\u001b[0;32m    418\u001b[0m \u001b[38;5;28;01mfor\u001b[39;00m o \u001b[38;5;129;01min\u001b[39;00m \u001b[38;5;28mobject\u001b[39m:\n\u001b[1;32m--> 419\u001b[0m     orepr, oreadable, orecur \u001b[38;5;241m=\u001b[39m \u001b[43m_safe_repr\u001b[49m\u001b[43m(\u001b[49m\n\u001b[0;32m    420\u001b[0m \u001b[43m        \u001b[49m\u001b[43mo\u001b[49m\u001b[43m,\u001b[49m\u001b[43m \u001b[49m\u001b[43mcontext\u001b[49m\u001b[43m,\u001b[49m\u001b[43m \u001b[49m\u001b[43mmaxlevels\u001b[49m\u001b[43m,\u001b[49m\u001b[43m \u001b[49m\u001b[43mlevel\u001b[49m\u001b[43m,\u001b[49m\u001b[43m \u001b[49m\u001b[43mchanged_only\u001b[49m\u001b[38;5;241;43m=\u001b[39;49m\u001b[43mchanged_only\u001b[49m\n\u001b[0;32m    421\u001b[0m \u001b[43m    \u001b[49m\u001b[43m)\u001b[49m\n\u001b[0;32m    422\u001b[0m     append(orepr)\n\u001b[0;32m    423\u001b[0m     \u001b[38;5;28;01mif\u001b[39;00m \u001b[38;5;129;01mnot\u001b[39;00m oreadable:\n",
      "File \u001b[1;32m~\\.conda\\envs\\pycaret\\lib\\site-packages\\sklearn\\utils\\_pprint.py:442\u001b[0m, in \u001b[0;36m_safe_repr\u001b[1;34m(object, context, maxlevels, level, changed_only)\u001b[0m\n\u001b[0;32m    440\u001b[0m     params \u001b[38;5;241m=\u001b[39m _changed_params(\u001b[38;5;28mobject\u001b[39m)\n\u001b[0;32m    441\u001b[0m \u001b[38;5;28;01melse\u001b[39;00m:\n\u001b[1;32m--> 442\u001b[0m     params \u001b[38;5;241m=\u001b[39m \u001b[38;5;28;43mobject\u001b[39;49m\u001b[38;5;241;43m.\u001b[39;49m\u001b[43mget_params\u001b[49m\u001b[43m(\u001b[49m\u001b[43mdeep\u001b[49m\u001b[38;5;241;43m=\u001b[39;49m\u001b[38;5;28;43;01mFalse\u001b[39;49;00m\u001b[43m)\u001b[49m\n\u001b[0;32m    443\u001b[0m components \u001b[38;5;241m=\u001b[39m []\n\u001b[0;32m    444\u001b[0m append \u001b[38;5;241m=\u001b[39m components\u001b[38;5;241m.\u001b[39mappend\n",
      "File \u001b[1;32m~\\.conda\\envs\\pycaret\\lib\\site-packages\\sklearn\\base.py:211\u001b[0m, in \u001b[0;36mBaseEstimator.get_params\u001b[1;34m(self, deep)\u001b[0m\n\u001b[0;32m    209\u001b[0m out \u001b[38;5;241m=\u001b[39m \u001b[38;5;28mdict\u001b[39m()\n\u001b[0;32m    210\u001b[0m \u001b[38;5;28;01mfor\u001b[39;00m key \u001b[38;5;129;01min\u001b[39;00m \u001b[38;5;28mself\u001b[39m\u001b[38;5;241m.\u001b[39m_get_param_names():\n\u001b[1;32m--> 211\u001b[0m     value \u001b[38;5;241m=\u001b[39m \u001b[38;5;28;43mgetattr\u001b[39;49m\u001b[43m(\u001b[49m\u001b[38;5;28;43mself\u001b[39;49m\u001b[43m,\u001b[49m\u001b[43m \u001b[49m\u001b[43mkey\u001b[49m\u001b[43m)\u001b[49m\n\u001b[0;32m    212\u001b[0m     \u001b[38;5;28;01mif\u001b[39;00m deep \u001b[38;5;129;01mand\u001b[39;00m \u001b[38;5;28mhasattr\u001b[39m(value, \u001b[38;5;124m\"\u001b[39m\u001b[38;5;124mget_params\u001b[39m\u001b[38;5;124m\"\u001b[39m) \u001b[38;5;129;01mand\u001b[39;00m \u001b[38;5;129;01mnot\u001b[39;00m \u001b[38;5;28misinstance\u001b[39m(value, \u001b[38;5;28mtype\u001b[39m):\n\u001b[0;32m    213\u001b[0m         deep_items \u001b[38;5;241m=\u001b[39m value\u001b[38;5;241m.\u001b[39mget_params()\u001b[38;5;241m.\u001b[39mitems()\n",
      "\u001b[1;31mAttributeError\u001b[0m: 'Simple_Imputer' object has no attribute 'target_variable'"
     ]
    }
   ],
   "source": [
    "clf = setup(data = data, target = 'Outcome',session_id=1229,normalize=True,transformation=True,ignore_low_variance=True,\n",
    "           remove_multicollinearity=True, multicollinearity_threshold=0.95,folds_shuffle=True)"
   ]
  },
  {
   "cell_type": "code",
   "execution_count": 26,
   "id": "ddf19334",
   "metadata": {},
   "outputs": [
    {
     "data": {
      "text/html": [
       "<style type=\"text/css\">\n",
       "#T_afc95 th {\n",
       "  text-align: left;\n",
       "}\n",
       "#T_afc95_row0_col0, #T_afc95_row0_col4, #T_afc95_row1_col0, #T_afc95_row1_col1, #T_afc95_row1_col2, #T_afc95_row1_col3, #T_afc95_row1_col4, #T_afc95_row1_col5, #T_afc95_row1_col6, #T_afc95_row1_col7, #T_afc95_row2_col0, #T_afc95_row2_col1, #T_afc95_row2_col2, #T_afc95_row2_col3, #T_afc95_row2_col4, #T_afc95_row2_col5, #T_afc95_row2_col6, #T_afc95_row2_col7, #T_afc95_row3_col0, #T_afc95_row3_col1, #T_afc95_row3_col2, #T_afc95_row3_col3, #T_afc95_row3_col4, #T_afc95_row3_col5, #T_afc95_row3_col6, #T_afc95_row3_col7, #T_afc95_row4_col0, #T_afc95_row4_col1, #T_afc95_row4_col2, #T_afc95_row4_col3, #T_afc95_row4_col4, #T_afc95_row4_col5, #T_afc95_row4_col6, #T_afc95_row4_col7, #T_afc95_row5_col0, #T_afc95_row5_col1, #T_afc95_row5_col2, #T_afc95_row5_col3, #T_afc95_row5_col5, #T_afc95_row5_col6, #T_afc95_row5_col7, #T_afc95_row6_col0, #T_afc95_row6_col1, #T_afc95_row6_col2, #T_afc95_row6_col3, #T_afc95_row6_col4, #T_afc95_row6_col5, #T_afc95_row6_col6, #T_afc95_row6_col7, #T_afc95_row7_col0, #T_afc95_row7_col1, #T_afc95_row7_col2, #T_afc95_row7_col3, #T_afc95_row7_col4, #T_afc95_row7_col5, #T_afc95_row7_col6, #T_afc95_row7_col7, #T_afc95_row8_col0, #T_afc95_row8_col1, #T_afc95_row8_col2, #T_afc95_row8_col3, #T_afc95_row8_col4, #T_afc95_row8_col5, #T_afc95_row8_col6, #T_afc95_row8_col7, #T_afc95_row9_col0, #T_afc95_row9_col1, #T_afc95_row9_col2, #T_afc95_row9_col3, #T_afc95_row9_col4, #T_afc95_row9_col5, #T_afc95_row9_col6, #T_afc95_row9_col7, #T_afc95_row10_col0, #T_afc95_row10_col1, #T_afc95_row10_col2, #T_afc95_row10_col3, #T_afc95_row10_col4, #T_afc95_row10_col5, #T_afc95_row10_col6, #T_afc95_row10_col7, #T_afc95_row11_col0, #T_afc95_row11_col1, #T_afc95_row11_col2, #T_afc95_row11_col3, #T_afc95_row11_col4, #T_afc95_row11_col5, #T_afc95_row11_col6, #T_afc95_row11_col7, #T_afc95_row12_col0, #T_afc95_row12_col1, #T_afc95_row12_col2, #T_afc95_row12_col3, #T_afc95_row12_col4, #T_afc95_row12_col5, #T_afc95_row12_col6, #T_afc95_row12_col7, #T_afc95_row13_col0, #T_afc95_row13_col1, #T_afc95_row13_col2, #T_afc95_row13_col3, #T_afc95_row13_col4, #T_afc95_row13_col5, #T_afc95_row13_col6, #T_afc95_row13_col7, #T_afc95_row14_col0, #T_afc95_row14_col1, #T_afc95_row14_col2, #T_afc95_row14_col3, #T_afc95_row14_col4, #T_afc95_row14_col5, #T_afc95_row14_col6, #T_afc95_row14_col7 {\n",
       "  text-align: left;\n",
       "}\n",
       "#T_afc95_row0_col1, #T_afc95_row0_col2, #T_afc95_row0_col3, #T_afc95_row0_col5, #T_afc95_row0_col6, #T_afc95_row0_col7, #T_afc95_row5_col4 {\n",
       "  background-color: yellow;\n",
       "  text-align: left;\n",
       "}\n",
       "#T_afc95_row0_col8, #T_afc95_row1_col8, #T_afc95_row2_col8, #T_afc95_row3_col8, #T_afc95_row4_col8, #T_afc95_row5_col8, #T_afc95_row6_col8, #T_afc95_row7_col8, #T_afc95_row8_col8, #T_afc95_row9_col8, #T_afc95_row10_col8, #T_afc95_row11_col8, #T_afc95_row12_col8, #T_afc95_row13_col8, #T_afc95_row14_col8 {\n",
       "  background-color: lightgrey;\n",
       "  text-align: left;\n",
       "}\n",
       "</style>\n",
       "<table id=\"T_afc95\">\n",
       "  <thead>\n",
       "    <tr>\n",
       "      <th class=\"blank level0\" >&nbsp;</th>\n",
       "      <th id=\"T_afc95_level0_col0\" class=\"col_heading level0 col0\" >Model</th>\n",
       "      <th id=\"T_afc95_level0_col1\" class=\"col_heading level0 col1\" >Accuracy</th>\n",
       "      <th id=\"T_afc95_level0_col2\" class=\"col_heading level0 col2\" >AUC</th>\n",
       "      <th id=\"T_afc95_level0_col3\" class=\"col_heading level0 col3\" >Recall</th>\n",
       "      <th id=\"T_afc95_level0_col4\" class=\"col_heading level0 col4\" >Prec.</th>\n",
       "      <th id=\"T_afc95_level0_col5\" class=\"col_heading level0 col5\" >F1</th>\n",
       "      <th id=\"T_afc95_level0_col6\" class=\"col_heading level0 col6\" >Kappa</th>\n",
       "      <th id=\"T_afc95_level0_col7\" class=\"col_heading level0 col7\" >MCC</th>\n",
       "      <th id=\"T_afc95_level0_col8\" class=\"col_heading level0 col8\" >TT (Sec)</th>\n",
       "    </tr>\n",
       "  </thead>\n",
       "  <tbody>\n",
       "    <tr>\n",
       "      <th id=\"T_afc95_level0_row0\" class=\"row_heading level0 row0\" >0</th>\n",
       "      <td id=\"T_afc95_row0_col0\" class=\"data row0 col0\" >CatBoost Classifier</td>\n",
       "      <td id=\"T_afc95_row0_col1\" class=\"data row0 col1\" >0.7647</td>\n",
       "      <td id=\"T_afc95_row0_col2\" class=\"data row0 col2\" >0.8336</td>\n",
       "      <td id=\"T_afc95_row0_col3\" class=\"data row0 col3\" >0.6144</td>\n",
       "      <td id=\"T_afc95_row0_col4\" class=\"data row0 col4\" >0.6929</td>\n",
       "      <td id=\"T_afc95_row0_col5\" class=\"data row0 col5\" >0.6478</td>\n",
       "      <td id=\"T_afc95_row0_col6\" class=\"data row0 col6\" >0.4725</td>\n",
       "      <td id=\"T_afc95_row0_col7\" class=\"data row0 col7\" >0.4773</td>\n",
       "      <td id=\"T_afc95_row0_col8\" class=\"data row0 col8\" >2.4407</td>\n",
       "    </tr>\n",
       "    <tr>\n",
       "      <th id=\"T_afc95_level0_row1\" class=\"row_heading level0 row1\" >1</th>\n",
       "      <td id=\"T_afc95_row1_col0\" class=\"data row1 col0\" >Logistic Regression</td>\n",
       "      <td id=\"T_afc95_row1_col1\" class=\"data row1 col1\" >0.7569</td>\n",
       "      <td id=\"T_afc95_row1_col2\" class=\"data row1 col2\" >0.8276</td>\n",
       "      <td id=\"T_afc95_row1_col3\" class=\"data row1 col3\" >0.5814</td>\n",
       "      <td id=\"T_afc95_row1_col4\" class=\"data row1 col4\" >0.6854</td>\n",
       "      <td id=\"T_afc95_row1_col5\" class=\"data row1 col5\" >0.6231</td>\n",
       "      <td id=\"T_afc95_row1_col6\" class=\"data row1 col6\" >0.4472</td>\n",
       "      <td id=\"T_afc95_row1_col7\" class=\"data row1 col7\" >0.4545</td>\n",
       "      <td id=\"T_afc95_row1_col8\" class=\"data row1 col8\" >0.0206</td>\n",
       "    </tr>\n",
       "    <tr>\n",
       "      <th id=\"T_afc95_level0_row2\" class=\"row_heading level0 row2\" >2</th>\n",
       "      <td id=\"T_afc95_row2_col0\" class=\"data row2 col0\" >Linear Discriminant Analysis</td>\n",
       "      <td id=\"T_afc95_row2_col1\" class=\"data row2 col1\" >0.7549</td>\n",
       "      <td id=\"T_afc95_row2_col2\" class=\"data row2 col2\" >0.8193</td>\n",
       "      <td id=\"T_afc95_row2_col3\" class=\"data row2 col3\" >0.5644</td>\n",
       "      <td id=\"T_afc95_row2_col4\" class=\"data row2 col4\" >0.6866</td>\n",
       "      <td id=\"T_afc95_row2_col5\" class=\"data row2 col5\" >0.6150</td>\n",
       "      <td id=\"T_afc95_row2_col6\" class=\"data row2 col6\" >0.4392</td>\n",
       "      <td id=\"T_afc95_row2_col7\" class=\"data row2 col7\" >0.4465</td>\n",
       "      <td id=\"T_afc95_row2_col8\" class=\"data row2 col8\" >0.0069</td>\n",
       "    </tr>\n",
       "    <tr>\n",
       "      <th id=\"T_afc95_level0_row3\" class=\"row_heading level0 row3\" >3</th>\n",
       "      <td id=\"T_afc95_row3_col0\" class=\"data row3 col0\" >Light Gradient Boosting Machine</td>\n",
       "      <td id=\"T_afc95_row3_col1\" class=\"data row3 col1\" >0.7510</td>\n",
       "      <td id=\"T_afc95_row3_col2\" class=\"data row3 col2\" >0.8144</td>\n",
       "      <td id=\"T_afc95_row3_col3\" class=\"data row3 col3\" >0.5974</td>\n",
       "      <td id=\"T_afc95_row3_col4\" class=\"data row3 col4\" >0.6662</td>\n",
       "      <td id=\"T_afc95_row3_col5\" class=\"data row3 col5\" >0.6257</td>\n",
       "      <td id=\"T_afc95_row3_col6\" class=\"data row3 col6\" >0.4406</td>\n",
       "      <td id=\"T_afc95_row3_col7\" class=\"data row3 col7\" >0.4453</td>\n",
       "      <td id=\"T_afc95_row3_col8\" class=\"data row3 col8\" >0.0662</td>\n",
       "    </tr>\n",
       "    <tr>\n",
       "      <th id=\"T_afc95_level0_row4\" class=\"row_heading level0 row4\" >4</th>\n",
       "      <td id=\"T_afc95_row4_col0\" class=\"data row4 col0\" >Gradient Boosting Classifier</td>\n",
       "      <td id=\"T_afc95_row4_col1\" class=\"data row4 col1\" >0.7529</td>\n",
       "      <td id=\"T_afc95_row4_col2\" class=\"data row4 col2\" >0.8087</td>\n",
       "      <td id=\"T_afc95_row4_col3\" class=\"data row4 col3\" >0.5984</td>\n",
       "      <td id=\"T_afc95_row4_col4\" class=\"data row4 col4\" >0.6783</td>\n",
       "      <td id=\"T_afc95_row4_col5\" class=\"data row4 col5\" >0.6312</td>\n",
       "      <td id=\"T_afc95_row4_col6\" class=\"data row4 col6\" >0.4474</td>\n",
       "      <td id=\"T_afc95_row4_col7\" class=\"data row4 col7\" >0.4532</td>\n",
       "      <td id=\"T_afc95_row4_col8\" class=\"data row4 col8\" >0.1131</td>\n",
       "    </tr>\n",
       "    <tr>\n",
       "      <th id=\"T_afc95_level0_row5\" class=\"row_heading level0 row5\" >5</th>\n",
       "      <td id=\"T_afc95_row5_col0\" class=\"data row5 col0\" >Random Forest Classifier</td>\n",
       "      <td id=\"T_afc95_row5_col1\" class=\"data row5 col1\" >0.7569</td>\n",
       "      <td id=\"T_afc95_row5_col2\" class=\"data row5 col2\" >0.8059</td>\n",
       "      <td id=\"T_afc95_row5_col3\" class=\"data row5 col3\" >0.5307</td>\n",
       "      <td id=\"T_afc95_row5_col4\" class=\"data row5 col4\" >0.7149</td>\n",
       "      <td id=\"T_afc95_row5_col5\" class=\"data row5 col5\" >0.6049</td>\n",
       "      <td id=\"T_afc95_row5_col6\" class=\"data row5 col6\" >0.4352</td>\n",
       "      <td id=\"T_afc95_row5_col7\" class=\"data row5 col7\" >0.4483</td>\n",
       "      <td id=\"T_afc95_row5_col8\" class=\"data row5 col8\" >0.0272</td>\n",
       "    </tr>\n",
       "    <tr>\n",
       "      <th id=\"T_afc95_level0_row6\" class=\"row_heading level0 row6\" >6</th>\n",
       "      <td id=\"T_afc95_row6_col0\" class=\"data row6 col0\" >Extra Trees Classifier</td>\n",
       "      <td id=\"T_afc95_row6_col1\" class=\"data row6 col1\" >0.7549</td>\n",
       "      <td id=\"T_afc95_row6_col2\" class=\"data row6 col2\" >0.8014</td>\n",
       "      <td id=\"T_afc95_row6_col3\" class=\"data row6 col3\" >0.5418</td>\n",
       "      <td id=\"T_afc95_row6_col4\" class=\"data row6 col4\" >0.6955</td>\n",
       "      <td id=\"T_afc95_row6_col5\" class=\"data row6 col5\" >0.6060</td>\n",
       "      <td id=\"T_afc95_row6_col6\" class=\"data row6 col6\" >0.4330</td>\n",
       "      <td id=\"T_afc95_row6_col7\" class=\"data row6 col7\" >0.4420</td>\n",
       "      <td id=\"T_afc95_row6_col8\" class=\"data row6 col8\" >0.1231</td>\n",
       "    </tr>\n",
       "    <tr>\n",
       "      <th id=\"T_afc95_level0_row7\" class=\"row_heading level0 row7\" >7</th>\n",
       "      <td id=\"T_afc95_row7_col0\" class=\"data row7 col0\" >Extreme Gradient Boosting</td>\n",
       "      <td id=\"T_afc95_row7_col1\" class=\"data row7 col1\" >0.7373</td>\n",
       "      <td id=\"T_afc95_row7_col2\" class=\"data row7 col2\" >0.7973</td>\n",
       "      <td id=\"T_afc95_row7_col3\" class=\"data row7 col3\" >0.5758</td>\n",
       "      <td id=\"T_afc95_row7_col4\" class=\"data row7 col4\" >0.6419</td>\n",
       "      <td id=\"T_afc95_row7_col5\" class=\"data row7 col5\" >0.6032</td>\n",
       "      <td id=\"T_afc95_row7_col6\" class=\"data row7 col6\" >0.4087</td>\n",
       "      <td id=\"T_afc95_row7_col7\" class=\"data row7 col7\" >0.4128</td>\n",
       "      <td id=\"T_afc95_row7_col8\" class=\"data row7 col8\" >0.1538</td>\n",
       "    </tr>\n",
       "    <tr>\n",
       "      <th id=\"T_afc95_level0_row8\" class=\"row_heading level0 row8\" >8</th>\n",
       "      <td id=\"T_afc95_row8_col0\" class=\"data row8 col0\" >K Neighbors Classifier</td>\n",
       "      <td id=\"T_afc95_row8_col1\" class=\"data row8 col1\" >0.7510</td>\n",
       "      <td id=\"T_afc95_row8_col2\" class=\"data row8 col2\" >0.7874</td>\n",
       "      <td id=\"T_afc95_row8_col3\" class=\"data row8 col3\" >0.5592</td>\n",
       "      <td id=\"T_afc95_row8_col4\" class=\"data row8 col4\" >0.6779</td>\n",
       "      <td id=\"T_afc95_row8_col5\" class=\"data row8 col5\" >0.6068</td>\n",
       "      <td id=\"T_afc95_row8_col6\" class=\"data row8 col6\" >0.4290</td>\n",
       "      <td id=\"T_afc95_row8_col7\" class=\"data row8 col7\" >0.4368</td>\n",
       "      <td id=\"T_afc95_row8_col8\" class=\"data row8 col8\" >0.0024</td>\n",
       "    </tr>\n",
       "    <tr>\n",
       "      <th id=\"T_afc95_level0_row9\" class=\"row_heading level0 row9\" >9</th>\n",
       "      <td id=\"T_afc95_row9_col0\" class=\"data row9 col0\" >Ada Boost Classifier</td>\n",
       "      <td id=\"T_afc95_row9_col1\" class=\"data row9 col1\" >0.7373</td>\n",
       "      <td id=\"T_afc95_row9_col2\" class=\"data row9 col2\" >0.7723</td>\n",
       "      <td id=\"T_afc95_row9_col3\" class=\"data row9 col3\" >0.5699</td>\n",
       "      <td id=\"T_afc95_row9_col4\" class=\"data row9 col4\" >0.6475</td>\n",
       "      <td id=\"T_afc95_row9_col5\" class=\"data row9 col5\" >0.6004</td>\n",
       "      <td id=\"T_afc95_row9_col6\" class=\"data row9 col6\" >0.4073</td>\n",
       "      <td id=\"T_afc95_row9_col7\" class=\"data row9 col7\" >0.4129</td>\n",
       "      <td id=\"T_afc95_row9_col8\" class=\"data row9 col8\" >0.0794</td>\n",
       "    </tr>\n",
       "    <tr>\n",
       "      <th id=\"T_afc95_level0_row10\" class=\"row_heading level0 row10\" >10</th>\n",
       "      <td id=\"T_afc95_row10_col0\" class=\"data row10 col0\" >Naive Bayes</td>\n",
       "      <td id=\"T_afc95_row10_col1\" class=\"data row10 col1\" >0.6784</td>\n",
       "      <td id=\"T_afc95_row10_col2\" class=\"data row10 col2\" >0.7475</td>\n",
       "      <td id=\"T_afc95_row10_col3\" class=\"data row10 col3\" >0.1621</td>\n",
       "      <td id=\"T_afc95_row10_col4\" class=\"data row10 col4\" >0.7124</td>\n",
       "      <td id=\"T_afc95_row10_col5\" class=\"data row10 col5\" >0.2552</td>\n",
       "      <td id=\"T_afc95_row10_col6\" class=\"data row10 col6\" >0.1439</td>\n",
       "      <td id=\"T_afc95_row10_col7\" class=\"data row10 col7\" >0.2088</td>\n",
       "      <td id=\"T_afc95_row10_col8\" class=\"data row10 col8\" >0.0030</td>\n",
       "    </tr>\n",
       "    <tr>\n",
       "      <th id=\"T_afc95_level0_row11\" class=\"row_heading level0 row11\" >11</th>\n",
       "      <td id=\"T_afc95_row11_col0\" class=\"data row11 col0\" >Decision Tree Classifier</td>\n",
       "      <td id=\"T_afc95_row11_col1\" class=\"data row11 col1\" >0.7137</td>\n",
       "      <td id=\"T_afc95_row11_col2\" class=\"data row11 col2\" >0.6864</td>\n",
       "      <td id=\"T_afc95_row11_col3\" class=\"data row11 col3\" >0.5931</td>\n",
       "      <td id=\"T_afc95_row11_col4\" class=\"data row11 col4\" >0.6088</td>\n",
       "      <td id=\"T_afc95_row11_col5\" class=\"data row11 col5\" >0.5921</td>\n",
       "      <td id=\"T_afc95_row11_col6\" class=\"data row11 col6\" >0.3736</td>\n",
       "      <td id=\"T_afc95_row11_col7\" class=\"data row11 col7\" >0.3800</td>\n",
       "      <td id=\"T_afc95_row11_col8\" class=\"data row11 col8\" >0.0057</td>\n",
       "    </tr>\n",
       "    <tr>\n",
       "      <th id=\"T_afc95_level0_row12\" class=\"row_heading level0 row12\" >12</th>\n",
       "      <td id=\"T_afc95_row12_col0\" class=\"data row12 col0\" >Quadratic Discriminant Analysis</td>\n",
       "      <td id=\"T_afc95_row12_col1\" class=\"data row12 col1\" >0.6157</td>\n",
       "      <td id=\"T_afc95_row12_col2\" class=\"data row12 col2\" >0.6372</td>\n",
       "      <td id=\"T_afc95_row12_col3\" class=\"data row12 col3\" >0.3748</td>\n",
       "      <td id=\"T_afc95_row12_col4\" class=\"data row12 col4\" >0.4816</td>\n",
       "      <td id=\"T_afc95_row12_col5\" class=\"data row12 col5\" >0.3750</td>\n",
       "      <td id=\"T_afc95_row12_col6\" class=\"data row12 col6\" >0.1241</td>\n",
       "      <td id=\"T_afc95_row12_col7\" class=\"data row12 col7\" >0.1421</td>\n",
       "      <td id=\"T_afc95_row12_col8\" class=\"data row12 col8\" >0.0048</td>\n",
       "    </tr>\n",
       "    <tr>\n",
       "      <th id=\"T_afc95_level0_row13\" class=\"row_heading level0 row13\" >13</th>\n",
       "      <td id=\"T_afc95_row13_col0\" class=\"data row13 col0\" >SVM - Linear Kernel</td>\n",
       "      <td id=\"T_afc95_row13_col1\" class=\"data row13 col1\" >0.7098</td>\n",
       "      <td id=\"T_afc95_row13_col2\" class=\"data row13 col2\" >0.0000</td>\n",
       "      <td id=\"T_afc95_row13_col3\" class=\"data row13 col3\" >0.5467</td>\n",
       "      <td id=\"T_afc95_row13_col4\" class=\"data row13 col4\" >0.6063</td>\n",
       "      <td id=\"T_afc95_row13_col5\" class=\"data row13 col5\" >0.5654</td>\n",
       "      <td id=\"T_afc95_row13_col6\" class=\"data row13 col6\" >0.3505</td>\n",
       "      <td id=\"T_afc95_row13_col7\" class=\"data row13 col7\" >0.3588</td>\n",
       "      <td id=\"T_afc95_row13_col8\" class=\"data row13 col8\" >0.0063</td>\n",
       "    </tr>\n",
       "    <tr>\n",
       "      <th id=\"T_afc95_level0_row14\" class=\"row_heading level0 row14\" >14</th>\n",
       "      <td id=\"T_afc95_row14_col0\" class=\"data row14 col0\" >Ridge Classifier</td>\n",
       "      <td id=\"T_afc95_row14_col1\" class=\"data row14 col1\" >0.7608</td>\n",
       "      <td id=\"T_afc95_row14_col2\" class=\"data row14 col2\" >0.0000</td>\n",
       "      <td id=\"T_afc95_row14_col3\" class=\"data row14 col3\" >0.5706</td>\n",
       "      <td id=\"T_afc95_row14_col4\" class=\"data row14 col4\" >0.6970</td>\n",
       "      <td id=\"T_afc95_row14_col5\" class=\"data row14 col5\" >0.6214</td>\n",
       "      <td id=\"T_afc95_row14_col6\" class=\"data row14 col6\" >0.4512</td>\n",
       "      <td id=\"T_afc95_row14_col7\" class=\"data row14 col7\" >0.4599</td>\n",
       "      <td id=\"T_afc95_row14_col8\" class=\"data row14 col8\" >0.0048</td>\n",
       "    </tr>\n",
       "  </tbody>\n",
       "</table>\n"
      ],
      "text/plain": [
       "<pandas.io.formats.style.Styler at 0x12a26e964a0>"
      ]
     },
     "metadata": {},
     "output_type": "display_data"
    },
    {
     "data": {
      "text/plain": [
       "<catboost.core.CatBoostClassifier at 0x12a248571c0>"
      ]
     },
     "execution_count": 26,
     "metadata": {},
     "output_type": "execute_result"
    }
   ],
   "source": [
    "compare_models(sort='AUC')"
   ]
  },
  {
   "cell_type": "code",
   "execution_count": 43,
   "id": "e5551e08",
   "metadata": {},
   "outputs": [
    {
     "ename": "NameError",
     "evalue": "name 'CatBoost' is not defined",
     "output_type": "error",
     "traceback": [
      "\u001b[1;31m---------------------------------------------------------------------------\u001b[0m",
      "\u001b[1;31mNameError\u001b[0m                                 Traceback (most recent call last)",
      "Cell \u001b[1;32mIn[43], line 1\u001b[0m\n\u001b[1;32m----> 1\u001b[0m tuned_cat_boost\u001b[38;5;241m=\u001b[39m tune_model(\u001b[43mCatBoost\u001b[49m,optimize \u001b[38;5;241m=\u001b[39m \u001b[38;5;124m'\u001b[39m\u001b[38;5;124mAUC\u001b[39m\u001b[38;5;124m'\u001b[39m)\n",
      "\u001b[1;31mNameError\u001b[0m: name 'CatBoost' is not defined"
     ]
    }
   ],
   "source": [
    "tuned_cat_boost= tune_model(CatBoost,optimize = 'AUC')"
   ]
  },
  {
   "cell_type": "markdown",
   "id": "f108ce36",
   "metadata": {},
   "source": [
    "### #Lets Create  more classifiers "
   ]
  },
  {
   "cell_type": "code",
   "execution_count": 44,
   "id": "e7f664f1",
   "metadata": {},
   "outputs": [
    {
     "data": {
      "text/html": [
       "<style type=\"text/css\">\n",
       "#T_390c6_row10_col0, #T_390c6_row10_col1, #T_390c6_row10_col2, #T_390c6_row10_col3, #T_390c6_row10_col4, #T_390c6_row10_col5, #T_390c6_row10_col6 {\n",
       "  background: yellow;\n",
       "}\n",
       "</style>\n",
       "<table id=\"T_390c6\">\n",
       "  <thead>\n",
       "    <tr>\n",
       "      <th class=\"blank level0\" >&nbsp;</th>\n",
       "      <th id=\"T_390c6_level0_col0\" class=\"col_heading level0 col0\" >Accuracy</th>\n",
       "      <th id=\"T_390c6_level0_col1\" class=\"col_heading level0 col1\" >AUC</th>\n",
       "      <th id=\"T_390c6_level0_col2\" class=\"col_heading level0 col2\" >Recall</th>\n",
       "      <th id=\"T_390c6_level0_col3\" class=\"col_heading level0 col3\" >Prec.</th>\n",
       "      <th id=\"T_390c6_level0_col4\" class=\"col_heading level0 col4\" >F1</th>\n",
       "      <th id=\"T_390c6_level0_col5\" class=\"col_heading level0 col5\" >Kappa</th>\n",
       "      <th id=\"T_390c6_level0_col6\" class=\"col_heading level0 col6\" >MCC</th>\n",
       "    </tr>\n",
       "  </thead>\n",
       "  <tbody>\n",
       "    <tr>\n",
       "      <th id=\"T_390c6_level0_row0\" class=\"row_heading level0 row0\" >0</th>\n",
       "      <td id=\"T_390c6_row0_col0\" class=\"data row0 col0\" >0.6863</td>\n",
       "      <td id=\"T_390c6_row0_col1\" class=\"data row0 col1\" >0.8201</td>\n",
       "      <td id=\"T_390c6_row0_col2\" class=\"data row0 col2\" >0.6471</td>\n",
       "      <td id=\"T_390c6_row0_col3\" class=\"data row0 col3\" >0.5238</td>\n",
       "      <td id=\"T_390c6_row0_col4\" class=\"data row0 col4\" >0.5789</td>\n",
       "      <td id=\"T_390c6_row0_col5\" class=\"data row0 col5\" >0.3333</td>\n",
       "      <td id=\"T_390c6_row0_col6\" class=\"data row0 col6\" >0.3381</td>\n",
       "    </tr>\n",
       "    <tr>\n",
       "      <th id=\"T_390c6_level0_row1\" class=\"row_heading level0 row1\" >1</th>\n",
       "      <td id=\"T_390c6_row1_col0\" class=\"data row1 col0\" >0.7843</td>\n",
       "      <td id=\"T_390c6_row1_col1\" class=\"data row1 col1\" >0.8215</td>\n",
       "      <td id=\"T_390c6_row1_col2\" class=\"data row1 col2\" >0.6111</td>\n",
       "      <td id=\"T_390c6_row1_col3\" class=\"data row1 col3\" >0.7333</td>\n",
       "      <td id=\"T_390c6_row1_col4\" class=\"data row1 col4\" >0.6667</td>\n",
       "      <td id=\"T_390c6_row1_col5\" class=\"data row1 col5\" >0.5092</td>\n",
       "      <td id=\"T_390c6_row1_col6\" class=\"data row1 col6\" >0.5138</td>\n",
       "    </tr>\n",
       "    <tr>\n",
       "      <th id=\"T_390c6_level0_row2\" class=\"row_heading level0 row2\" >2</th>\n",
       "      <td id=\"T_390c6_row2_col0\" class=\"data row2 col0\" >0.7451</td>\n",
       "      <td id=\"T_390c6_row2_col1\" class=\"data row2 col1\" >0.7862</td>\n",
       "      <td id=\"T_390c6_row2_col2\" class=\"data row2 col2\" >0.5556</td>\n",
       "      <td id=\"T_390c6_row2_col3\" class=\"data row2 col3\" >0.6667</td>\n",
       "      <td id=\"T_390c6_row2_col4\" class=\"data row2 col4\" >0.6061</td>\n",
       "      <td id=\"T_390c6_row2_col5\" class=\"data row2 col5\" >0.4199</td>\n",
       "      <td id=\"T_390c6_row2_col6\" class=\"data row2 col6\" >0.4238</td>\n",
       "    </tr>\n",
       "    <tr>\n",
       "      <th id=\"T_390c6_level0_row3\" class=\"row_heading level0 row3\" >3</th>\n",
       "      <td id=\"T_390c6_row3_col0\" class=\"data row3 col0\" >0.7647</td>\n",
       "      <td id=\"T_390c6_row3_col1\" class=\"data row3 col1\" >0.8300</td>\n",
       "      <td id=\"T_390c6_row3_col2\" class=\"data row3 col2\" >0.4444</td>\n",
       "      <td id=\"T_390c6_row3_col3\" class=\"data row3 col3\" >0.8000</td>\n",
       "      <td id=\"T_390c6_row3_col4\" class=\"data row3 col4\" >0.5714</td>\n",
       "      <td id=\"T_390c6_row3_col5\" class=\"data row3 col5\" >0.4270</td>\n",
       "      <td id=\"T_390c6_row3_col6\" class=\"data row3 col6\" >0.4620</td>\n",
       "    </tr>\n",
       "    <tr>\n",
       "      <th id=\"T_390c6_level0_row4\" class=\"row_heading level0 row4\" >4</th>\n",
       "      <td id=\"T_390c6_row4_col0\" class=\"data row4 col0\" >0.6863</td>\n",
       "      <td id=\"T_390c6_row4_col1\" class=\"data row4 col1\" >0.7508</td>\n",
       "      <td id=\"T_390c6_row4_col2\" class=\"data row4 col2\" >0.4444</td>\n",
       "      <td id=\"T_390c6_row4_col3\" class=\"data row4 col3\" >0.5714</td>\n",
       "      <td id=\"T_390c6_row4_col4\" class=\"data row4 col4\" >0.5000</td>\n",
       "      <td id=\"T_390c6_row4_col5\" class=\"data row4 col5\" >0.2766</td>\n",
       "      <td id=\"T_390c6_row4_col6\" class=\"data row4 col6\" >0.2812</td>\n",
       "    </tr>\n",
       "    <tr>\n",
       "      <th id=\"T_390c6_level0_row5\" class=\"row_heading level0 row5\" >5</th>\n",
       "      <td id=\"T_390c6_row5_col0\" class=\"data row5 col0\" >0.8039</td>\n",
       "      <td id=\"T_390c6_row5_col1\" class=\"data row5 col1\" >0.7946</td>\n",
       "      <td id=\"T_390c6_row5_col2\" class=\"data row5 col2\" >0.6667</td>\n",
       "      <td id=\"T_390c6_row5_col3\" class=\"data row5 col3\" >0.7500</td>\n",
       "      <td id=\"T_390c6_row5_col4\" class=\"data row5 col4\" >0.7059</td>\n",
       "      <td id=\"T_390c6_row5_col5\" class=\"data row5 col5\" >0.5596</td>\n",
       "      <td id=\"T_390c6_row5_col6\" class=\"data row5 col6\" >0.5618</td>\n",
       "    </tr>\n",
       "    <tr>\n",
       "      <th id=\"T_390c6_level0_row6\" class=\"row_heading level0 row6\" >6</th>\n",
       "      <td id=\"T_390c6_row6_col0\" class=\"data row6 col0\" >0.8627</td>\n",
       "      <td id=\"T_390c6_row6_col1\" class=\"data row6 col1\" >0.8990</td>\n",
       "      <td id=\"T_390c6_row6_col2\" class=\"data row6 col2\" >0.8333</td>\n",
       "      <td id=\"T_390c6_row6_col3\" class=\"data row6 col3\" >0.7895</td>\n",
       "      <td id=\"T_390c6_row6_col4\" class=\"data row6 col4\" >0.8108</td>\n",
       "      <td id=\"T_390c6_row6_col5\" class=\"data row6 col5\" >0.7032</td>\n",
       "      <td id=\"T_390c6_row6_col6\" class=\"data row6 col6\" >0.7039</td>\n",
       "    </tr>\n",
       "    <tr>\n",
       "      <th id=\"T_390c6_level0_row7\" class=\"row_heading level0 row7\" >7</th>\n",
       "      <td id=\"T_390c6_row7_col0\" class=\"data row7 col0\" >0.7843</td>\n",
       "      <td id=\"T_390c6_row7_col1\" class=\"data row7 col1\" >0.8906</td>\n",
       "      <td id=\"T_390c6_row7_col2\" class=\"data row7 col2\" >0.6111</td>\n",
       "      <td id=\"T_390c6_row7_col3\" class=\"data row7 col3\" >0.7333</td>\n",
       "      <td id=\"T_390c6_row7_col4\" class=\"data row7 col4\" >0.6667</td>\n",
       "      <td id=\"T_390c6_row7_col5\" class=\"data row7 col5\" >0.5092</td>\n",
       "      <td id=\"T_390c6_row7_col6\" class=\"data row7 col6\" >0.5138</td>\n",
       "    </tr>\n",
       "    <tr>\n",
       "      <th id=\"T_390c6_level0_row8\" class=\"row_heading level0 row8\" >8</th>\n",
       "      <td id=\"T_390c6_row8_col0\" class=\"data row8 col0\" >0.6863</td>\n",
       "      <td id=\"T_390c6_row8_col1\" class=\"data row8 col1\" >0.8468</td>\n",
       "      <td id=\"T_390c6_row8_col2\" class=\"data row8 col2\" >0.4444</td>\n",
       "      <td id=\"T_390c6_row8_col3\" class=\"data row8 col3\" >0.5714</td>\n",
       "      <td id=\"T_390c6_row8_col4\" class=\"data row8 col4\" >0.5000</td>\n",
       "      <td id=\"T_390c6_row8_col5\" class=\"data row8 col5\" >0.2766</td>\n",
       "      <td id=\"T_390c6_row8_col6\" class=\"data row8 col6\" >0.2812</td>\n",
       "    </tr>\n",
       "    <tr>\n",
       "      <th id=\"T_390c6_level0_row9\" class=\"row_heading level0 row9\" >9</th>\n",
       "      <td id=\"T_390c6_row9_col0\" class=\"data row9 col0\" >0.7647</td>\n",
       "      <td id=\"T_390c6_row9_col1\" class=\"data row9 col1\" >0.8367</td>\n",
       "      <td id=\"T_390c6_row9_col2\" class=\"data row9 col2\" >0.5556</td>\n",
       "      <td id=\"T_390c6_row9_col3\" class=\"data row9 col3\" >0.7143</td>\n",
       "      <td id=\"T_390c6_row9_col4\" class=\"data row9 col4\" >0.6250</td>\n",
       "      <td id=\"T_390c6_row9_col5\" class=\"data row9 col5\" >0.4574</td>\n",
       "      <td id=\"T_390c6_row9_col6\" class=\"data row9 col6\" >0.4651</td>\n",
       "    </tr>\n",
       "    <tr>\n",
       "      <th id=\"T_390c6_level0_row10\" class=\"row_heading level0 row10\" >Mean</th>\n",
       "      <td id=\"T_390c6_row10_col0\" class=\"data row10 col0\" >0.7569</td>\n",
       "      <td id=\"T_390c6_row10_col1\" class=\"data row10 col1\" >0.8276</td>\n",
       "      <td id=\"T_390c6_row10_col2\" class=\"data row10 col2\" >0.5814</td>\n",
       "      <td id=\"T_390c6_row10_col3\" class=\"data row10 col3\" >0.6854</td>\n",
       "      <td id=\"T_390c6_row10_col4\" class=\"data row10 col4\" >0.6231</td>\n",
       "      <td id=\"T_390c6_row10_col5\" class=\"data row10 col5\" >0.4472</td>\n",
       "      <td id=\"T_390c6_row10_col6\" class=\"data row10 col6\" >0.4545</td>\n",
       "    </tr>\n",
       "    <tr>\n",
       "      <th id=\"T_390c6_level0_row11\" class=\"row_heading level0 row11\" >SD</th>\n",
       "      <td id=\"T_390c6_row11_col0\" class=\"data row11 col0\" >0.0549</td>\n",
       "      <td id=\"T_390c6_row11_col1\" class=\"data row11 col1\" >0.0428</td>\n",
       "      <td id=\"T_390c6_row11_col2\" class=\"data row11 col2\" >0.1159</td>\n",
       "      <td id=\"T_390c6_row11_col3\" class=\"data row11 col3\" >0.0927</td>\n",
       "      <td id=\"T_390c6_row11_col4\" class=\"data row11 col4\" >0.0901</td>\n",
       "      <td id=\"T_390c6_row11_col5\" class=\"data row11 col5\" >0.1258</td>\n",
       "      <td id=\"T_390c6_row11_col6\" class=\"data row11 col6\" >0.1247</td>\n",
       "    </tr>\n",
       "  </tbody>\n",
       "</table>\n"
      ],
      "text/plain": [
       "<pandas.io.formats.style.Styler at 0x12a26fd5bd0>"
      ]
     },
     "metadata": {},
     "output_type": "display_data"
    }
   ],
   "source": [
    "lr = create_model('lr', fold =10)"
   ]
  },
  {
   "cell_type": "code",
   "execution_count": 48,
   "id": "3568667c",
   "metadata": {},
   "outputs": [
    {
     "ename": "SystemExit",
     "evalue": "(Type Error): The behavior of tune_model in version 1.0.1 is changed. Please pass trained model object.",
     "output_type": "error",
     "traceback": [
      "An exception has occurred, use %tb to see the full traceback.\n",
      "\u001b[1;31mSystemExit\u001b[0m\u001b[1;31m:\u001b[0m (Type Error): The behavior of tune_model in version 1.0.1 is changed. Please pass trained model object.\n"
     ]
    }
   ],
   "source": [
    "tuned_lr= tune_model('lr',optimize='AUC') # tuned_logistic   81.6 AUC"
   ]
  },
  {
   "cell_type": "code",
   "execution_count": 47,
   "id": "f8c20e07",
   "metadata": {},
   "outputs": [
    {
     "data": {
      "text/html": [
       "<style type=\"text/css\">\n",
       "#T_32932_row10_col0, #T_32932_row10_col1, #T_32932_row10_col2, #T_32932_row10_col3, #T_32932_row10_col4, #T_32932_row10_col5, #T_32932_row10_col6 {\n",
       "  background: yellow;\n",
       "}\n",
       "</style>\n",
       "<table id=\"T_32932\">\n",
       "  <thead>\n",
       "    <tr>\n",
       "      <th class=\"blank level0\" >&nbsp;</th>\n",
       "      <th id=\"T_32932_level0_col0\" class=\"col_heading level0 col0\" >Accuracy</th>\n",
       "      <th id=\"T_32932_level0_col1\" class=\"col_heading level0 col1\" >AUC</th>\n",
       "      <th id=\"T_32932_level0_col2\" class=\"col_heading level0 col2\" >Recall</th>\n",
       "      <th id=\"T_32932_level0_col3\" class=\"col_heading level0 col3\" >Prec.</th>\n",
       "      <th id=\"T_32932_level0_col4\" class=\"col_heading level0 col4\" >F1</th>\n",
       "      <th id=\"T_32932_level0_col5\" class=\"col_heading level0 col5\" >Kappa</th>\n",
       "      <th id=\"T_32932_level0_col6\" class=\"col_heading level0 col6\" >MCC</th>\n",
       "    </tr>\n",
       "  </thead>\n",
       "  <tbody>\n",
       "    <tr>\n",
       "      <th id=\"T_32932_level0_row0\" class=\"row_heading level0 row0\" >0</th>\n",
       "      <td id=\"T_32932_row0_col0\" class=\"data row0 col0\" >0.7059</td>\n",
       "      <td id=\"T_32932_row0_col1\" class=\"data row0 col1\" >0.7785</td>\n",
       "      <td id=\"T_32932_row0_col2\" class=\"data row0 col2\" >0.7059</td>\n",
       "      <td id=\"T_32932_row0_col3\" class=\"data row0 col3\" >0.5455</td>\n",
       "      <td id=\"T_32932_row0_col4\" class=\"data row0 col4\" >0.6154</td>\n",
       "      <td id=\"T_32932_row0_col5\" class=\"data row0 col5\" >0.3836</td>\n",
       "      <td id=\"T_32932_row0_col6\" class=\"data row0 col6\" >0.3919</td>\n",
       "    </tr>\n",
       "    <tr>\n",
       "      <th id=\"T_32932_level0_row1\" class=\"row_heading level0 row1\" >1</th>\n",
       "      <td id=\"T_32932_row1_col0\" class=\"data row1 col0\" >0.7843</td>\n",
       "      <td id=\"T_32932_row1_col1\" class=\"data row1 col1\" >0.7963</td>\n",
       "      <td id=\"T_32932_row1_col2\" class=\"data row1 col2\" >0.6111</td>\n",
       "      <td id=\"T_32932_row1_col3\" class=\"data row1 col3\" >0.7333</td>\n",
       "      <td id=\"T_32932_row1_col4\" class=\"data row1 col4\" >0.6667</td>\n",
       "      <td id=\"T_32932_row1_col5\" class=\"data row1 col5\" >0.5092</td>\n",
       "      <td id=\"T_32932_row1_col6\" class=\"data row1 col6\" >0.5138</td>\n",
       "    </tr>\n",
       "    <tr>\n",
       "      <th id=\"T_32932_level0_row2\" class=\"row_heading level0 row2\" >2</th>\n",
       "      <td id=\"T_32932_row2_col0\" class=\"data row2 col0\" >0.7255</td>\n",
       "      <td id=\"T_32932_row2_col1\" class=\"data row2 col1\" >0.7845</td>\n",
       "      <td id=\"T_32932_row2_col2\" class=\"data row2 col2\" >0.5556</td>\n",
       "      <td id=\"T_32932_row2_col3\" class=\"data row2 col3\" >0.6250</td>\n",
       "      <td id=\"T_32932_row2_col4\" class=\"data row2 col4\" >0.5882</td>\n",
       "      <td id=\"T_32932_row2_col5\" class=\"data row2 col5\" >0.3834</td>\n",
       "      <td id=\"T_32932_row2_col6\" class=\"data row2 col6\" >0.3849</td>\n",
       "    </tr>\n",
       "    <tr>\n",
       "      <th id=\"T_32932_level0_row3\" class=\"row_heading level0 row3\" >3</th>\n",
       "      <td id=\"T_32932_row3_col0\" class=\"data row3 col0\" >0.8431</td>\n",
       "      <td id=\"T_32932_row3_col1\" class=\"data row3 col1\" >0.8350</td>\n",
       "      <td id=\"T_32932_row3_col2\" class=\"data row3 col2\" >0.6667</td>\n",
       "      <td id=\"T_32932_row3_col3\" class=\"data row3 col3\" >0.8571</td>\n",
       "      <td id=\"T_32932_row3_col4\" class=\"data row3 col4\" >0.7500</td>\n",
       "      <td id=\"T_32932_row3_col5\" class=\"data row3 col5\" >0.6383</td>\n",
       "      <td id=\"T_32932_row3_col6\" class=\"data row3 col6\" >0.6490</td>\n",
       "    </tr>\n",
       "    <tr>\n",
       "      <th id=\"T_32932_level0_row4\" class=\"row_heading level0 row4\" >4</th>\n",
       "      <td id=\"T_32932_row4_col0\" class=\"data row4 col0\" >0.6863</td>\n",
       "      <td id=\"T_32932_row4_col1\" class=\"data row4 col1\" >0.7609</td>\n",
       "      <td id=\"T_32932_row4_col2\" class=\"data row4 col2\" >0.5000</td>\n",
       "      <td id=\"T_32932_row4_col3\" class=\"data row4 col3\" >0.5625</td>\n",
       "      <td id=\"T_32932_row4_col4\" class=\"data row4 col4\" >0.5294</td>\n",
       "      <td id=\"T_32932_row4_col5\" class=\"data row4 col5\" >0.2953</td>\n",
       "      <td id=\"T_32932_row4_col6\" class=\"data row4 col6\" >0.2965</td>\n",
       "    </tr>\n",
       "    <tr>\n",
       "      <th id=\"T_32932_level0_row5\" class=\"row_heading level0 row5\" >5</th>\n",
       "      <td id=\"T_32932_row5_col0\" class=\"data row5 col0\" >0.8039</td>\n",
       "      <td id=\"T_32932_row5_col1\" class=\"data row5 col1\" >0.8098</td>\n",
       "      <td id=\"T_32932_row5_col2\" class=\"data row5 col2\" >0.6111</td>\n",
       "      <td id=\"T_32932_row5_col3\" class=\"data row5 col3\" >0.7857</td>\n",
       "      <td id=\"T_32932_row5_col4\" class=\"data row5 col4\" >0.6875</td>\n",
       "      <td id=\"T_32932_row5_col5\" class=\"data row5 col5\" >0.5479</td>\n",
       "      <td id=\"T_32932_row5_col6\" class=\"data row5 col6\" >0.5571</td>\n",
       "    </tr>\n",
       "    <tr>\n",
       "      <th id=\"T_32932_level0_row6\" class=\"row_heading level0 row6\" >6</th>\n",
       "      <td id=\"T_32932_row6_col0\" class=\"data row6 col0\" >0.7843</td>\n",
       "      <td id=\"T_32932_row6_col1\" class=\"data row6 col1\" >0.8451</td>\n",
       "      <td id=\"T_32932_row6_col2\" class=\"data row6 col2\" >0.6667</td>\n",
       "      <td id=\"T_32932_row6_col3\" class=\"data row6 col3\" >0.7059</td>\n",
       "      <td id=\"T_32932_row6_col4\" class=\"data row6 col4\" >0.6857</td>\n",
       "      <td id=\"T_32932_row6_col5\" class=\"data row6 col5\" >0.5217</td>\n",
       "      <td id=\"T_32932_row6_col6\" class=\"data row6 col6\" >0.5222</td>\n",
       "    </tr>\n",
       "    <tr>\n",
       "      <th id=\"T_32932_level0_row7\" class=\"row_heading level0 row7\" >7</th>\n",
       "      <td id=\"T_32932_row7_col0\" class=\"data row7 col0\" >0.8235</td>\n",
       "      <td id=\"T_32932_row7_col1\" class=\"data row7 col1\" >0.8990</td>\n",
       "      <td id=\"T_32932_row7_col2\" class=\"data row7 col2\" >0.6111</td>\n",
       "      <td id=\"T_32932_row7_col3\" class=\"data row7 col3\" >0.8462</td>\n",
       "      <td id=\"T_32932_row7_col4\" class=\"data row7 col4\" >0.7097</td>\n",
       "      <td id=\"T_32932_row7_col5\" class=\"data row7 col5\" >0.5876</td>\n",
       "      <td id=\"T_32932_row7_col6\" class=\"data row7 col6\" >0.6037</td>\n",
       "    </tr>\n",
       "    <tr>\n",
       "      <th id=\"T_32932_level0_row8\" class=\"row_heading level0 row8\" >8</th>\n",
       "      <td id=\"T_32932_row8_col0\" class=\"data row8 col0\" >0.6863</td>\n",
       "      <td id=\"T_32932_row8_col1\" class=\"data row8 col1\" >0.7727</td>\n",
       "      <td id=\"T_32932_row8_col2\" class=\"data row8 col2\" >0.6111</td>\n",
       "      <td id=\"T_32932_row8_col3\" class=\"data row8 col3\" >0.5500</td>\n",
       "      <td id=\"T_32932_row8_col4\" class=\"data row8 col4\" >0.5789</td>\n",
       "      <td id=\"T_32932_row8_col5\" class=\"data row8 col5\" >0.3300</td>\n",
       "      <td id=\"T_32932_row8_col6\" class=\"data row8 col6\" >0.3312</td>\n",
       "    </tr>\n",
       "    <tr>\n",
       "      <th id=\"T_32932_level0_row9\" class=\"row_heading level0 row9\" >9</th>\n",
       "      <td id=\"T_32932_row9_col0\" class=\"data row9 col0\" >0.6863</td>\n",
       "      <td id=\"T_32932_row9_col1\" class=\"data row9 col1\" >0.8047</td>\n",
       "      <td id=\"T_32932_row9_col2\" class=\"data row9 col2\" >0.4444</td>\n",
       "      <td id=\"T_32932_row9_col3\" class=\"data row9 col3\" >0.5714</td>\n",
       "      <td id=\"T_32932_row9_col4\" class=\"data row9 col4\" >0.5000</td>\n",
       "      <td id=\"T_32932_row9_col5\" class=\"data row9 col5\" >0.2766</td>\n",
       "      <td id=\"T_32932_row9_col6\" class=\"data row9 col6\" >0.2812</td>\n",
       "    </tr>\n",
       "    <tr>\n",
       "      <th id=\"T_32932_level0_row10\" class=\"row_heading level0 row10\" >Mean</th>\n",
       "      <td id=\"T_32932_row10_col0\" class=\"data row10 col0\" >0.7529</td>\n",
       "      <td id=\"T_32932_row10_col1\" class=\"data row10 col1\" >0.8087</td>\n",
       "      <td id=\"T_32932_row10_col2\" class=\"data row10 col2\" >0.5984</td>\n",
       "      <td id=\"T_32932_row10_col3\" class=\"data row10 col3\" >0.6783</td>\n",
       "      <td id=\"T_32932_row10_col4\" class=\"data row10 col4\" >0.6312</td>\n",
       "      <td id=\"T_32932_row10_col5\" class=\"data row10 col5\" >0.4474</td>\n",
       "      <td id=\"T_32932_row10_col6\" class=\"data row10 col6\" >0.4532</td>\n",
       "    </tr>\n",
       "    <tr>\n",
       "      <th id=\"T_32932_level0_row11\" class=\"row_heading level0 row11\" >SD</th>\n",
       "      <td id=\"T_32932_row11_col0\" class=\"data row11 col0\" >0.0583</td>\n",
       "      <td id=\"T_32932_row11_col1\" class=\"data row11 col1\" >0.0393</td>\n",
       "      <td id=\"T_32932_row11_col2\" class=\"data row11 col2\" >0.0753</td>\n",
       "      <td id=\"T_32932_row11_col3\" class=\"data row11 col3\" >0.1172</td>\n",
       "      <td id=\"T_32932_row11_col4\" class=\"data row11 col4\" >0.0775</td>\n",
       "      <td id=\"T_32932_row11_col5\" class=\"data row11 col5\" >0.1224</td>\n",
       "      <td id=\"T_32932_row11_col6\" class=\"data row11 col6\" >0.1256</td>\n",
       "    </tr>\n",
       "  </tbody>\n",
       "</table>\n"
      ],
      "text/plain": [
       "<pandas.io.formats.style.Styler at 0x12a24c02bf0>"
      ]
     },
     "metadata": {},
     "output_type": "display_data"
    }
   ],
   "source": [
    "gbc= create_model('gbc',fold =10) #  Gradient boosting  82.60"
   ]
  },
  {
   "cell_type": "code",
   "execution_count": 50,
   "id": "237ad923",
   "metadata": {},
   "outputs": [
    {
     "data": {
      "text/html": [
       "<style type=\"text/css\">\n",
       "#T_97b8c_row10_col0, #T_97b8c_row10_col1, #T_97b8c_row10_col2, #T_97b8c_row10_col3, #T_97b8c_row10_col4, #T_97b8c_row10_col5, #T_97b8c_row10_col6 {\n",
       "  background: yellow;\n",
       "}\n",
       "</style>\n",
       "<table id=\"T_97b8c\">\n",
       "  <thead>\n",
       "    <tr>\n",
       "      <th class=\"blank level0\" >&nbsp;</th>\n",
       "      <th id=\"T_97b8c_level0_col0\" class=\"col_heading level0 col0\" >Accuracy</th>\n",
       "      <th id=\"T_97b8c_level0_col1\" class=\"col_heading level0 col1\" >AUC</th>\n",
       "      <th id=\"T_97b8c_level0_col2\" class=\"col_heading level0 col2\" >Recall</th>\n",
       "      <th id=\"T_97b8c_level0_col3\" class=\"col_heading level0 col3\" >Prec.</th>\n",
       "      <th id=\"T_97b8c_level0_col4\" class=\"col_heading level0 col4\" >F1</th>\n",
       "      <th id=\"T_97b8c_level0_col5\" class=\"col_heading level0 col5\" >Kappa</th>\n",
       "      <th id=\"T_97b8c_level0_col6\" class=\"col_heading level0 col6\" >MCC</th>\n",
       "    </tr>\n",
       "  </thead>\n",
       "  <tbody>\n",
       "    <tr>\n",
       "      <th id=\"T_97b8c_level0_row0\" class=\"row_heading level0 row0\" >0</th>\n",
       "      <td id=\"T_97b8c_row0_col0\" class=\"data row0 col0\" >0.6863</td>\n",
       "      <td id=\"T_97b8c_row0_col1\" class=\"data row0 col1\" >0.8010</td>\n",
       "      <td id=\"T_97b8c_row0_col2\" class=\"data row0 col2\" >0.5882</td>\n",
       "      <td id=\"T_97b8c_row0_col3\" class=\"data row0 col3\" >0.5263</td>\n",
       "      <td id=\"T_97b8c_row0_col4\" class=\"data row0 col4\" >0.5556</td>\n",
       "      <td id=\"T_97b8c_row0_col5\" class=\"data row0 col5\" >0.3143</td>\n",
       "      <td id=\"T_97b8c_row0_col6\" class=\"data row0 col6\" >0.3154</td>\n",
       "    </tr>\n",
       "    <tr>\n",
       "      <th id=\"T_97b8c_level0_row1\" class=\"row_heading level0 row1\" >1</th>\n",
       "      <td id=\"T_97b8c_row1_col0\" class=\"data row1 col0\" >0.7647</td>\n",
       "      <td id=\"T_97b8c_row1_col1\" class=\"data row1 col1\" >0.8148</td>\n",
       "      <td id=\"T_97b8c_row1_col2\" class=\"data row1 col2\" >0.5556</td>\n",
       "      <td id=\"T_97b8c_row1_col3\" class=\"data row1 col3\" >0.7143</td>\n",
       "      <td id=\"T_97b8c_row1_col4\" class=\"data row1 col4\" >0.6250</td>\n",
       "      <td id=\"T_97b8c_row1_col5\" class=\"data row1 col5\" >0.4574</td>\n",
       "      <td id=\"T_97b8c_row1_col6\" class=\"data row1 col6\" >0.4651</td>\n",
       "    </tr>\n",
       "    <tr>\n",
       "      <th id=\"T_97b8c_level0_row2\" class=\"row_heading level0 row2\" >2</th>\n",
       "      <td id=\"T_97b8c_row2_col0\" class=\"data row2 col0\" >0.7451</td>\n",
       "      <td id=\"T_97b8c_row2_col1\" class=\"data row2 col1\" >0.8401</td>\n",
       "      <td id=\"T_97b8c_row2_col2\" class=\"data row2 col2\" >0.6111</td>\n",
       "      <td id=\"T_97b8c_row2_col3\" class=\"data row2 col3\" >0.6471</td>\n",
       "      <td id=\"T_97b8c_row2_col4\" class=\"data row2 col4\" >0.6286</td>\n",
       "      <td id=\"T_97b8c_row2_col5\" class=\"data row2 col5\" >0.4348</td>\n",
       "      <td id=\"T_97b8c_row2_col6\" class=\"data row2 col6\" >0.4352</td>\n",
       "    </tr>\n",
       "    <tr>\n",
       "      <th id=\"T_97b8c_level0_row3\" class=\"row_heading level0 row3\" >3</th>\n",
       "      <td id=\"T_97b8c_row3_col0\" class=\"data row3 col0\" >0.8431</td>\n",
       "      <td id=\"T_97b8c_row3_col1\" class=\"data row3 col1\" >0.8182</td>\n",
       "      <td id=\"T_97b8c_row3_col2\" class=\"data row3 col2\" >0.6667</td>\n",
       "      <td id=\"T_97b8c_row3_col3\" class=\"data row3 col3\" >0.8571</td>\n",
       "      <td id=\"T_97b8c_row3_col4\" class=\"data row3 col4\" >0.7500</td>\n",
       "      <td id=\"T_97b8c_row3_col5\" class=\"data row3 col5\" >0.6383</td>\n",
       "      <td id=\"T_97b8c_row3_col6\" class=\"data row3 col6\" >0.6490</td>\n",
       "    </tr>\n",
       "    <tr>\n",
       "      <th id=\"T_97b8c_level0_row4\" class=\"row_heading level0 row4\" >4</th>\n",
       "      <td id=\"T_97b8c_row4_col0\" class=\"data row4 col0\" >0.6275</td>\n",
       "      <td id=\"T_97b8c_row4_col1\" class=\"data row4 col1\" >0.7677</td>\n",
       "      <td id=\"T_97b8c_row4_col2\" class=\"data row4 col2\" >0.2778</td>\n",
       "      <td id=\"T_97b8c_row4_col3\" class=\"data row4 col3\" >0.4545</td>\n",
       "      <td id=\"T_97b8c_row4_col4\" class=\"data row4 col4\" >0.3448</td>\n",
       "      <td id=\"T_97b8c_row4_col5\" class=\"data row4 col5\" >0.1053</td>\n",
       "      <td id=\"T_97b8c_row4_col6\" class=\"data row4 col6\" >0.1115</td>\n",
       "    </tr>\n",
       "    <tr>\n",
       "      <th id=\"T_97b8c_level0_row5\" class=\"row_heading level0 row5\" >5</th>\n",
       "      <td id=\"T_97b8c_row5_col0\" class=\"data row5 col0\" >0.8039</td>\n",
       "      <td id=\"T_97b8c_row5_col1\" class=\"data row5 col1\" >0.8266</td>\n",
       "      <td id=\"T_97b8c_row5_col2\" class=\"data row5 col2\" >0.6667</td>\n",
       "      <td id=\"T_97b8c_row5_col3\" class=\"data row5 col3\" >0.7500</td>\n",
       "      <td id=\"T_97b8c_row5_col4\" class=\"data row5 col4\" >0.7059</td>\n",
       "      <td id=\"T_97b8c_row5_col5\" class=\"data row5 col5\" >0.5596</td>\n",
       "      <td id=\"T_97b8c_row5_col6\" class=\"data row5 col6\" >0.5618</td>\n",
       "    </tr>\n",
       "    <tr>\n",
       "      <th id=\"T_97b8c_level0_row6\" class=\"row_heading level0 row6\" >6</th>\n",
       "      <td id=\"T_97b8c_row6_col0\" class=\"data row6 col0\" >0.8039</td>\n",
       "      <td id=\"T_97b8c_row6_col1\" class=\"data row6 col1\" >0.8215</td>\n",
       "      <td id=\"T_97b8c_row6_col2\" class=\"data row6 col2\" >0.7778</td>\n",
       "      <td id=\"T_97b8c_row6_col3\" class=\"data row6 col3\" >0.7000</td>\n",
       "      <td id=\"T_97b8c_row6_col4\" class=\"data row6 col4\" >0.7368</td>\n",
       "      <td id=\"T_97b8c_row6_col5\" class=\"data row6 col5\" >0.5813</td>\n",
       "      <td id=\"T_97b8c_row6_col6\" class=\"data row6 col6\" >0.5833</td>\n",
       "    </tr>\n",
       "    <tr>\n",
       "      <th id=\"T_97b8c_level0_row7\" class=\"row_heading level0 row7\" >7</th>\n",
       "      <td id=\"T_97b8c_row7_col0\" class=\"data row7 col0\" >0.8039</td>\n",
       "      <td id=\"T_97b8c_row7_col1\" class=\"data row7 col1\" >0.8721</td>\n",
       "      <td id=\"T_97b8c_row7_col2\" class=\"data row7 col2\" >0.6111</td>\n",
       "      <td id=\"T_97b8c_row7_col3\" class=\"data row7 col3\" >0.7857</td>\n",
       "      <td id=\"T_97b8c_row7_col4\" class=\"data row7 col4\" >0.6875</td>\n",
       "      <td id=\"T_97b8c_row7_col5\" class=\"data row7 col5\" >0.5479</td>\n",
       "      <td id=\"T_97b8c_row7_col6\" class=\"data row7 col6\" >0.5571</td>\n",
       "    </tr>\n",
       "    <tr>\n",
       "      <th id=\"T_97b8c_level0_row8\" class=\"row_heading level0 row8\" >8</th>\n",
       "      <td id=\"T_97b8c_row8_col0\" class=\"data row8 col0\" >0.7255</td>\n",
       "      <td id=\"T_97b8c_row8_col1\" class=\"data row8 col1\" >0.7677</td>\n",
       "      <td id=\"T_97b8c_row8_col2\" class=\"data row8 col2\" >0.5556</td>\n",
       "      <td id=\"T_97b8c_row8_col3\" class=\"data row8 col3\" >0.6250</td>\n",
       "      <td id=\"T_97b8c_row8_col4\" class=\"data row8 col4\" >0.5882</td>\n",
       "      <td id=\"T_97b8c_row8_col5\" class=\"data row8 col5\" >0.3834</td>\n",
       "      <td id=\"T_97b8c_row8_col6\" class=\"data row8 col6\" >0.3849</td>\n",
       "    </tr>\n",
       "    <tr>\n",
       "      <th id=\"T_97b8c_level0_row9\" class=\"row_heading level0 row9\" >9</th>\n",
       "      <td id=\"T_97b8c_row9_col0\" class=\"data row9 col0\" >0.8235</td>\n",
       "      <td id=\"T_97b8c_row9_col1\" class=\"data row9 col1\" >0.8266</td>\n",
       "      <td id=\"T_97b8c_row9_col2\" class=\"data row9 col2\" >0.7222</td>\n",
       "      <td id=\"T_97b8c_row9_col3\" class=\"data row9 col3\" >0.7647</td>\n",
       "      <td id=\"T_97b8c_row9_col4\" class=\"data row9 col4\" >0.7429</td>\n",
       "      <td id=\"T_97b8c_row9_col5\" class=\"data row9 col5\" >0.6087</td>\n",
       "      <td id=\"T_97b8c_row9_col6\" class=\"data row9 col6\" >0.6093</td>\n",
       "    </tr>\n",
       "    <tr>\n",
       "      <th id=\"T_97b8c_level0_row10\" class=\"row_heading level0 row10\" >Mean</th>\n",
       "      <td id=\"T_97b8c_row10_col0\" class=\"data row10 col0\" >0.7627</td>\n",
       "      <td id=\"T_97b8c_row10_col1\" class=\"data row10 col1\" >0.8156</td>\n",
       "      <td id=\"T_97b8c_row10_col2\" class=\"data row10 col2\" >0.6033</td>\n",
       "      <td id=\"T_97b8c_row10_col3\" class=\"data row10 col3\" >0.6825</td>\n",
       "      <td id=\"T_97b8c_row10_col4\" class=\"data row10 col4\" >0.6365</td>\n",
       "      <td id=\"T_97b8c_row10_col5\" class=\"data row10 col5\" >0.4631</td>\n",
       "      <td id=\"T_97b8c_row10_col6\" class=\"data row10 col6\" >0.4673</td>\n",
       "    </tr>\n",
       "    <tr>\n",
       "      <th id=\"T_97b8c_level0_row11\" class=\"row_heading level0 row11\" >SD</th>\n",
       "      <td id=\"T_97b8c_row11_col0\" class=\"data row11 col0\" >0.0641</td>\n",
       "      <td id=\"T_97b8c_row11_col1\" class=\"data row11 col1\" >0.0298</td>\n",
       "      <td id=\"T_97b8c_row11_col2\" class=\"data row11 col2\" >0.1279</td>\n",
       "      <td id=\"T_97b8c_row11_col3\" class=\"data row11 col3\" >0.1161</td>\n",
       "      <td id=\"T_97b8c_row11_col4\" class=\"data row11 col4\" >0.1165</td>\n",
       "      <td id=\"T_97b8c_row11_col5\" class=\"data row11 col5\" >0.1548</td>\n",
       "      <td id=\"T_97b8c_row11_col6\" class=\"data row11 col6\" >0.1553</td>\n",
       "    </tr>\n",
       "  </tbody>\n",
       "</table>\n"
      ],
      "text/plain": [
       "<pandas.io.formats.style.Styler at 0x12a26e97850>"
      ]
     },
     "metadata": {},
     "output_type": "display_data"
    }
   ],
   "source": [
    "tuned_graident_bosting = tune_model(gbc,optimize='AUC') # tuned Gradient boosting 80.5 "
   ]
  },
  {
   "cell_type": "code",
   "execution_count": 51,
   "id": "0f1caad8",
   "metadata": {},
   "outputs": [
    {
     "data": {
      "text/html": [
       "<style type=\"text/css\">\n",
       "#T_eba93_row10_col0, #T_eba93_row10_col1, #T_eba93_row10_col2, #T_eba93_row10_col3, #T_eba93_row10_col4, #T_eba93_row10_col5, #T_eba93_row10_col6 {\n",
       "  background: yellow;\n",
       "}\n",
       "</style>\n",
       "<table id=\"T_eba93\">\n",
       "  <thead>\n",
       "    <tr>\n",
       "      <th class=\"blank level0\" >&nbsp;</th>\n",
       "      <th id=\"T_eba93_level0_col0\" class=\"col_heading level0 col0\" >Accuracy</th>\n",
       "      <th id=\"T_eba93_level0_col1\" class=\"col_heading level0 col1\" >AUC</th>\n",
       "      <th id=\"T_eba93_level0_col2\" class=\"col_heading level0 col2\" >Recall</th>\n",
       "      <th id=\"T_eba93_level0_col3\" class=\"col_heading level0 col3\" >Prec.</th>\n",
       "      <th id=\"T_eba93_level0_col4\" class=\"col_heading level0 col4\" >F1</th>\n",
       "      <th id=\"T_eba93_level0_col5\" class=\"col_heading level0 col5\" >Kappa</th>\n",
       "      <th id=\"T_eba93_level0_col6\" class=\"col_heading level0 col6\" >MCC</th>\n",
       "    </tr>\n",
       "  </thead>\n",
       "  <tbody>\n",
       "    <tr>\n",
       "      <th id=\"T_eba93_level0_row0\" class=\"row_heading level0 row0\" >0</th>\n",
       "      <td id=\"T_eba93_row0_col0\" class=\"data row0 col0\" >0.7451</td>\n",
       "      <td id=\"T_eba93_row0_col1\" class=\"data row0 col1\" >0.7993</td>\n",
       "      <td id=\"T_eba93_row0_col2\" class=\"data row0 col2\" >0.6471</td>\n",
       "      <td id=\"T_eba93_row0_col3\" class=\"data row0 col3\" >0.6111</td>\n",
       "      <td id=\"T_eba93_row0_col4\" class=\"data row0 col4\" >0.6286</td>\n",
       "      <td id=\"T_eba93_row0_col5\" class=\"data row0 col5\" >0.4348</td>\n",
       "      <td id=\"T_eba93_row0_col6\" class=\"data row0 col6\" >0.4352</td>\n",
       "    </tr>\n",
       "    <tr>\n",
       "      <th id=\"T_eba93_level0_row1\" class=\"row_heading level0 row1\" >1</th>\n",
       "      <td id=\"T_eba93_row1_col0\" class=\"data row1 col0\" >0.6667</td>\n",
       "      <td id=\"T_eba93_row1_col1\" class=\"data row1 col1\" >0.7155</td>\n",
       "      <td id=\"T_eba93_row1_col2\" class=\"data row1 col2\" >0.4444</td>\n",
       "      <td id=\"T_eba93_row1_col3\" class=\"data row1 col3\" >0.5333</td>\n",
       "      <td id=\"T_eba93_row1_col4\" class=\"data row1 col4\" >0.4848</td>\n",
       "      <td id=\"T_eba93_row1_col5\" class=\"data row1 col5\" >0.2415</td>\n",
       "      <td id=\"T_eba93_row1_col6\" class=\"data row1 col6\" >0.2437</td>\n",
       "    </tr>\n",
       "    <tr>\n",
       "      <th id=\"T_eba93_level0_row2\" class=\"row_heading level0 row2\" >2</th>\n",
       "      <td id=\"T_eba93_row2_col0\" class=\"data row2 col0\" >0.8039</td>\n",
       "      <td id=\"T_eba93_row2_col1\" class=\"data row2 col1\" >0.8434</td>\n",
       "      <td id=\"T_eba93_row2_col2\" class=\"data row2 col2\" >0.7778</td>\n",
       "      <td id=\"T_eba93_row2_col3\" class=\"data row2 col3\" >0.7000</td>\n",
       "      <td id=\"T_eba93_row2_col4\" class=\"data row2 col4\" >0.7368</td>\n",
       "      <td id=\"T_eba93_row2_col5\" class=\"data row2 col5\" >0.5813</td>\n",
       "      <td id=\"T_eba93_row2_col6\" class=\"data row2 col6\" >0.5833</td>\n",
       "    </tr>\n",
       "    <tr>\n",
       "      <th id=\"T_eba93_level0_row3\" class=\"row_heading level0 row3\" >3</th>\n",
       "      <td id=\"T_eba93_row3_col0\" class=\"data row3 col0\" >0.7451</td>\n",
       "      <td id=\"T_eba93_row3_col1\" class=\"data row3 col1\" >0.8165</td>\n",
       "      <td id=\"T_eba93_row3_col2\" class=\"data row3 col2\" >0.5000</td>\n",
       "      <td id=\"T_eba93_row3_col3\" class=\"data row3 col3\" >0.6923</td>\n",
       "      <td id=\"T_eba93_row3_col4\" class=\"data row3 col4\" >0.5806</td>\n",
       "      <td id=\"T_eba93_row3_col5\" class=\"data row3 col5\" >0.4043</td>\n",
       "      <td id=\"T_eba93_row3_col6\" class=\"data row3 col6\" >0.4154</td>\n",
       "    </tr>\n",
       "    <tr>\n",
       "      <th id=\"T_eba93_level0_row4\" class=\"row_heading level0 row4\" >4</th>\n",
       "      <td id=\"T_eba93_row4_col0\" class=\"data row4 col0\" >0.6667</td>\n",
       "      <td id=\"T_eba93_row4_col1\" class=\"data row4 col1\" >0.7475</td>\n",
       "      <td id=\"T_eba93_row4_col2\" class=\"data row4 col2\" >0.4444</td>\n",
       "      <td id=\"T_eba93_row4_col3\" class=\"data row4 col3\" >0.5333</td>\n",
       "      <td id=\"T_eba93_row4_col4\" class=\"data row4 col4\" >0.4848</td>\n",
       "      <td id=\"T_eba93_row4_col5\" class=\"data row4 col5\" >0.2415</td>\n",
       "      <td id=\"T_eba93_row4_col6\" class=\"data row4 col6\" >0.2437</td>\n",
       "    </tr>\n",
       "    <tr>\n",
       "      <th id=\"T_eba93_level0_row5\" class=\"row_heading level0 row5\" >5</th>\n",
       "      <td id=\"T_eba93_row5_col0\" class=\"data row5 col0\" >0.8039</td>\n",
       "      <td id=\"T_eba93_row5_col1\" class=\"data row5 col1\" >0.7929</td>\n",
       "      <td id=\"T_eba93_row5_col2\" class=\"data row5 col2\" >0.6667</td>\n",
       "      <td id=\"T_eba93_row5_col3\" class=\"data row5 col3\" >0.7500</td>\n",
       "      <td id=\"T_eba93_row5_col4\" class=\"data row5 col4\" >0.7059</td>\n",
       "      <td id=\"T_eba93_row5_col5\" class=\"data row5 col5\" >0.5596</td>\n",
       "      <td id=\"T_eba93_row5_col6\" class=\"data row5 col6\" >0.5618</td>\n",
       "    </tr>\n",
       "    <tr>\n",
       "      <th id=\"T_eba93_level0_row6\" class=\"row_heading level0 row6\" >6</th>\n",
       "      <td id=\"T_eba93_row6_col0\" class=\"data row6 col0\" >0.7451</td>\n",
       "      <td id=\"T_eba93_row6_col1\" class=\"data row6 col1\" >0.7845</td>\n",
       "      <td id=\"T_eba93_row6_col2\" class=\"data row6 col2\" >0.6667</td>\n",
       "      <td id=\"T_eba93_row6_col3\" class=\"data row6 col3\" >0.6316</td>\n",
       "      <td id=\"T_eba93_row6_col4\" class=\"data row6 col4\" >0.6486</td>\n",
       "      <td id=\"T_eba93_row6_col5\" class=\"data row6 col5\" >0.4489</td>\n",
       "      <td id=\"T_eba93_row6_col6\" class=\"data row6 col6\" >0.4493</td>\n",
       "    </tr>\n",
       "    <tr>\n",
       "      <th id=\"T_eba93_level0_row7\" class=\"row_heading level0 row7\" >7</th>\n",
       "      <td id=\"T_eba93_row7_col0\" class=\"data row7 col0\" >0.7647</td>\n",
       "      <td id=\"T_eba93_row7_col1\" class=\"data row7 col1\" >0.8990</td>\n",
       "      <td id=\"T_eba93_row7_col2\" class=\"data row7 col2\" >0.5000</td>\n",
       "      <td id=\"T_eba93_row7_col3\" class=\"data row7 col3\" >0.7500</td>\n",
       "      <td id=\"T_eba93_row7_col4\" class=\"data row7 col4\" >0.6000</td>\n",
       "      <td id=\"T_eba93_row7_col5\" class=\"data row7 col5\" >0.4426</td>\n",
       "      <td id=\"T_eba93_row7_col6\" class=\"data row7 col6\" >0.4609</td>\n",
       "    </tr>\n",
       "    <tr>\n",
       "      <th id=\"T_eba93_level0_row8\" class=\"row_heading level0 row8\" >8</th>\n",
       "      <td id=\"T_eba93_row8_col0\" class=\"data row8 col0\" >0.6667</td>\n",
       "      <td id=\"T_eba93_row8_col1\" class=\"data row8 col1\" >0.7441</td>\n",
       "      <td id=\"T_eba93_row8_col2\" class=\"data row8 col2\" >0.5000</td>\n",
       "      <td id=\"T_eba93_row8_col3\" class=\"data row8 col3\" >0.5294</td>\n",
       "      <td id=\"T_eba93_row8_col4\" class=\"data row8 col4\" >0.5143</td>\n",
       "      <td id=\"T_eba93_row8_col5\" class=\"data row8 col5\" >0.2609</td>\n",
       "      <td id=\"T_eba93_row8_col6\" class=\"data row8 col6\" >0.2611</td>\n",
       "    </tr>\n",
       "    <tr>\n",
       "      <th id=\"T_eba93_level0_row9\" class=\"row_heading level0 row9\" >9</th>\n",
       "      <td id=\"T_eba93_row9_col0\" class=\"data row9 col0\" >0.7647</td>\n",
       "      <td id=\"T_eba93_row9_col1\" class=\"data row9 col1\" >0.8300</td>\n",
       "      <td id=\"T_eba93_row9_col2\" class=\"data row9 col2\" >0.6111</td>\n",
       "      <td id=\"T_eba93_row9_col3\" class=\"data row9 col3\" >0.6875</td>\n",
       "      <td id=\"T_eba93_row9_col4\" class=\"data row9 col4\" >0.6471</td>\n",
       "      <td id=\"T_eba93_row9_col5\" class=\"data row9 col5\" >0.4715</td>\n",
       "      <td id=\"T_eba93_row9_col6\" class=\"data row9 col6\" >0.4733</td>\n",
       "    </tr>\n",
       "    <tr>\n",
       "      <th id=\"T_eba93_level0_row10\" class=\"row_heading level0 row10\" >Mean</th>\n",
       "      <td id=\"T_eba93_row10_col0\" class=\"data row10 col0\" >0.7373</td>\n",
       "      <td id=\"T_eba93_row10_col1\" class=\"data row10 col1\" >0.7973</td>\n",
       "      <td id=\"T_eba93_row10_col2\" class=\"data row10 col2\" >0.5758</td>\n",
       "      <td id=\"T_eba93_row10_col3\" class=\"data row10 col3\" >0.6419</td>\n",
       "      <td id=\"T_eba93_row10_col4\" class=\"data row10 col4\" >0.6032</td>\n",
       "      <td id=\"T_eba93_row10_col5\" class=\"data row10 col5\" >0.4087</td>\n",
       "      <td id=\"T_eba93_row10_col6\" class=\"data row10 col6\" >0.4128</td>\n",
       "    </tr>\n",
       "    <tr>\n",
       "      <th id=\"T_eba93_level0_row11\" class=\"row_heading level0 row11\" >SD</th>\n",
       "      <td id=\"T_eba93_row11_col0\" class=\"data row11 col0\" >0.0505</td>\n",
       "      <td id=\"T_eba93_row11_col1\" class=\"data row11 col1\" >0.0511</td>\n",
       "      <td id=\"T_eba93_row11_col2\" class=\"data row11 col2\" >0.1074</td>\n",
       "      <td id=\"T_eba93_row11_col3\" class=\"data row11 col3\" >0.0829</td>\n",
       "      <td id=\"T_eba93_row11_col4\" class=\"data row11 col4\" >0.0834</td>\n",
       "      <td id=\"T_eba93_row11_col5\" class=\"data row11 col5\" >0.1174</td>\n",
       "      <td id=\"T_eba93_row11_col6\" class=\"data row11 col6\" >0.1180</td>\n",
       "    </tr>\n",
       "  </tbody>\n",
       "</table>\n"
      ],
      "text/plain": [
       "<pandas.io.formats.style.Styler at 0x12a25e0c160>"
      ]
     },
     "metadata": {},
     "output_type": "display_data"
    }
   ],
   "source": [
    "xgb = create_model('xgboost',fold =10)"
   ]
  },
  {
   "cell_type": "markdown",
   "id": "f51f8554",
   "metadata": {},
   "source": [
    "### # lets blend this above models and see if we can beat 82.7 cat boost "
   ]
  },
  {
   "cell_type": "code",
   "execution_count": 52,
   "id": "4e8d662f",
   "metadata": {},
   "outputs": [
    {
     "data": {
      "text/html": [
       "<style type=\"text/css\">\n",
       "#T_62a61_row10_col0, #T_62a61_row10_col1, #T_62a61_row10_col2, #T_62a61_row10_col3, #T_62a61_row10_col4, #T_62a61_row10_col5, #T_62a61_row10_col6 {\n",
       "  background: yellow;\n",
       "}\n",
       "</style>\n",
       "<table id=\"T_62a61\">\n",
       "  <thead>\n",
       "    <tr>\n",
       "      <th class=\"blank level0\" >&nbsp;</th>\n",
       "      <th id=\"T_62a61_level0_col0\" class=\"col_heading level0 col0\" >Accuracy</th>\n",
       "      <th id=\"T_62a61_level0_col1\" class=\"col_heading level0 col1\" >AUC</th>\n",
       "      <th id=\"T_62a61_level0_col2\" class=\"col_heading level0 col2\" >Recall</th>\n",
       "      <th id=\"T_62a61_level0_col3\" class=\"col_heading level0 col3\" >Prec.</th>\n",
       "      <th id=\"T_62a61_level0_col4\" class=\"col_heading level0 col4\" >F1</th>\n",
       "      <th id=\"T_62a61_level0_col5\" class=\"col_heading level0 col5\" >Kappa</th>\n",
       "      <th id=\"T_62a61_level0_col6\" class=\"col_heading level0 col6\" >MCC</th>\n",
       "    </tr>\n",
       "  </thead>\n",
       "  <tbody>\n",
       "    <tr>\n",
       "      <th id=\"T_62a61_level0_row0\" class=\"row_heading level0 row0\" >0</th>\n",
       "      <td id=\"T_62a61_row0_col0\" class=\"data row0 col0\" >0.7059</td>\n",
       "      <td id=\"T_62a61_row0_col1\" class=\"data row0 col1\" >0.8183</td>\n",
       "      <td id=\"T_62a61_row0_col2\" class=\"data row0 col2\" >0.5882</td>\n",
       "      <td id=\"T_62a61_row0_col3\" class=\"data row0 col3\" >0.5556</td>\n",
       "      <td id=\"T_62a61_row0_col4\" class=\"data row0 col4\" >0.5714</td>\n",
       "      <td id=\"T_62a61_row0_col5\" class=\"data row0 col5\" >0.3478</td>\n",
       "      <td id=\"T_62a61_row0_col6\" class=\"data row0 col6\" >0.3482</td>\n",
       "    </tr>\n",
       "    <tr>\n",
       "      <th id=\"T_62a61_level0_row1\" class=\"row_heading level0 row1\" >1</th>\n",
       "      <td id=\"T_62a61_row1_col0\" class=\"data row1 col0\" >0.7059</td>\n",
       "      <td id=\"T_62a61_row1_col1\" class=\"data row1 col1\" >0.7643</td>\n",
       "      <td id=\"T_62a61_row1_col2\" class=\"data row1 col2\" >0.5000</td>\n",
       "      <td id=\"T_62a61_row1_col3\" class=\"data row1 col3\" >0.6000</td>\n",
       "      <td id=\"T_62a61_row1_col4\" class=\"data row1 col4\" >0.5455</td>\n",
       "      <td id=\"T_62a61_row1_col5\" class=\"data row1 col5\" >0.3307</td>\n",
       "      <td id=\"T_62a61_row1_col6\" class=\"data row1 col6\" >0.3337</td>\n",
       "    </tr>\n",
       "    <tr>\n",
       "      <th id=\"T_62a61_level0_row2\" class=\"row_heading level0 row2\" >2</th>\n",
       "      <td id=\"T_62a61_row2_col0\" class=\"data row2 col0\" >0.7451</td>\n",
       "      <td id=\"T_62a61_row2_col1\" class=\"data row2 col1\" >0.8384</td>\n",
       "      <td id=\"T_62a61_row2_col2\" class=\"data row2 col2\" >0.6111</td>\n",
       "      <td id=\"T_62a61_row2_col3\" class=\"data row2 col3\" >0.6471</td>\n",
       "      <td id=\"T_62a61_row2_col4\" class=\"data row2 col4\" >0.6286</td>\n",
       "      <td id=\"T_62a61_row2_col5\" class=\"data row2 col5\" >0.4348</td>\n",
       "      <td id=\"T_62a61_row2_col6\" class=\"data row2 col6\" >0.4352</td>\n",
       "    </tr>\n",
       "    <tr>\n",
       "      <th id=\"T_62a61_level0_row3\" class=\"row_heading level0 row3\" >3</th>\n",
       "      <td id=\"T_62a61_row3_col0\" class=\"data row3 col0\" >0.8039</td>\n",
       "      <td id=\"T_62a61_row3_col1\" class=\"data row3 col1\" >0.8300</td>\n",
       "      <td id=\"T_62a61_row3_col2\" class=\"data row3 col2\" >0.6111</td>\n",
       "      <td id=\"T_62a61_row3_col3\" class=\"data row3 col3\" >0.7857</td>\n",
       "      <td id=\"T_62a61_row3_col4\" class=\"data row3 col4\" >0.6875</td>\n",
       "      <td id=\"T_62a61_row3_col5\" class=\"data row3 col5\" >0.5479</td>\n",
       "      <td id=\"T_62a61_row3_col6\" class=\"data row3 col6\" >0.5571</td>\n",
       "    </tr>\n",
       "    <tr>\n",
       "      <th id=\"T_62a61_level0_row4\" class=\"row_heading level0 row4\" >4</th>\n",
       "      <td id=\"T_62a61_row4_col0\" class=\"data row4 col0\" >0.6863</td>\n",
       "      <td id=\"T_62a61_row4_col1\" class=\"data row4 col1\" >0.7677</td>\n",
       "      <td id=\"T_62a61_row4_col2\" class=\"data row4 col2\" >0.4444</td>\n",
       "      <td id=\"T_62a61_row4_col3\" class=\"data row4 col3\" >0.5714</td>\n",
       "      <td id=\"T_62a61_row4_col4\" class=\"data row4 col4\" >0.5000</td>\n",
       "      <td id=\"T_62a61_row4_col5\" class=\"data row4 col5\" >0.2766</td>\n",
       "      <td id=\"T_62a61_row4_col6\" class=\"data row4 col6\" >0.2812</td>\n",
       "    </tr>\n",
       "    <tr>\n",
       "      <th id=\"T_62a61_level0_row5\" class=\"row_heading level0 row5\" >5</th>\n",
       "      <td id=\"T_62a61_row5_col0\" class=\"data row5 col0\" >0.8039</td>\n",
       "      <td id=\"T_62a61_row5_col1\" class=\"data row5 col1\" >0.8300</td>\n",
       "      <td id=\"T_62a61_row5_col2\" class=\"data row5 col2\" >0.6667</td>\n",
       "      <td id=\"T_62a61_row5_col3\" class=\"data row5 col3\" >0.7500</td>\n",
       "      <td id=\"T_62a61_row5_col4\" class=\"data row5 col4\" >0.7059</td>\n",
       "      <td id=\"T_62a61_row5_col5\" class=\"data row5 col5\" >0.5596</td>\n",
       "      <td id=\"T_62a61_row5_col6\" class=\"data row5 col6\" >0.5618</td>\n",
       "    </tr>\n",
       "    <tr>\n",
       "      <th id=\"T_62a61_level0_row6\" class=\"row_heading level0 row6\" >6</th>\n",
       "      <td id=\"T_62a61_row6_col0\" class=\"data row6 col0\" >0.7843</td>\n",
       "      <td id=\"T_62a61_row6_col1\" class=\"data row6 col1\" >0.8535</td>\n",
       "      <td id=\"T_62a61_row6_col2\" class=\"data row6 col2\" >0.7222</td>\n",
       "      <td id=\"T_62a61_row6_col3\" class=\"data row6 col3\" >0.6842</td>\n",
       "      <td id=\"T_62a61_row6_col4\" class=\"data row6 col4\" >0.7027</td>\n",
       "      <td id=\"T_62a61_row6_col5\" class=\"data row6 col5\" >0.5337</td>\n",
       "      <td id=\"T_62a61_row6_col6\" class=\"data row6 col6\" >0.5341</td>\n",
       "    </tr>\n",
       "    <tr>\n",
       "      <th id=\"T_62a61_level0_row7\" class=\"row_heading level0 row7\" >7</th>\n",
       "      <td id=\"T_62a61_row7_col0\" class=\"data row7 col0\" >0.7843</td>\n",
       "      <td id=\"T_62a61_row7_col1\" class=\"data row7 col1\" >0.9007</td>\n",
       "      <td id=\"T_62a61_row7_col2\" class=\"data row7 col2\" >0.6111</td>\n",
       "      <td id=\"T_62a61_row7_col3\" class=\"data row7 col3\" >0.7333</td>\n",
       "      <td id=\"T_62a61_row7_col4\" class=\"data row7 col4\" >0.6667</td>\n",
       "      <td id=\"T_62a61_row7_col5\" class=\"data row7 col5\" >0.5092</td>\n",
       "      <td id=\"T_62a61_row7_col6\" class=\"data row7 col6\" >0.5138</td>\n",
       "    </tr>\n",
       "    <tr>\n",
       "      <th id=\"T_62a61_level0_row8\" class=\"row_heading level0 row8\" >8</th>\n",
       "      <td id=\"T_62a61_row8_col0\" class=\"data row8 col0\" >0.6863</td>\n",
       "      <td id=\"T_62a61_row8_col1\" class=\"data row8 col1\" >0.7980</td>\n",
       "      <td id=\"T_62a61_row8_col2\" class=\"data row8 col2\" >0.5556</td>\n",
       "      <td id=\"T_62a61_row8_col3\" class=\"data row8 col3\" >0.5556</td>\n",
       "      <td id=\"T_62a61_row8_col4\" class=\"data row8 col4\" >0.5556</td>\n",
       "      <td id=\"T_62a61_row8_col5\" class=\"data row8 col5\" >0.3131</td>\n",
       "      <td id=\"T_62a61_row8_col6\" class=\"data row8 col6\" >0.3131</td>\n",
       "    </tr>\n",
       "    <tr>\n",
       "      <th id=\"T_62a61_level0_row9\" class=\"row_heading level0 row9\" >9</th>\n",
       "      <td id=\"T_62a61_row9_col0\" class=\"data row9 col0\" >0.7843</td>\n",
       "      <td id=\"T_62a61_row9_col1\" class=\"data row9 col1\" >0.8502</td>\n",
       "      <td id=\"T_62a61_row9_col2\" class=\"data row9 col2\" >0.6667</td>\n",
       "      <td id=\"T_62a61_row9_col3\" class=\"data row9 col3\" >0.7059</td>\n",
       "      <td id=\"T_62a61_row9_col4\" class=\"data row9 col4\" >0.6857</td>\n",
       "      <td id=\"T_62a61_row9_col5\" class=\"data row9 col5\" >0.5217</td>\n",
       "      <td id=\"T_62a61_row9_col6\" class=\"data row9 col6\" >0.5222</td>\n",
       "    </tr>\n",
       "    <tr>\n",
       "      <th id=\"T_62a61_level0_row10\" class=\"row_heading level0 row10\" >Mean</th>\n",
       "      <td id=\"T_62a61_row10_col0\" class=\"data row10 col0\" >0.7490</td>\n",
       "      <td id=\"T_62a61_row10_col1\" class=\"data row10 col1\" >0.8251</td>\n",
       "      <td id=\"T_62a61_row10_col2\" class=\"data row10 col2\" >0.5977</td>\n",
       "      <td id=\"T_62a61_row10_col3\" class=\"data row10 col3\" >0.6589</td>\n",
       "      <td id=\"T_62a61_row10_col4\" class=\"data row10 col4\" >0.6249</td>\n",
       "      <td id=\"T_62a61_row10_col5\" class=\"data row10 col5\" >0.4375</td>\n",
       "      <td id=\"T_62a61_row10_col6\" class=\"data row10 col6\" >0.4400</td>\n",
       "    </tr>\n",
       "    <tr>\n",
       "      <th id=\"T_62a61_level0_row11\" class=\"row_heading level0 row11\" >SD</th>\n",
       "      <td id=\"T_62a61_row11_col0\" class=\"data row11 col0\" >0.0462</td>\n",
       "      <td id=\"T_62a61_row11_col1\" class=\"data row11 col1\" >0.0389</td>\n",
       "      <td id=\"T_62a61_row11_col2\" class=\"data row11 col2\" >0.0778</td>\n",
       "      <td id=\"T_62a61_row11_col3\" class=\"data row11 col3\" >0.0809</td>\n",
       "      <td id=\"T_62a61_row11_col4\" class=\"data row11 col4\" >0.0718</td>\n",
       "      <td id=\"T_62a61_row11_col5\" class=\"data row11 col5\" >0.1046</td>\n",
       "      <td id=\"T_62a61_row11_col6\" class=\"data row11 col6\" >0.1052</td>\n",
       "    </tr>\n",
       "  </tbody>\n",
       "</table>\n"
      ],
      "text/plain": [
       "<pandas.io.formats.style.Styler at 0x12a24c6b8b0>"
      ]
     },
     "metadata": {},
     "output_type": "display_data"
    }
   ],
   "source": [
    "blend_specific_soft = blend_models(estimator_list = [lr,gbc,xgb], method = 'soft')"
   ]
  },
  {
   "cell_type": "code",
   "execution_count": 53,
   "id": "07612f5c",
   "metadata": {},
   "outputs": [
    {
     "data": {
      "image/png": "[encoded data removed]",
      "text/plain": [
       "<Figure size 800x550 with 1 Axes>"
      ]
     },
     "metadata": {},
     "output_type": "display_data"
    }
   ],
   "source": [
    "plot_model(blend_specific_soft)"
   ]
  },
  {
   "cell_type": "code",
   "execution_count": 54,
   "id": "8da1f40c",
   "metadata": {},
   "outputs": [
    {
     "data": {
      "text/html": [
       "<div>\n",
       "<style scoped>\n",
       "    .dataframe tbody tr th:only-of-type {\n",
       "        vertical-align: middle;\n",
       "    }\n",
       "\n",
       "    .dataframe tbody tr th {\n",
       "        vertical-align: top;\n",
       "    }\n",
       "\n",
       "    .dataframe thead th {\n",
       "        text-align: right;\n",
       "    }\n",
       "</style>\n",
       "<table border=\"1\" class=\"dataframe\">\n",
       "  <thead>\n",
       "    <tr style=\"text-align: right;\">\n",
       "      <th></th>\n",
       "      <th>Model</th>\n",
       "      <th>Accuracy</th>\n",
       "      <th>AUC</th>\n",
       "      <th>Recall</th>\n",
       "      <th>Prec.</th>\n",
       "      <th>F1</th>\n",
       "      <th>Kappa</th>\n",
       "      <th>MCC</th>\n",
       "    </tr>\n",
       "  </thead>\n",
       "  <tbody>\n",
       "    <tr>\n",
       "      <th>0</th>\n",
       "      <td>Voting Classifier</td>\n",
       "      <td>0.7273</td>\n",
       "      <td>0.8235</td>\n",
       "      <td>0.5584</td>\n",
       "      <td>0.6232</td>\n",
       "      <td>0.589</td>\n",
       "      <td>0.3859</td>\n",
       "      <td>0.3872</td>\n",
       "    </tr>\n",
       "  </tbody>\n",
       "</table>\n",
       "</div>"
      ],
      "text/plain": [
       "               Model  Accuracy     AUC  Recall   Prec.     F1   Kappa     MCC\n",
       "0  Voting Classifier    0.7273  0.8235  0.5584  0.6232  0.589  0.3859  0.3872"
      ]
     },
     "metadata": {},
     "output_type": "display_data"
    },
    {
     "data": {
      "text/html": [
       "<div>\n",
       "<style scoped>\n",
       "    .dataframe tbody tr th:only-of-type {\n",
       "        vertical-align: middle;\n",
       "    }\n",
       "\n",
       "    .dataframe tbody tr th {\n",
       "        vertical-align: top;\n",
       "    }\n",
       "\n",
       "    .dataframe thead th {\n",
       "        text-align: right;\n",
       "    }\n",
       "</style>\n",
       "<table border=\"1\" class=\"dataframe\">\n",
       "  <thead>\n",
       "    <tr style=\"text-align: right;\">\n",
       "      <th></th>\n",
       "      <th>Glucose</th>\n",
       "      <th>BloodPressure</th>\n",
       "      <th>SkinThickness</th>\n",
       "      <th>Insulin</th>\n",
       "      <th>BMI</th>\n",
       "      <th>DiabetesPedigreeFunction</th>\n",
       "      <th>Age</th>\n",
       "      <th>Pregnancies_0</th>\n",
       "      <th>Pregnancies_1</th>\n",
       "      <th>Pregnancies_10</th>\n",
       "      <th>...</th>\n",
       "      <th>Pregnancies_3</th>\n",
       "      <th>Pregnancies_4</th>\n",
       "      <th>Pregnancies_5</th>\n",
       "      <th>Pregnancies_6</th>\n",
       "      <th>Pregnancies_7</th>\n",
       "      <th>Pregnancies_8</th>\n",
       "      <th>Pregnancies_9</th>\n",
       "      <th>Outcome</th>\n",
       "      <th>Label</th>\n",
       "      <th>Score</th>\n",
       "    </tr>\n",
       "  </thead>\n",
       "  <tbody>\n",
       "    <tr>\n",
       "      <th>0</th>\n",
       "      <td>-0.924344</td>\n",
       "      <td>-0.588129</td>\n",
       "      <td>0.483538</td>\n",
       "      <td>-0.926680</td>\n",
       "      <td>-0.079997</td>\n",
       "      <td>-1.567942</td>\n",
       "      <td>-0.881624</td>\n",
       "      <td>0.0</td>\n",
       "      <td>0.0</td>\n",
       "      <td>0.0</td>\n",
       "      <td>...</td>\n",
       "      <td>0.0</td>\n",
       "      <td>0.0</td>\n",
       "      <td>0.0</td>\n",
       "      <td>0.0</td>\n",
       "      <td>0.0</td>\n",
       "      <td>0.0</td>\n",
       "      <td>0.0</td>\n",
       "      <td>0</td>\n",
       "      <td>0</td>\n",
       "      <td>0.0291</td>\n",
       "    </tr>\n",
       "    <tr>\n",
       "      <th>1</th>\n",
       "      <td>-0.461501</td>\n",
       "      <td>-0.028745</td>\n",
       "      <td>0.545834</td>\n",
       "      <td>1.723106</td>\n",
       "      <td>0.618963</td>\n",
       "      <td>-1.346161</td>\n",
       "      <td>-0.271174</td>\n",
       "      <td>0.0</td>\n",
       "      <td>0.0</td>\n",
       "      <td>0.0</td>\n",
       "      <td>...</td>\n",
       "      <td>0.0</td>\n",
       "      <td>0.0</td>\n",
       "      <td>1.0</td>\n",
       "      <td>0.0</td>\n",
       "      <td>0.0</td>\n",
       "      <td>0.0</td>\n",
       "      <td>0.0</td>\n",
       "      <td>0</td>\n",
       "      <td>0</td>\n",
       "      <td>0.0957</td>\n",
       "    </tr>\n",
       "    <tr>\n",
       "      <th>2</th>\n",
       "      <td>0.354176</td>\n",
       "      <td>-0.154616</td>\n",
       "      <td>-0.457685</td>\n",
       "      <td>0.799971</td>\n",
       "      <td>-0.790368</td>\n",
       "      <td>0.388507</td>\n",
       "      <td>-1.232266</td>\n",
       "      <td>0.0</td>\n",
       "      <td>1.0</td>\n",
       "      <td>0.0</td>\n",
       "      <td>...</td>\n",
       "      <td>0.0</td>\n",
       "      <td>0.0</td>\n",
       "      <td>0.0</td>\n",
       "      <td>0.0</td>\n",
       "      <td>0.0</td>\n",
       "      <td>0.0</td>\n",
       "      <td>0.0</td>\n",
       "      <td>0</td>\n",
       "      <td>0</td>\n",
       "      <td>0.0475</td>\n",
       "    </tr>\n",
       "    <tr>\n",
       "      <th>3</th>\n",
       "      <td>1.978946</td>\n",
       "      <td>2.887167</td>\n",
       "      <td>0.296359</td>\n",
       "      <td>-0.926680</td>\n",
       "      <td>0.271549</td>\n",
       "      <td>0.245514</td>\n",
       "      <td>0.927796</td>\n",
       "      <td>1.0</td>\n",
       "      <td>0.0</td>\n",
       "      <td>0.0</td>\n",
       "      <td>...</td>\n",
       "      <td>0.0</td>\n",
       "      <td>0.0</td>\n",
       "      <td>0.0</td>\n",
       "      <td>0.0</td>\n",
       "      <td>0.0</td>\n",
       "      <td>0.0</td>\n",
       "      <td>0.0</td>\n",
       "      <td>1</td>\n",
       "      <td>1</td>\n",
       "      <td>0.8484</td>\n",
       "    </tr>\n",
       "    <tr>\n",
       "      <th>4</th>\n",
       "      <td>-1.034162</td>\n",
       "      <td>-1.934750</td>\n",
       "      <td>-0.079549</td>\n",
       "      <td>-0.337960</td>\n",
       "      <td>-0.557492</td>\n",
       "      <td>0.668346</td>\n",
       "      <td>-1.418859</td>\n",
       "      <td>0.0</td>\n",
       "      <td>1.0</td>\n",
       "      <td>0.0</td>\n",
       "      <td>...</td>\n",
       "      <td>0.0</td>\n",
       "      <td>0.0</td>\n",
       "      <td>0.0</td>\n",
       "      <td>0.0</td>\n",
       "      <td>0.0</td>\n",
       "      <td>0.0</td>\n",
       "      <td>0.0</td>\n",
       "      <td>0</td>\n",
       "      <td>0</td>\n",
       "      <td>0.0366</td>\n",
       "    </tr>\n",
       "    <tr>\n",
       "      <th>...</th>\n",
       "      <td>...</td>\n",
       "      <td>...</td>\n",
       "      <td>...</td>\n",
       "      <td>...</td>\n",
       "      <td>...</td>\n",
       "      <td>...</td>\n",
       "      <td>...</td>\n",
       "      <td>...</td>\n",
       "      <td>...</td>\n",
       "      <td>...</td>\n",
       "      <td>...</td>\n",
       "      <td>...</td>\n",
       "      <td>...</td>\n",
       "      <td>...</td>\n",
       "      <td>...</td>\n",
       "      <td>...</td>\n",
       "      <td>...</td>\n",
       "      <td>...</td>\n",
       "      <td>...</td>\n",
       "      <td>...</td>\n",
       "      <td>...</td>\n",
       "    </tr>\n",
       "    <tr>\n",
       "      <th>215</th>\n",
       "      <td>0.474845</td>\n",
       "      <td>-0.154616</td>\n",
       "      <td>0.171306</td>\n",
       "      <td>0.990961</td>\n",
       "      <td>0.417583</td>\n",
       "      <td>0.618803</td>\n",
       "      <td>-0.137636</td>\n",
       "      <td>0.0</td>\n",
       "      <td>0.0</td>\n",
       "      <td>0.0</td>\n",
       "      <td>...</td>\n",
       "      <td>0.0</td>\n",
       "      <td>0.0</td>\n",
       "      <td>0.0</td>\n",
       "      <td>1.0</td>\n",
       "      <td>0.0</td>\n",
       "      <td>0.0</td>\n",
       "      <td>0.0</td>\n",
       "      <td>1</td>\n",
       "      <td>0</td>\n",
       "      <td>0.4726</td>\n",
       "    </tr>\n",
       "    <tr>\n",
       "      <th>216</th>\n",
       "      <td>-0.255875</td>\n",
       "      <td>-0.488651</td>\n",
       "      <td>1.166565</td>\n",
       "      <td>-0.926680</td>\n",
       "      <td>0.258348</td>\n",
       "      <td>-0.655249</td>\n",
       "      <td>-0.881624</td>\n",
       "      <td>0.0</td>\n",
       "      <td>0.0</td>\n",
       "      <td>0.0</td>\n",
       "      <td>...</td>\n",
       "      <td>0.0</td>\n",
       "      <td>0.0</td>\n",
       "      <td>0.0</td>\n",
       "      <td>1.0</td>\n",
       "      <td>0.0</td>\n",
       "      <td>0.0</td>\n",
       "      <td>0.0</td>\n",
       "      <td>0</td>\n",
       "      <td>0</td>\n",
       "      <td>0.2163</td>\n",
       "    </tr>\n",
       "    <tr>\n",
       "      <th>217</th>\n",
       "      <td>0.073480</td>\n",
       "      <td>-0.383810</td>\n",
       "      <td>0.608084</td>\n",
       "      <td>1.196724</td>\n",
       "      <td>0.271549</td>\n",
       "      <td>-1.029641</td>\n",
       "      <td>0.319285</td>\n",
       "      <td>1.0</td>\n",
       "      <td>0.0</td>\n",
       "      <td>0.0</td>\n",
       "      <td>...</td>\n",
       "      <td>0.0</td>\n",
       "      <td>0.0</td>\n",
       "      <td>0.0</td>\n",
       "      <td>0.0</td>\n",
       "      <td>0.0</td>\n",
       "      <td>0.0</td>\n",
       "      <td>0.0</td>\n",
       "      <td>1</td>\n",
       "      <td>0</td>\n",
       "      <td>0.1857</td>\n",
       "    </tr>\n",
       "    <tr>\n",
       "      <th>218</th>\n",
       "      <td>-1.034162</td>\n",
       "      <td>-0.588129</td>\n",
       "      <td>-1.282540</td>\n",
       "      <td>-0.926680</td>\n",
       "      <td>-1.199614</td>\n",
       "      <td>-1.474899</td>\n",
       "      <td>0.319285</td>\n",
       "      <td>0.0</td>\n",
       "      <td>0.0</td>\n",
       "      <td>0.0</td>\n",
       "      <td>...</td>\n",
       "      <td>0.0</td>\n",
       "      <td>0.0</td>\n",
       "      <td>0.0</td>\n",
       "      <td>0.0</td>\n",
       "      <td>0.0</td>\n",
       "      <td>0.0</td>\n",
       "      <td>1.0</td>\n",
       "      <td>0</td>\n",
       "      <td>0</td>\n",
       "      <td>0.0432</td>\n",
       "    </tr>\n",
       "    <tr>\n",
       "      <th>219</th>\n",
       "      <td>-0.222153</td>\n",
       "      <td>-0.028745</td>\n",
       "      <td>0.608084</td>\n",
       "      <td>1.250794</td>\n",
       "      <td>0.284764</td>\n",
       "      <td>0.576314</td>\n",
       "      <td>-0.717621</td>\n",
       "      <td>0.0</td>\n",
       "      <td>1.0</td>\n",
       "      <td>0.0</td>\n",
       "      <td>...</td>\n",
       "      <td>0.0</td>\n",
       "      <td>0.0</td>\n",
       "      <td>0.0</td>\n",
       "      <td>0.0</td>\n",
       "      <td>0.0</td>\n",
       "      <td>0.0</td>\n",
       "      <td>0.0</td>\n",
       "      <td>0</td>\n",
       "      <td>0</td>\n",
       "      <td>0.2490</td>\n",
       "    </tr>\n",
       "  </tbody>\n",
       "</table>\n",
       "<p>220 rows × 25 columns</p>\n",
       "</div>"
      ],
      "text/plain": [
       "      Glucose  BloodPressure  SkinThickness   Insulin       BMI  \\\n",
       "0   -0.924344      -0.588129       0.483538 -0.926680 -0.079997   \n",
       "1   -0.461501      -0.028745       0.545834  1.723106  0.618963   \n",
       "2    0.354176      -0.154616      -0.457685  0.799971 -0.790368   \n",
       "3    1.978946       2.887167       0.296359 -0.926680  0.271549   \n",
       "4   -1.034162      -1.934750      -0.079549 -0.337960 -0.557492   \n",
       "..        ...            ...            ...       ...       ...   \n",
       "215  0.474845      -0.154616       0.171306  0.990961  0.417583   \n",
       "216 -0.255875      -0.488651       1.166565 -0.926680  0.258348   \n",
       "217  0.073480      -0.383810       0.608084  1.196724  0.271549   \n",
       "218 -1.034162      -0.588129      -1.282540 -0.926680 -1.199614   \n",
       "219 -0.222153      -0.028745       0.608084  1.250794  0.284764   \n",
       "\n",
       "     DiabetesPedigreeFunction       Age  Pregnancies_0  Pregnancies_1  \\\n",
       "0                   -1.567942 -0.881624            0.0            0.0   \n",
       "1                   -1.346161 -0.271174            0.0            0.0   \n",
       "2                    0.388507 -1.232266            0.0            1.0   \n",
       "3                    0.245514  0.927796            1.0            0.0   \n",
       "4                    0.668346 -1.418859            0.0            1.0   \n",
       "..                        ...       ...            ...            ...   \n",
       "215                  0.618803 -0.137636            0.0            0.0   \n",
       "216                 -0.655249 -0.881624            0.0            0.0   \n",
       "217                 -1.029641  0.319285            1.0            0.0   \n",
       "218                 -1.474899  0.319285            0.0            0.0   \n",
       "219                  0.576314 -0.717621            0.0            1.0   \n",
       "\n",
       "     Pregnancies_10  ...  Pregnancies_3  Pregnancies_4  Pregnancies_5  \\\n",
       "0               0.0  ...            0.0            0.0            0.0   \n",
       "1               0.0  ...            0.0            0.0            1.0   \n",
       "2               0.0  ...            0.0            0.0            0.0   \n",
       "3               0.0  ...            0.0            0.0            0.0   \n",
       "4               0.0  ...            0.0            0.0            0.0   \n",
       "..              ...  ...            ...            ...            ...   \n",
       "215             0.0  ...            0.0            0.0            0.0   \n",
       "216             0.0  ...            0.0            0.0            0.0   \n",
       "217             0.0  ...            0.0            0.0            0.0   \n",
       "218             0.0  ...            0.0            0.0            0.0   \n",
       "219             0.0  ...            0.0            0.0            0.0   \n",
       "\n",
       "     Pregnancies_6  Pregnancies_7  Pregnancies_8  Pregnancies_9  Outcome  \\\n",
       "0              0.0            0.0            0.0            0.0        0   \n",
       "1              0.0            0.0            0.0            0.0        0   \n",
       "2              0.0            0.0            0.0            0.0        0   \n",
       "3              0.0            0.0            0.0            0.0        1   \n",
       "4              0.0            0.0            0.0            0.0        0   \n",
       "..             ...            ...            ...            ...      ...   \n",
       "215            1.0            0.0            0.0            0.0        1   \n",
       "216            1.0            0.0            0.0            0.0        0   \n",
       "217            0.0            0.0            0.0            0.0        1   \n",
       "218            0.0            0.0            0.0            1.0        0   \n",
       "219            0.0            0.0            0.0            0.0        0   \n",
       "\n",
       "     Label   Score  \n",
       "0        0  0.0291  \n",
       "1        0  0.0957  \n",
       "2        0  0.0475  \n",
       "3        1  0.8484  \n",
       "4        0  0.0366  \n",
       "..     ...     ...  \n",
       "215      0  0.4726  \n",
       "216      0  0.2163  \n",
       "217      0  0.1857  \n",
       "218      0  0.0432  \n",
       "219      0  0.2490  \n",
       "\n",
       "[220 rows x 25 columns]"
      ]
     },
     "execution_count": 54,
     "metadata": {},
     "output_type": "execute_result"
    }
   ],
   "source": [
    "# alright lets make some predictions \n",
    "predict_model(blend_specific_soft)"
   ]
  },
  {
   "cell_type": "markdown",
   "id": "6159305c",
   "metadata": {},
   "source": [
    "## Finalizing the model"
   ]
  },
  {
   "cell_type": "code",
   "execution_count": 55,
   "id": "66143eaa",
   "metadata": {},
   "outputs": [],
   "source": [
    "final_model = finalize_model(blend_specific_soft)"
   ]
  },
  {
   "cell_type": "markdown",
   "id": "6630b5b8",
   "metadata": {},
   "source": [
    "#### # Moment of truth … let’s see how our classifier does if we can predict using the unseen data "
   ]
  },
  {
   "cell_type": "code",
   "execution_count": 56,
   "id": "a7aa2f8f",
   "metadata": {},
   "outputs": [
    {
     "data": {
      "text/html": [
       "<div>\n",
       "<style scoped>\n",
       "    .dataframe tbody tr th:only-of-type {\n",
       "        vertical-align: middle;\n",
       "    }\n",
       "\n",
       "    .dataframe tbody tr th {\n",
       "        vertical-align: top;\n",
       "    }\n",
       "\n",
       "    .dataframe thead th {\n",
       "        text-align: right;\n",
       "    }\n",
       "</style>\n",
       "<table border=\"1\" class=\"dataframe\">\n",
       "  <thead>\n",
       "    <tr style=\"text-align: right;\">\n",
       "      <th></th>\n",
       "      <th>Pregnancies</th>\n",
       "      <th>Glucose</th>\n",
       "      <th>BloodPressure</th>\n",
       "      <th>SkinThickness</th>\n",
       "      <th>Insulin</th>\n",
       "      <th>BMI</th>\n",
       "      <th>DiabetesPedigreeFunction</th>\n",
       "      <th>Age</th>\n",
       "      <th>Outcome</th>\n",
       "      <th>Label</th>\n",
       "      <th>Score</th>\n",
       "    </tr>\n",
       "  </thead>\n",
       "  <tbody>\n",
       "    <tr>\n",
       "      <th>0</th>\n",
       "      <td>2</td>\n",
       "      <td>197</td>\n",
       "      <td>70</td>\n",
       "      <td>45</td>\n",
       "      <td>543</td>\n",
       "      <td>30.5</td>\n",
       "      <td>0.158</td>\n",
       "      <td>53</td>\n",
       "      <td>1</td>\n",
       "      <td>1</td>\n",
       "      <td>0.6751</td>\n",
       "    </tr>\n",
       "    <tr>\n",
       "      <th>1</th>\n",
       "      <td>1</td>\n",
       "      <td>189</td>\n",
       "      <td>60</td>\n",
       "      <td>23</td>\n",
       "      <td>846</td>\n",
       "      <td>30.1</td>\n",
       "      <td>0.398</td>\n",
       "      <td>59</td>\n",
       "      <td>1</td>\n",
       "      <td>1</td>\n",
       "      <td>0.6651</td>\n",
       "    </tr>\n",
       "    <tr>\n",
       "      <th>2</th>\n",
       "      <td>3</td>\n",
       "      <td>180</td>\n",
       "      <td>64</td>\n",
       "      <td>25</td>\n",
       "      <td>70</td>\n",
       "      <td>34.0</td>\n",
       "      <td>0.271</td>\n",
       "      <td>26</td>\n",
       "      <td>0</td>\n",
       "      <td>1</td>\n",
       "      <td>0.8927</td>\n",
       "    </tr>\n",
       "    <tr>\n",
       "      <th>3</th>\n",
       "      <td>7</td>\n",
       "      <td>150</td>\n",
       "      <td>66</td>\n",
       "      <td>42</td>\n",
       "      <td>342</td>\n",
       "      <td>34.7</td>\n",
       "      <td>0.718</td>\n",
       "      <td>42</td>\n",
       "      <td>0</td>\n",
       "      <td>1</td>\n",
       "      <td>0.8754</td>\n",
       "    </tr>\n",
       "    <tr>\n",
       "      <th>4</th>\n",
       "      <td>4</td>\n",
       "      <td>129</td>\n",
       "      <td>86</td>\n",
       "      <td>20</td>\n",
       "      <td>270</td>\n",
       "      <td>35.1</td>\n",
       "      <td>0.231</td>\n",
       "      <td>23</td>\n",
       "      <td>0</td>\n",
       "      <td>0</td>\n",
       "      <td>0.1647</td>\n",
       "    </tr>\n",
       "    <tr>\n",
       "      <th>5</th>\n",
       "      <td>5</td>\n",
       "      <td>95</td>\n",
       "      <td>72</td>\n",
       "      <td>33</td>\n",
       "      <td>0</td>\n",
       "      <td>37.7</td>\n",
       "      <td>0.370</td>\n",
       "      <td>27</td>\n",
       "      <td>0</td>\n",
       "      <td>0</td>\n",
       "      <td>0.1935</td>\n",
       "    </tr>\n",
       "    <tr>\n",
       "      <th>6</th>\n",
       "      <td>2</td>\n",
       "      <td>107</td>\n",
       "      <td>74</td>\n",
       "      <td>30</td>\n",
       "      <td>100</td>\n",
       "      <td>33.6</td>\n",
       "      <td>0.404</td>\n",
       "      <td>23</td>\n",
       "      <td>0</td>\n",
       "      <td>0</td>\n",
       "      <td>0.0945</td>\n",
       "    </tr>\n",
       "    <tr>\n",
       "      <th>7</th>\n",
       "      <td>5</td>\n",
       "      <td>132</td>\n",
       "      <td>80</td>\n",
       "      <td>0</td>\n",
       "      <td>0</td>\n",
       "      <td>26.8</td>\n",
       "      <td>0.186</td>\n",
       "      <td>69</td>\n",
       "      <td>0</td>\n",
       "      <td>0</td>\n",
       "      <td>0.1458</td>\n",
       "    </tr>\n",
       "    <tr>\n",
       "      <th>8</th>\n",
       "      <td>1</td>\n",
       "      <td>88</td>\n",
       "      <td>30</td>\n",
       "      <td>42</td>\n",
       "      <td>99</td>\n",
       "      <td>55.0</td>\n",
       "      <td>0.496</td>\n",
       "      <td>26</td>\n",
       "      <td>1</td>\n",
       "      <td>0</td>\n",
       "      <td>0.3080</td>\n",
       "    </tr>\n",
       "    <tr>\n",
       "      <th>9</th>\n",
       "      <td>2</td>\n",
       "      <td>99</td>\n",
       "      <td>52</td>\n",
       "      <td>15</td>\n",
       "      <td>94</td>\n",
       "      <td>24.6</td>\n",
       "      <td>0.637</td>\n",
       "      <td>21</td>\n",
       "      <td>0</td>\n",
       "      <td>0</td>\n",
       "      <td>0.0321</td>\n",
       "    </tr>\n",
       "    <tr>\n",
       "      <th>10</th>\n",
       "      <td>0</td>\n",
       "      <td>113</td>\n",
       "      <td>80</td>\n",
       "      <td>16</td>\n",
       "      <td>0</td>\n",
       "      <td>31.0</td>\n",
       "      <td>0.874</td>\n",
       "      <td>21</td>\n",
       "      <td>0</td>\n",
       "      <td>0</td>\n",
       "      <td>0.2833</td>\n",
       "    </tr>\n",
       "    <tr>\n",
       "      <th>11</th>\n",
       "      <td>0</td>\n",
       "      <td>104</td>\n",
       "      <td>76</td>\n",
       "      <td>0</td>\n",
       "      <td>0</td>\n",
       "      <td>18.4</td>\n",
       "      <td>0.582</td>\n",
       "      <td>27</td>\n",
       "      <td>0</td>\n",
       "      <td>0</td>\n",
       "      <td>0.0397</td>\n",
       "    </tr>\n",
       "    <tr>\n",
       "      <th>12</th>\n",
       "      <td>3</td>\n",
       "      <td>111</td>\n",
       "      <td>56</td>\n",
       "      <td>39</td>\n",
       "      <td>0</td>\n",
       "      <td>30.1</td>\n",
       "      <td>0.557</td>\n",
       "      <td>30</td>\n",
       "      <td>0</td>\n",
       "      <td>1</td>\n",
       "      <td>0.6169</td>\n",
       "    </tr>\n",
       "    <tr>\n",
       "      <th>13</th>\n",
       "      <td>5</td>\n",
       "      <td>96</td>\n",
       "      <td>74</td>\n",
       "      <td>18</td>\n",
       "      <td>67</td>\n",
       "      <td>33.6</td>\n",
       "      <td>0.997</td>\n",
       "      <td>43</td>\n",
       "      <td>0</td>\n",
       "      <td>1</td>\n",
       "      <td>0.5261</td>\n",
       "    </tr>\n",
       "    <tr>\n",
       "      <th>14</th>\n",
       "      <td>4</td>\n",
       "      <td>129</td>\n",
       "      <td>60</td>\n",
       "      <td>12</td>\n",
       "      <td>231</td>\n",
       "      <td>27.5</td>\n",
       "      <td>0.527</td>\n",
       "      <td>31</td>\n",
       "      <td>0</td>\n",
       "      <td>0</td>\n",
       "      <td>0.4429</td>\n",
       "    </tr>\n",
       "    <tr>\n",
       "      <th>15</th>\n",
       "      <td>1</td>\n",
       "      <td>0</td>\n",
       "      <td>68</td>\n",
       "      <td>35</td>\n",
       "      <td>0</td>\n",
       "      <td>32.0</td>\n",
       "      <td>0.389</td>\n",
       "      <td>22</td>\n",
       "      <td>0</td>\n",
       "      <td>0</td>\n",
       "      <td>0.0134</td>\n",
       "    </tr>\n",
       "    <tr>\n",
       "      <th>16</th>\n",
       "      <td>8</td>\n",
       "      <td>95</td>\n",
       "      <td>72</td>\n",
       "      <td>0</td>\n",
       "      <td>0</td>\n",
       "      <td>36.8</td>\n",
       "      <td>0.485</td>\n",
       "      <td>57</td>\n",
       "      <td>0</td>\n",
       "      <td>0</td>\n",
       "      <td>0.2816</td>\n",
       "    </tr>\n",
       "    <tr>\n",
       "      <th>17</th>\n",
       "      <td>1</td>\n",
       "      <td>125</td>\n",
       "      <td>50</td>\n",
       "      <td>40</td>\n",
       "      <td>167</td>\n",
       "      <td>33.3</td>\n",
       "      <td>0.962</td>\n",
       "      <td>28</td>\n",
       "      <td>1</td>\n",
       "      <td>0</td>\n",
       "      <td>0.4022</td>\n",
       "    </tr>\n",
       "    <tr>\n",
       "      <th>18</th>\n",
       "      <td>4</td>\n",
       "      <td>146</td>\n",
       "      <td>78</td>\n",
       "      <td>0</td>\n",
       "      <td>0</td>\n",
       "      <td>38.5</td>\n",
       "      <td>0.520</td>\n",
       "      <td>67</td>\n",
       "      <td>1</td>\n",
       "      <td>1</td>\n",
       "      <td>0.6597</td>\n",
       "    </tr>\n",
       "    <tr>\n",
       "      <th>19</th>\n",
       "      <td>1</td>\n",
       "      <td>133</td>\n",
       "      <td>102</td>\n",
       "      <td>28</td>\n",
       "      <td>140</td>\n",
       "      <td>32.8</td>\n",
       "      <td>0.234</td>\n",
       "      <td>45</td>\n",
       "      <td>1</td>\n",
       "      <td>0</td>\n",
       "      <td>0.4953</td>\n",
       "    </tr>\n",
       "    <tr>\n",
       "      <th>20</th>\n",
       "      <td>0</td>\n",
       "      <td>118</td>\n",
       "      <td>64</td>\n",
       "      <td>23</td>\n",
       "      <td>89</td>\n",
       "      <td>0.0</td>\n",
       "      <td>1.731</td>\n",
       "      <td>21</td>\n",
       "      <td>0</td>\n",
       "      <td>0</td>\n",
       "      <td>0.0411</td>\n",
       "    </tr>\n",
       "    <tr>\n",
       "      <th>21</th>\n",
       "      <td>1</td>\n",
       "      <td>109</td>\n",
       "      <td>60</td>\n",
       "      <td>8</td>\n",
       "      <td>182</td>\n",
       "      <td>25.4</td>\n",
       "      <td>0.947</td>\n",
       "      <td>21</td>\n",
       "      <td>0</td>\n",
       "      <td>0</td>\n",
       "      <td>0.0343</td>\n",
       "    </tr>\n",
       "    <tr>\n",
       "      <th>22</th>\n",
       "      <td>2</td>\n",
       "      <td>127</td>\n",
       "      <td>58</td>\n",
       "      <td>24</td>\n",
       "      <td>275</td>\n",
       "      <td>27.7</td>\n",
       "      <td>1.600</td>\n",
       "      <td>25</td>\n",
       "      <td>0</td>\n",
       "      <td>0</td>\n",
       "      <td>0.2124</td>\n",
       "    </tr>\n",
       "    <tr>\n",
       "      <th>23</th>\n",
       "      <td>1</td>\n",
       "      <td>172</td>\n",
       "      <td>68</td>\n",
       "      <td>49</td>\n",
       "      <td>579</td>\n",
       "      <td>42.4</td>\n",
       "      <td>0.702</td>\n",
       "      <td>28</td>\n",
       "      <td>1</td>\n",
       "      <td>0</td>\n",
       "      <td>0.4950</td>\n",
       "    </tr>\n",
       "    <tr>\n",
       "      <th>24</th>\n",
       "      <td>1</td>\n",
       "      <td>119</td>\n",
       "      <td>88</td>\n",
       "      <td>41</td>\n",
       "      <td>170</td>\n",
       "      <td>45.3</td>\n",
       "      <td>0.507</td>\n",
       "      <td>26</td>\n",
       "      <td>0</td>\n",
       "      <td>0</td>\n",
       "      <td>0.3607</td>\n",
       "    </tr>\n",
       "    <tr>\n",
       "      <th>25</th>\n",
       "      <td>2</td>\n",
       "      <td>119</td>\n",
       "      <td>0</td>\n",
       "      <td>0</td>\n",
       "      <td>0</td>\n",
       "      <td>19.6</td>\n",
       "      <td>0.832</td>\n",
       "      <td>72</td>\n",
       "      <td>0</td>\n",
       "      <td>0</td>\n",
       "      <td>0.1801</td>\n",
       "    </tr>\n",
       "    <tr>\n",
       "      <th>26</th>\n",
       "      <td>2</td>\n",
       "      <td>83</td>\n",
       "      <td>65</td>\n",
       "      <td>28</td>\n",
       "      <td>66</td>\n",
       "      <td>36.8</td>\n",
       "      <td>0.629</td>\n",
       "      <td>24</td>\n",
       "      <td>0</td>\n",
       "      <td>0</td>\n",
       "      <td>0.0560</td>\n",
       "    </tr>\n",
       "    <tr>\n",
       "      <th>27</th>\n",
       "      <td>5</td>\n",
       "      <td>110</td>\n",
       "      <td>68</td>\n",
       "      <td>0</td>\n",
       "      <td>0</td>\n",
       "      <td>26.0</td>\n",
       "      <td>0.292</td>\n",
       "      <td>30</td>\n",
       "      <td>0</td>\n",
       "      <td>0</td>\n",
       "      <td>0.0902</td>\n",
       "    </tr>\n",
       "    <tr>\n",
       "      <th>28</th>\n",
       "      <td>6</td>\n",
       "      <td>0</td>\n",
       "      <td>68</td>\n",
       "      <td>41</td>\n",
       "      <td>0</td>\n",
       "      <td>39.0</td>\n",
       "      <td>0.727</td>\n",
       "      <td>41</td>\n",
       "      <td>1</td>\n",
       "      <td>0</td>\n",
       "      <td>0.1944</td>\n",
       "    </tr>\n",
       "    <tr>\n",
       "      <th>29</th>\n",
       "      <td>3</td>\n",
       "      <td>116</td>\n",
       "      <td>74</td>\n",
       "      <td>15</td>\n",
       "      <td>105</td>\n",
       "      <td>26.3</td>\n",
       "      <td>0.107</td>\n",
       "      <td>24</td>\n",
       "      <td>0</td>\n",
       "      <td>0</td>\n",
       "      <td>0.0386</td>\n",
       "    </tr>\n",
       "    <tr>\n",
       "      <th>30</th>\n",
       "      <td>0</td>\n",
       "      <td>117</td>\n",
       "      <td>66</td>\n",
       "      <td>31</td>\n",
       "      <td>188</td>\n",
       "      <td>30.8</td>\n",
       "      <td>0.493</td>\n",
       "      <td>22</td>\n",
       "      <td>0</td>\n",
       "      <td>0</td>\n",
       "      <td>0.1096</td>\n",
       "    </tr>\n",
       "    <tr>\n",
       "      <th>31</th>\n",
       "      <td>8</td>\n",
       "      <td>186</td>\n",
       "      <td>90</td>\n",
       "      <td>35</td>\n",
       "      <td>225</td>\n",
       "      <td>34.5</td>\n",
       "      <td>0.423</td>\n",
       "      <td>37</td>\n",
       "      <td>1</td>\n",
       "      <td>1</td>\n",
       "      <td>0.9290</td>\n",
       "    </tr>\n",
       "    <tr>\n",
       "      <th>32</th>\n",
       "      <td>1</td>\n",
       "      <td>143</td>\n",
       "      <td>86</td>\n",
       "      <td>30</td>\n",
       "      <td>330</td>\n",
       "      <td>30.1</td>\n",
       "      <td>0.892</td>\n",
       "      <td>23</td>\n",
       "      <td>0</td>\n",
       "      <td>0</td>\n",
       "      <td>0.1768</td>\n",
       "    </tr>\n",
       "    <tr>\n",
       "      <th>33</th>\n",
       "      <td>2</td>\n",
       "      <td>120</td>\n",
       "      <td>54</td>\n",
       "      <td>0</td>\n",
       "      <td>0</td>\n",
       "      <td>26.8</td>\n",
       "      <td>0.455</td>\n",
       "      <td>27</td>\n",
       "      <td>0</td>\n",
       "      <td>0</td>\n",
       "      <td>0.1721</td>\n",
       "    </tr>\n",
       "    <tr>\n",
       "      <th>34</th>\n",
       "      <td>1</td>\n",
       "      <td>144</td>\n",
       "      <td>82</td>\n",
       "      <td>46</td>\n",
       "      <td>180</td>\n",
       "      <td>46.1</td>\n",
       "      <td>0.335</td>\n",
       "      <td>46</td>\n",
       "      <td>1</td>\n",
       "      <td>1</td>\n",
       "      <td>0.7596</td>\n",
       "    </tr>\n",
       "    <tr>\n",
       "      <th>35</th>\n",
       "      <td>13</td>\n",
       "      <td>158</td>\n",
       "      <td>114</td>\n",
       "      <td>0</td>\n",
       "      <td>0</td>\n",
       "      <td>42.3</td>\n",
       "      <td>0.257</td>\n",
       "      <td>44</td>\n",
       "      <td>1</td>\n",
       "      <td>1</td>\n",
       "      <td>0.8103</td>\n",
       "    </tr>\n",
       "    <tr>\n",
       "      <th>36</th>\n",
       "      <td>2</td>\n",
       "      <td>106</td>\n",
       "      <td>56</td>\n",
       "      <td>27</td>\n",
       "      <td>165</td>\n",
       "      <td>29.0</td>\n",
       "      <td>0.426</td>\n",
       "      <td>22</td>\n",
       "      <td>0</td>\n",
       "      <td>0</td>\n",
       "      <td>0.0603</td>\n",
       "    </tr>\n",
       "    <tr>\n",
       "      <th>37</th>\n",
       "      <td>1</td>\n",
       "      <td>147</td>\n",
       "      <td>94</td>\n",
       "      <td>41</td>\n",
       "      <td>0</td>\n",
       "      <td>49.3</td>\n",
       "      <td>0.358</td>\n",
       "      <td>27</td>\n",
       "      <td>1</td>\n",
       "      <td>1</td>\n",
       "      <td>0.7673</td>\n",
       "    </tr>\n",
       "  </tbody>\n",
       "</table>\n",
       "</div>"
      ],
      "text/plain": [
       "    Pregnancies  Glucose  BloodPressure  SkinThickness  Insulin   BMI  \\\n",
       "0             2      197             70             45      543  30.5   \n",
       "1             1      189             60             23      846  30.1   \n",
       "2             3      180             64             25       70  34.0   \n",
       "3             7      150             66             42      342  34.7   \n",
       "4             4      129             86             20      270  35.1   \n",
       "5             5       95             72             33        0  37.7   \n",
       "6             2      107             74             30      100  33.6   \n",
       "7             5      132             80              0        0  26.8   \n",
       "8             1       88             30             42       99  55.0   \n",
       "9             2       99             52             15       94  24.6   \n",
       "10            0      113             80             16        0  31.0   \n",
       "11            0      104             76              0        0  18.4   \n",
       "12            3      111             56             39        0  30.1   \n",
       "13            5       96             74             18       67  33.6   \n",
       "14            4      129             60             12      231  27.5   \n",
       "15            1        0             68             35        0  32.0   \n",
       "16            8       95             72              0        0  36.8   \n",
       "17            1      125             50             40      167  33.3   \n",
       "18            4      146             78              0        0  38.5   \n",
       "19            1      133            102             28      140  32.8   \n",
       "20            0      118             64             23       89   0.0   \n",
       "21            1      109             60              8      182  25.4   \n",
       "22            2      127             58             24      275  27.7   \n",
       "23            1      172             68             49      579  42.4   \n",
       "24            1      119             88             41      170  45.3   \n",
       "25            2      119              0              0        0  19.6   \n",
       "26            2       83             65             28       66  36.8   \n",
       "27            5      110             68              0        0  26.0   \n",
       "28            6        0             68             41        0  39.0   \n",
       "29            3      116             74             15      105  26.3   \n",
       "30            0      117             66             31      188  30.8   \n",
       "31            8      186             90             35      225  34.5   \n",
       "32            1      143             86             30      330  30.1   \n",
       "33            2      120             54              0        0  26.8   \n",
       "34            1      144             82             46      180  46.1   \n",
       "35           13      158            114              0        0  42.3   \n",
       "36            2      106             56             27      165  29.0   \n",
       "37            1      147             94             41        0  49.3   \n",
       "\n",
       "    DiabetesPedigreeFunction  Age  Outcome  Label   Score  \n",
       "0                      0.158   53        1      1  0.6751  \n",
       "1                      0.398   59        1      1  0.6651  \n",
       "2                      0.271   26        0      1  0.8927  \n",
       "3                      0.718   42        0      1  0.8754  \n",
       "4                      0.231   23        0      0  0.1647  \n",
       "5                      0.370   27        0      0  0.1935  \n",
       "6                      0.404   23        0      0  0.0945  \n",
       "7                      0.186   69        0      0  0.1458  \n",
       "8                      0.496   26        1      0  0.3080  \n",
       "9                      0.637   21        0      0  0.0321  \n",
       "10                     0.874   21        0      0  0.2833  \n",
       "11                     0.582   27        0      0  0.0397  \n",
       "12                     0.557   30        0      1  0.6169  \n",
       "13                     0.997   43        0      1  0.5261  \n",
       "14                     0.527   31        0      0  0.4429  \n",
       "15                     0.389   22        0      0  0.0134  \n",
       "16                     0.485   57        0      0  0.2816  \n",
       "17                     0.962   28        1      0  0.4022  \n",
       "18                     0.520   67        1      1  0.6597  \n",
       "19                     0.234   45        1      0  0.4953  \n",
       "20                     1.731   21        0      0  0.0411  \n",
       "21                     0.947   21        0      0  0.0343  \n",
       "22                     1.600   25        0      0  0.2124  \n",
       "23                     0.702   28        1      0  0.4950  \n",
       "24                     0.507   26        0      0  0.3607  \n",
       "25                     0.832   72        0      0  0.1801  \n",
       "26                     0.629   24        0      0  0.0560  \n",
       "27                     0.292   30        0      0  0.0902  \n",
       "28                     0.727   41        1      0  0.1944  \n",
       "29                     0.107   24        0      0  0.0386  \n",
       "30                     0.493   22        0      0  0.1096  \n",
       "31                     0.423   37        1      1  0.9290  \n",
       "32                     0.892   23        0      0  0.1768  \n",
       "33                     0.455   27        0      0  0.1721  \n",
       "34                     0.335   46        1      1  0.7596  \n",
       "35                     0.257   44        1      1  0.8103  \n",
       "36                     0.426   22        0      0  0.0603  \n",
       "37                     0.358   27        1      1  0.7673  "
      ]
     },
     "execution_count": 56,
     "metadata": {},
     "output_type": "execute_result"
    }
   ],
   "source": [
    "unseen_predictions = predict_model(final_model, data=data_unseen)\n",
    "unseen_predictions"
   ]
  },
  {
   "cell_type": "markdown",
   "id": "8a5b05cf",
   "metadata": {},
   "source": [
    "#### Label and score are added to the data frame. • Label is the predicted outcome • Score is the predicted probability"
   ]
  },
  {
   "cell_type": "code",
   "execution_count": null,
   "id": "3eed8401",
   "metadata": {},
   "outputs": [],
   "source": []
  }
 ],
 "metadata": {
  "kernelspec": {
   "display_name": "pycaret",
   "language": "python",
   "name": "pycaret"
  },
  "language_info": {
   "codemirror_mode": {
    "name": "ipython",
    "version": 3
   },
   "file_extension": ".py",
   "mimetype": "text/x-python",
   "name": "python",
   "nbconvert_exporter": "python",
   "pygments_lexer": "ipython3",
   "version": "3.10.4"
  }
 },
 "nbformat": 4,
 "nbformat_minor": 5
}
